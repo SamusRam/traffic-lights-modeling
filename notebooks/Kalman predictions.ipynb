{
 "cells": [
  {
   "cell_type": "code",
   "execution_count": 40,
   "metadata": {},
   "outputs": [],
   "source": [
    "import os\n",
    "import sys\n",
    "sys.path.insert(0, '../scripts/')\n",
    "from l5kit_modified import AgentDatasetModified\n",
    "from kalman import KalmanTrackerPredictor\n",
    "import pickle\n",
    "from l5kit.evaluation import write_pred_csv, compute_metrics_csv, create_chopped_dataset\n",
    "from l5kit.evaluation.metrics import neg_multi_log_likelihood\n",
    "from l5kit.data import LocalDataManager, ChunkedDataset\n",
    "from pathlib import Path\n",
    "import numpy as np\n",
    "from torch.utils.data import DataLoader\n",
    "import matplotlib.pyplot as plt\n",
    "%matplotlib inline\n",
    "    \n",
    "os.environ[\"L5KIT_DATA_FOLDER\"] = \"../input/\""
   ]
  },
  {
   "cell_type": "code",
   "execution_count": 31,
   "metadata": {},
   "outputs": [],
   "source": [
    "with open('../output/experiment__20200830-111447/best_parameters_18911.51709306535.pkl', 'rb') as f:\n",
    "    kalman_params = pickle.load(f)"
   ]
  },
  {
   "cell_type": "code",
   "execution_count": 32,
   "metadata": {},
   "outputs": [
    {
     "name": "stderr",
     "output_type": "stream",
     "text": [
      "copying: 100%|██████████| 100/100 [00:01<00:00, 52.96it/s]\n",
      "extracting GT:   3%|▎         | 15/480 [00:00<00:03, 147.97it/s]"
     ]
    },
    {
     "name": "stdout",
     "output_type": "stream",
     "text": [
      "warning, you're running with a custom agents_mask\n"
     ]
    },
    {
     "name": "stderr",
     "output_type": "stream",
     "text": [
      "extracting GT: 100%|██████████| 480/480 [00:03<00:00, 146.03it/s]\n"
     ]
    }
   ],
   "source": [
    "FILTER_AGENTS_THRESHOLD = 0.5\n",
    "NUM_FRAMES_TO_CHOP = 100\n",
    "FUTURE_NUM_FRAMES = 50\n",
    "MIN_FUTURE_STEPS = 10\n",
    "BATCH_SIZE = 256\n",
    "# dataset_path = 'scenes/validate.zarr'\n",
    "dataset_path = 'scenes/sample.zarr'\n",
    "\n",
    "dm = LocalDataManager(None)\n",
    "eval_base_path = create_chopped_dataset(dm.require(dataset_path),\n",
    "                                                     FILTER_AGENTS_THRESHOLD,\n",
    "                                                     NUM_FRAMES_TO_CHOP,\n",
    "                                                     FUTURE_NUM_FRAMES,\n",
    "                                                     MIN_FUTURE_STEPS)\n",
    "eval_gt_path = os.path.join(eval_base_path, 'gt.csv')\n",
    "\n",
    "eval_zarr_path = str(Path(eval_base_path) / Path(dm.require(dataset_path)).name)\n",
    "eval_mask_path = str(Path(eval_base_path) / \"mask.npz\")\n",
    "# eval_zarr = ChunkedDataset(eval_zarr_path).open()\n",
    "# eval_mask = np.load(eval_mask_path)[\"arr_0\"]\n",
    "eval_zarr = ChunkedDataset(dm.require(dataset_path)).open()\n",
    "\n",
    "cfg = {\"model_params\": {\"history_num_frames\": kalman_params[\"history_num_frames\"],\n",
    "                                    \"history_step_size\": kalman_params[\"history_step_size\"],\n",
    "                                    \"future_num_frames\": FUTURE_NUM_FRAMES,\n",
    "                                    \"future_step_size\": 1},\n",
    "                   \"raster_params\": {\"filter_agents_threshold\": FILTER_AGENTS_THRESHOLD}}\n",
    "\n",
    "del kalman_params['history_num_frames']\n",
    "del kalman_params['history_step_size']"
   ]
  },
  {
   "cell_type": "code",
   "execution_count": 33,
   "metadata": {},
   "outputs": [
    {
     "name": "stdout",
     "output_type": "stream",
     "text": [
      "warning, you're running with a custom agents_mask\n"
     ]
    }
   ],
   "source": [
    "dataset = AgentDatasetModified(cfg, eval_zarr, agents_mask=eval_mask)\n",
    "dataloader = DataLoader(dataset, shuffle=False, batch_size=1,\n",
    "                        num_workers=2,\n",
    "                        collate_fn=lambda x: x)"
   ]
  },
  {
   "cell_type": "code",
   "execution_count": 34,
   "metadata": {},
   "outputs": [],
   "source": [
    "data_iter = iter(dataloader)\n",
    "data = next(data_iter)"
   ]
  },
  {
   "cell_type": "code",
   "execution_count": 35,
   "metadata": {},
   "outputs": [],
   "source": [
    "history_measurements = np.hstack((data[0]['history_positions'],\n",
    "                                      data[0]['history_velocities']))\n",
    "kalman_params.update({'init_measurements': history_measurements[0]})\n",
    "kalman_tracker_predictor = KalmanTrackerPredictor(**kalman_params)\n",
    "kalman_tracker_predictor.process_history(history_measurements)\n",
    "future_coords_offsets = kalman_tracker_predictor.predict_future_positions()"
   ]
  },
  {
   "cell_type": "code",
   "execution_count": 36,
   "metadata": {},
   "outputs": [
    {
     "data": {
      "text/plain": [
       "array([[[-1.05801833e-02,  6.91358680e-02],\n",
       "        [ 5.77482823e-01,  1.07781597e+00],\n",
       "        [ 1.15482615e+00,  2.10255873e+00],\n",
       "        [ 1.72144979e+00,  3.14336414e+00],\n",
       "        [ 2.27735374e+00,  4.20023220e+00],\n",
       "        [ 2.82253801e+00,  5.27316292e+00],\n",
       "        [ 3.35700260e+00,  6.36215629e+00],\n",
       "        [ 3.88074751e+00,  7.46721231e+00],\n",
       "        [ 4.39377273e+00,  8.58833098e+00],\n",
       "        [ 4.89607827e+00,  9.72551230e+00],\n",
       "        [ 5.38766413e+00,  1.08787563e+01],\n",
       "        [ 5.86853031e+00,  1.20480629e+01],\n",
       "        [ 6.33867680e+00,  1.32334322e+01],\n",
       "        [ 6.79810360e+00,  1.44348641e+01],\n",
       "        [ 7.24681073e+00,  1.56523587e+01],\n",
       "        [ 7.68479817e+00,  1.68859159e+01],\n",
       "        [ 8.11206593e+00,  1.81355358e+01],\n",
       "        [ 8.52861400e+00,  1.94012184e+01],\n",
       "        [ 8.93444239e+00,  2.06829636e+01],\n",
       "        [ 9.32955110e+00,  2.19807714e+01],\n",
       "        [ 9.71394012e+00,  2.32946419e+01],\n",
       "        [ 1.00876095e+01,  2.46245751e+01],\n",
       "        [ 1.04505591e+01,  2.59705709e+01],\n",
       "        [ 1.08027891e+01,  2.73326293e+01],\n",
       "        [ 1.11442994e+01,  2.87107504e+01],\n",
       "        [ 1.14750900e+01,  3.01049342e+01],\n",
       "        [ 1.17951609e+01,  3.15151806e+01],\n",
       "        [ 1.21045122e+01,  3.29414897e+01],\n",
       "        [ 1.24031437e+01,  3.43838614e+01],\n",
       "        [ 1.26910556e+01,  3.58422958e+01],\n",
       "        [ 1.29682478e+01,  3.73167928e+01],\n",
       "        [ 1.32347203e+01,  3.88073525e+01],\n",
       "        [ 1.34904731e+01,  4.03139748e+01],\n",
       "        [ 1.37355063e+01,  4.18366598e+01],\n",
       "        [ 1.39698197e+01,  4.33754074e+01],\n",
       "        [ 1.41934135e+01,  4.49302177e+01],\n",
       "        [ 1.44062876e+01,  4.65010906e+01],\n",
       "        [ 1.46084420e+01,  4.80880262e+01],\n",
       "        [ 1.47998767e+01,  4.96910245e+01],\n",
       "        [ 1.49805918e+01,  5.13100854e+01],\n",
       "        [ 1.51505871e+01,  5.29452089e+01],\n",
       "        [ 1.53098628e+01,  5.45963951e+01],\n",
       "        [ 1.54584188e+01,  5.62636440e+01],\n",
       "        [ 1.55962551e+01,  5.79469555e+01],\n",
       "        [ 1.57233717e+01,  5.96463296e+01],\n",
       "        [ 1.58397687e+01,  6.13617664e+01],\n",
       "        [ 1.59454459e+01,  6.30932659e+01],\n",
       "        [ 1.60404035e+01,  6.48408280e+01],\n",
       "        [ 1.61246414e+01,  6.66044528e+01],\n",
       "        [ 1.61981596e+01,  6.83841402e+01]]])"
      ]
     },
     "execution_count": 36,
     "metadata": {},
     "output_type": "execute_result"
    }
   ],
   "source": [
    "future_coords_offsets"
   ]
  },
  {
   "cell_type": "code",
   "execution_count": 37,
   "metadata": {},
   "outputs": [
    {
     "data": {
      "text/plain": [
       "array([[  0.       ,   0.       ],\n",
       "       [ -0.6275635,  -0.9484863],\n",
       "       [ -1.2175903,  -1.9182129],\n",
       "       [ -1.8330688,  -2.857666 ],\n",
       "       [ -2.4545898,  -3.791504 ],\n",
       "       [ -3.1329346,  -4.690918 ],\n",
       "       [ -3.7797852,  -5.5874023],\n",
       "       [ -4.410034 ,  -6.508545 ],\n",
       "       [ -5.065674 ,  -7.4069824],\n",
       "       [ -5.6602173,  -8.342285 ],\n",
       "       [ -6.3793945,  -9.234131 ],\n",
       "       [ -7.1811523, -10.107178 ],\n",
       "       [ -7.7507935, -11.003662 ],\n",
       "       [ -8.315918 , -11.899414 ],\n",
       "       [ -8.878418 , -12.800049 ],\n",
       "       [ -9.473694 , -13.889404 ],\n",
       "       [-10.021973 , -14.45752  ],\n",
       "       [-10.658569 , -15.466309 ],\n",
       "       [-11.2438965, -16.33545  ],\n",
       "       [-11.826843 , -17.208984 ],\n",
       "       [-12.587585 , -18.127197 ],\n",
       "       [-13.477295 , -19.106445 ],\n",
       "       [-13.977539 , -19.968262 ],\n",
       "       [-13.94104  , -21.115967 ],\n",
       "       [-14.550293 , -21.93042  ],\n",
       "       [-15.1692505, -22.73584  ],\n",
       "       [-15.792603 , -23.548828 ],\n",
       "       [-16.673462 , -24.325195 ],\n",
       "       [-16.975708 , -25.2771   ],\n",
       "       [-17.574707 , -26.093262 ],\n",
       "       [-18.319397 , -26.888428 ],\n",
       "       [-19.12439  , -27.659668 ],\n",
       "       [-19.948242 , -28.5083   ],\n",
       "       [-20.251343 , -29.70996  ],\n",
       "       [-20.717957 , -30.528809 ],\n",
       "       [-21.190796 , -31.342041 ],\n",
       "       [-21.661072 , -32.16455  ],\n",
       "       [-22.139648 , -32.98706  ],\n",
       "       [-22.612488 , -33.80371  ],\n",
       "       [-22.901001 , -34.73828  ],\n",
       "       [-23.573853 , -35.483643 ],\n",
       "       [-24.232788 , -36.23828  ],\n",
       "       [-24.762634 , -37.1604   ],\n",
       "       [-25.238708 , -38.010254 ],\n",
       "       [-25.581482 , -38.94873  ],\n",
       "       [-26.093567 , -39.825928 ],\n",
       "       [-26.590881 , -40.636475 ],\n",
       "       [-26.926819 , -41.543457 ],\n",
       "       [-27.861938 , -42.193604 ],\n",
       "       [-28.343933 , -43.114746 ],\n",
       "       [-28.900269 , -43.993896 ],\n",
       "       [-29.589355 , -44.692627 ],\n",
       "       [-30.668762 , -46.26758  ],\n",
       "       [-32.1745   , -48.90503  ],\n",
       "       [  0.       ,   0.       ],\n",
       "       [  0.       ,   0.       ],\n",
       "       [  0.       ,   0.       ],\n",
       "       [  0.       ,   0.       ],\n",
       "       [  0.       ,   0.       ],\n",
       "       [  0.       ,   0.       ],\n",
       "       [  0.       ,   0.       ],\n",
       "       [  0.       ,   0.       ],\n",
       "       [  0.       ,   0.       ],\n",
       "       [  0.       ,   0.       ],\n",
       "       [  0.       ,   0.       ],\n",
       "       [  0.       ,   0.       ],\n",
       "       [  0.       ,   0.       ],\n",
       "       [  0.       ,   0.       ],\n",
       "       [  0.       ,   0.       ],\n",
       "       [  0.       ,   0.       ],\n",
       "       [  0.       ,   0.       ],\n",
       "       [  0.       ,   0.       ],\n",
       "       [  0.       ,   0.       ],\n",
       "       [  0.       ,   0.       ],\n",
       "       [  0.       ,   0.       ],\n",
       "       [  0.       ,   0.       ],\n",
       "       [  0.       ,   0.       ],\n",
       "       [  0.       ,   0.       ],\n",
       "       [  0.       ,   0.       ],\n",
       "       [  0.       ,   0.       ],\n",
       "       [  0.       ,   0.       ],\n",
       "       [  0.       ,   0.       ],\n",
       "       [  0.       ,   0.       ],\n",
       "       [  0.       ,   0.       ],\n",
       "       [  0.       ,   0.       ],\n",
       "       [  0.       ,   0.       ],\n",
       "       [  0.       ,   0.       ],\n",
       "       [  0.       ,   0.       ],\n",
       "       [  0.       ,   0.       ],\n",
       "       [  0.       ,   0.       ],\n",
       "       [  0.       ,   0.       ],\n",
       "       [  0.       ,   0.       ],\n",
       "       [  0.       ,   0.       ],\n",
       "       [  0.       ,   0.       ],\n",
       "       [  0.       ,   0.       ],\n",
       "       [  0.       ,   0.       ],\n",
       "       [  0.       ,   0.       ],\n",
       "       [  0.       ,   0.       ],\n",
       "       [  0.       ,   0.       ],\n",
       "       [  0.       ,   0.       ],\n",
       "       [  0.       ,   0.       ]], dtype=float32)"
      ]
     },
     "execution_count": 37,
     "metadata": {},
     "output_type": "execute_result"
    }
   ],
   "source": [
    "data[0]['history_positions']"
   ]
  },
  {
   "cell_type": "code",
   "execution_count": 38,
   "metadata": {},
   "outputs": [
    {
     "data": {
      "text/plain": [
       "dict_keys(['target_positions', 'target_yaws', 'target_availabilities', 'history_positions', 'history_yaws', 'history_availabilities', 'track_id', 'timestamp', 'centroid', 'yaw', 'extent', 'label_probabilities', 'history_velocities'])"
      ]
     },
     "execution_count": 38,
     "metadata": {},
     "output_type": "execute_result"
    }
   ],
   "source": [
    "data[0].keys()"
   ]
  },
  {
   "cell_type": "code",
   "execution_count": 39,
   "metadata": {},
   "outputs": [
    {
     "data": {
      "text/plain": [
       "array([[ 0.6135864 ,  0.96435547],\n",
       "       [ 1.2299805 ,  1.9335938 ],\n",
       "       [ 1.8994751 ,  2.8764648 ],\n",
       "       [ 2.526123  ,  3.8549805 ],\n",
       "       [ 3.2017822 ,  4.8085938 ],\n",
       "       [ 3.8516846 ,  5.779541  ],\n",
       "       [ 4.5216675 ,  6.7355957 ],\n",
       "       [ 5.185608  ,  7.725342  ],\n",
       "       [ 5.850464  ,  8.697266  ],\n",
       "       [ 6.501587  ,  9.654785  ],\n",
       "       [ 7.1538696 , 10.618164  ],\n",
       "       [ 7.795288  , 11.660156  ],\n",
       "       [ 8.483093  , 12.656006  ],\n",
       "       [ 9.131958  , 13.689941  ],\n",
       "       [ 9.741089  , 14.720703  ],\n",
       "       [10.388794  , 15.73999   ],\n",
       "       [11.054749  , 16.72461   ],\n",
       "       [11.720276  , 17.715576  ],\n",
       "       [12.394775  , 18.693115  ],\n",
       "       [13.068237  , 19.673828  ],\n",
       "       [13.64502   , 20.63916   ],\n",
       "       [14.303406  , 21.618652  ],\n",
       "       [14.92804   , 22.618164  ],\n",
       "       [15.552307  , 23.637451  ],\n",
       "       [16.182007  , 24.648193  ],\n",
       "       [16.812317  , 25.660645  ],\n",
       "       [17.472778  , 26.685303  ],\n",
       "       [18.121765  , 27.694092  ],\n",
       "       [18.76123   , 28.697998  ],\n",
       "       [19.466919  , 29.672363  ],\n",
       "       [20.109985  , 30.678467  ],\n",
       "       [20.784485  , 31.702393  ],\n",
       "       [21.545105  , 32.584473  ],\n",
       "       [22.248108  , 33.57251   ],\n",
       "       [22.934814  , 34.56958   ],\n",
       "       [23.619934  , 35.555664  ],\n",
       "       [24.22351   , 36.60327   ],\n",
       "       [24.859253  , 37.618896  ],\n",
       "       [25.519348  , 38.633545  ],\n",
       "       [26.23529   , 39.61377   ],\n",
       "       [26.864868  , 40.62671   ],\n",
       "       [27.48767   , 41.671387  ],\n",
       "       [28.177979  , 42.669434  ],\n",
       "       [28.803223  , 43.702637  ],\n",
       "       [29.466614  , 44.72705   ],\n",
       "       [29.747314  , 45.299072  ],\n",
       "       [30.15686   , 45.94458   ],\n",
       "       [30.559814  , 46.536133  ],\n",
       "       [30.932251  , 47.100098  ],\n",
       "       [31.521667  , 48.007324  ]], dtype=float32)"
      ]
     },
     "execution_count": 39,
     "metadata": {},
     "output_type": "execute_result"
    }
   ],
   "source": [
    "data[0]['target_positions']"
   ]
  },
  {
   "cell_type": "code",
   "execution_count": 50,
   "metadata": {},
   "outputs": [
    {
     "data": {
      "text/plain": [
       "<matplotlib.collections.PathCollection at 0x7f9536917a50>"
      ]
     },
     "execution_count": 50,
     "metadata": {},
     "output_type": "execute_result"
    },
    {
     "data": {
      "image/png": "[encoded data removed]",
      "text/plain": [
       "<Figure size 1224x864 with 1 Axes>"
      ]
     },
     "metadata": {
      "needs_background": "light"
     },
     "output_type": "display_data"
    }
   ],
   "source": [
    "plt.figure(figsize=(17, 12))\n",
    "plt.scatter(data[0]['history_positions'][:54, 0], data[0]['history_positions'][:54, 1], c='b')\n",
    "plt.scatter(future_coords_offsets[0][:, 0], future_coords_offsets[0][:, 1], c='r')\n",
    "plt.scatter(data[0]['target_positions'][:54, 0], data[0]['target_positions'][:54, 1], c='black')"
   ]
  }
 ],
 "metadata": {
  "kernelspec": {
   "display_name": "Python 3",
   "language": "python",
   "name": "python3"
  },
  "language_info": {
   "codemirror_mode": {
    "name": "ipython",
    "version": 3
   },
   "file_extension": ".py",
   "mimetype": "text/x-python",
   "name": "python",
   "nbconvert_exporter": "python",
   "pygments_lexer": "ipython3",
   "version": "3.7.8"
  }
 },
 "nbformat": 4,
 "nbformat_minor": 4
}
