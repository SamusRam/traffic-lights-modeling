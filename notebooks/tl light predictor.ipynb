{
 "cells": [
  {
   "cell_type": "markdown",
   "metadata": {},
   "source": [
    "# base text classification model: https://www.analyticsvidhya.com/blog/2020/01/first-text-classification-in-pytorch/\n",
    "# tte model:\n",
    "https://github.com/ragulpr/wtte-rnn/blob/master/examples/keras/standalone_simple_example.ipynb\n",
    "https://stackoverflow.com/questions/50196212/what-is-the-state-of-the-art-way-of-doing-regression-with-probability-in-pytorch"
   ]
  },
  {
   "cell_type": "code",
   "execution_count": 1,
   "metadata": {},
   "outputs": [
    {
     "data": {
      "application/vnd.jupyter.widget-view+json": {
       "model_id": "700fcd0d89574c6a8ec7b52ce185798e",
       "version_major": 2,
       "version_minor": 0
      },
      "text/plain": [
       "HBox(children=(FloatProgress(value=0.0, description='Computing lane adjacency lists', max=528.0, style=Progres…"
      ]
     },
     "metadata": {},
     "output_type": "display_data"
    },
    {
     "name": "stdout",
     "output_type": "stream",
     "text": [
      "\n"
     ]
    },
    {
     "data": {
      "application/vnd.jupyter.widget-view+json": {
       "model_id": "7b378a5f2b8b461ca03df2a00998745c",
       "version_major": 2,
       "version_minor": 0
      },
      "text/plain": [
       "HBox(children=(FloatProgress(value=0.0, description='Computing lane adjacency lists', max=7977.0, style=Progre…"
      ]
     },
     "metadata": {},
     "output_type": "display_data"
    },
    {
     "name": "stdout",
     "output_type": "stream",
     "text": [
      "\n"
     ]
    },
    {
     "data": {
      "application/vnd.jupyter.widget-view+json": {
       "model_id": "1aa9e5ba77f44f7bbaf85b805dac5907",
       "version_major": 2,
       "version_minor": 0
      },
      "text/plain": [
       "HBox(children=(FloatProgress(value=1.0, bar_style='info', description='Lane blocked sets..', layout=Layout(wid…"
      ]
     },
     "metadata": {},
     "output_type": "display_data"
    },
    {
     "name": "stdout",
     "output_type": "stream",
     "text": [
      "\n"
     ]
    }
   ],
   "source": [
    "import os\n",
    "import pandas as pd\n",
    "import numpy as np\n",
    "from collections import defaultdict\n",
    "from tqdm.auto import tqdm\n",
    "import sys\n",
    "sys.path.insert(0, '../scripts')\n",
    "from map_traffic_lights_data import master_intersection_idx_2_tl_signal_indices\n",
    "# early stopping source: https://github.com/Bjarten/early-stopping-pytorch/blob/master/pytorchtools.py\n",
    "from pytorchtools import EarlyStopping\n",
    "from datetime import timedelta\n",
    "from typing import Dict, List\n",
    "import torch \n",
    "from torch.autograd import Variable\n",
    "from torch.utils.data import Dataset\n",
    "from torch.utils.data import DataLoader\n",
    "from torch import nn, optim\n",
    "from torch.distributions import Weibull\n",
    "torch.manual_seed(42)\n",
    "torch.backends.cudnn.deterministic = True"
   ]
  },
  {
   "cell_type": "code",
   "execution_count": 2,
   "metadata": {},
   "outputs": [],
   "source": [
    "os.environ['CUDA_LAUNCH_BLOCKING'] = '1'"
   ]
  },
  {
   "cell_type": "code",
   "execution_count": 3,
   "metadata": {},
   "outputs": [],
   "source": [
    "TRAIN_INPUT_PATHS = ['../input/tl_events_df_val.hdf5']\n",
    "VAL_INPUT_PATH = '../input/tl_events_df_sample.hdf5'\n",
    "HIST_LEN_FRAMES = 100\n",
    "\n",
    "joined_train_name = ''"
   ]
  },
  {
   "cell_type": "code",
   "execution_count": 4,
   "metadata": {},
   "outputs": [
    {
     "data": {
      "application/vnd.jupyter.widget-view+json": {
       "model_id": "2ad0539e0f8645a7ab3796e6e392cc33",
       "version_major": 2,
       "version_minor": 0
      },
      "text/plain": [
       "HBox(children=(FloatProgress(value=0.0, description='Last valid...', max=1494704.0, style=ProgressStyle(descri…"
      ]
     },
     "metadata": {},
     "output_type": "display_data"
    },
    {
     "name": "stdout",
     "output_type": "stream",
     "text": [
      "\n",
      "Warn! Not storing the precomputed results!\n"
     ]
    },
    {
     "data": {
      "application/vnd.jupyter.widget-view+json": {
       "model_id": "9c4efdb01a144cde8a69c6eee7122cc4",
       "version_major": 2,
       "version_minor": 0
      },
      "text/plain": [
       "HBox(children=(FloatProgress(value=0.0, description='Last valid...', max=8897.0, style=ProgressStyle(descripti…"
      ]
     },
     "metadata": {},
     "output_type": "display_data"
    },
    {
     "name": "stdout",
     "output_type": "stream",
     "text": [
      "\n"
     ]
    }
   ],
   "source": [
    "tl_events_df_trn = pd.concat([pd.read_hdf(path, key='data') for path in TRAIN_INPUT_PATHS])\n",
    "tl_events_df_val = pd.read_hdf(VAL_INPUT_PATH, key='data')\n",
    "\n",
    "if 'continuous_time' not in tl_events_df_trn.columns:\n",
    "    tl_events_df_trn['continuous_time'] = ((tl_events_df_trn['timestamp'].diff(1) < timedelta(seconds=0.31)) &  # observed 0.3 sec jumps (assuming it's between consec. scenes)\n",
    "                                           (tl_events_df_trn['master_intersection_idx'].shift(1) == tl_events_df_trn['master_intersection_idx']))\n",
    "if 'continuous_time' not in tl_events_df_val.columns:\n",
    "    tl_events_df_val['continuous_time'] = ((tl_events_df_val['timestamp'].diff(1) < timedelta(seconds=0.31)) &\n",
    "                                       (tl_events_df_val['master_intersection_idx'].shift(1) == tl_events_df_val['master_intersection_idx']))\n",
    "\n",
    "\n",
    "def compute_last_valid_idx_for_seq(tl_events_df):\n",
    "    tl_events_df['valid_hist_len'] = -1\n",
    "    for row_i in tqdm(range(len(tl_events_df)), desc='Last valid...'):\n",
    "        last_valid_idx = row_i\n",
    "        while (row_i - last_valid_idx + 1 < HIST_LEN_FRAMES and \n",
    "               tl_events_df['continuous_time'].iloc[last_valid_idx]):\n",
    "            last_valid_idx -= 1\n",
    "        tl_events_df['valid_hist_len'].iloc[row_i] = row_i - last_valid_idx\n",
    "        \n",
    "if 'valid_hist_len' not in tl_events_df_trn.columns:\n",
    "    compute_last_valid_idx_for_seq(tl_events_df_trn)\n",
    "    if len(TRAIN_INPUT_PATHS) == 1:\n",
    "        tl_events_df_trn.to_hdf(TRAIN_INPUT_PATHS[0], key='data')\n",
    "    elif joined_train_name != '':\n",
    "        tl_events_df_trn.to_hdf(os.path.join('../input', joined_train_name), key='data')\n",
    "    else:\n",
    "        print('Warn! Not storing the precomputed results!')\n",
    "if 'valid_hist_len' not in tl_events_df_val.columns:\n",
    "    compute_last_valid_idx_for_seq(tl_events_df_val)\n",
    "    \n"
   ]
  },
  {
   "cell_type": "code",
   "execution_count": 5,
   "metadata": {},
   "outputs": [
    {
     "data": {
      "application/vnd.jupyter.widget-view+json": {
       "model_id": "e693b5ea5bc5413eaeadd4f7a52c42b8",
       "version_major": 2,
       "version_minor": 0
      },
      "text/plain": [
       "HBox(children=(FloatProgress(value=0.0, max=10.0), HTML(value='')))"
      ]
     },
     "metadata": {},
     "output_type": "display_data"
    },
    {
     "name": "stdout",
     "output_type": "stream",
     "text": [
      "\n"
     ]
    }
   ],
   "source": [
    "intersection_2_train_vocab = defaultdict(dict)\n",
    "intersection_2_term_freq = defaultdict(dict)\n",
    "\n",
    "for intersection_idx in tqdm(tl_events_df_trn['master_intersection_idx'].unique()):\n",
    "    intersection_related_inputs = tl_events_df_trn.loc[tl_events_df_trn['master_intersection_idx'] == intersection_idx,\n",
    "                                                       'rnn_inputs_raw'].values\n",
    "    for rnn_input_raw in intersection_related_inputs:\n",
    "        for token, _ in rnn_input_raw:\n",
    "            if token not in intersection_2_train_vocab[intersection_idx]:\n",
    "                intersection_2_train_vocab[intersection_idx][token] = len(intersection_2_train_vocab[intersection_idx])\n",
    "                intersection_2_term_freq[intersection_idx][token] = 1\n",
    "            else:\n",
    "                intersection_2_term_freq[intersection_idx][token] += 1"
   ]
  },
  {
   "cell_type": "code",
   "execution_count": 6,
   "metadata": {},
   "outputs": [
    {
     "data": {
      "text/html": [
       "<div>\n",
       "<style scoped>\n",
       "    .dataframe tbody tr th:only-of-type {\n",
       "        vertical-align: middle;\n",
       "    }\n",
       "\n",
       "    .dataframe tbody tr th {\n",
       "        vertical-align: top;\n",
       "    }\n",
       "\n",
       "    .dataframe thead th {\n",
       "        text-align: right;\n",
       "    }\n",
       "</style>\n",
       "<table border=\"1\" class=\"dataframe\">\n",
       "  <thead>\n",
       "    <tr style=\"text-align: right;\">\n",
       "      <th></th>\n",
       "      <th>master_intersection_idx</th>\n",
       "      <th>timestamp</th>\n",
       "      <th>rnn_inputs_raw</th>\n",
       "      <th>tl_signal_classes</th>\n",
       "      <th>time_to_tl_change</th>\n",
       "      <th>continuous_time</th>\n",
       "      <th>last_valid_idx</th>\n",
       "      <th>valid_hist_len</th>\n",
       "    </tr>\n",
       "  </thead>\n",
       "  <tbody>\n",
       "    <tr>\n",
       "      <th>542589</th>\n",
       "      <td>0</td>\n",
       "      <td>2019-11-21 11:28:36.903368-08:00</td>\n",
       "      <td>[(NTTe, (0, 1, 0, 0))]</td>\n",
       "      <td>{8: 0, 9: 0}</td>\n",
       "      <td>{8: 5.01, 9: 5.01}</td>\n",
       "      <td>False</td>\n",
       "      <td>0</td>\n",
       "      <td>0</td>\n",
       "    </tr>\n",
       "    <tr>\n",
       "      <th>542590</th>\n",
       "      <td>0</td>\n",
       "      <td>2019-11-21 11:28:37.003465-08:00</td>\n",
       "      <td>[(NTTe, (0, 1, 0, 0))]</td>\n",
       "      <td>{8: 0, 9: 0}</td>\n",
       "      <td>{8: 5.01, 9: 5.01}</td>\n",
       "      <td>True</td>\n",
       "      <td>0</td>\n",
       "      <td>1</td>\n",
       "    </tr>\n",
       "    <tr>\n",
       "      <th>542591</th>\n",
       "      <td>0</td>\n",
       "      <td>2019-11-21 11:28:37.103479-08:00</td>\n",
       "      <td>[(NTTe, (0, 1, 0, 0))]</td>\n",
       "      <td>{8: 0, 9: 0}</td>\n",
       "      <td>{8: 5.01, 9: 5.01}</td>\n",
       "      <td>True</td>\n",
       "      <td>0</td>\n",
       "      <td>2</td>\n",
       "    </tr>\n",
       "    <tr>\n",
       "      <th>542592</th>\n",
       "      <td>0</td>\n",
       "      <td>2019-11-21 11:28:37.203406-08:00</td>\n",
       "      <td>[(NTTe, (0, 1, 0, 0)), (/ggb, (0, 1, 0, 0))]</td>\n",
       "      <td>{8: 0, 9: 0}</td>\n",
       "      <td>{8: 5.01, 9: 5.01}</td>\n",
       "      <td>True</td>\n",
       "      <td>0</td>\n",
       "      <td>3</td>\n",
       "    </tr>\n",
       "    <tr>\n",
       "      <th>542593</th>\n",
       "      <td>0</td>\n",
       "      <td>2019-11-21 11:28:37.303268-08:00</td>\n",
       "      <td>[(NTTe, (0, 1, 0, 0))]</td>\n",
       "      <td>{8: 0, 9: 0}</td>\n",
       "      <td>{8: 5.01, 9: 5.01}</td>\n",
       "      <td>True</td>\n",
       "      <td>0</td>\n",
       "      <td>4</td>\n",
       "    </tr>\n",
       "  </tbody>\n",
       "</table>\n",
       "</div>"
      ],
      "text/plain": [
       "        master_intersection_idx                        timestamp  \\\n",
       "542589                        0 2019-11-21 11:28:36.903368-08:00   \n",
       "542590                        0 2019-11-21 11:28:37.003465-08:00   \n",
       "542591                        0 2019-11-21 11:28:37.103479-08:00   \n",
       "542592                        0 2019-11-21 11:28:37.203406-08:00   \n",
       "542593                        0 2019-11-21 11:28:37.303268-08:00   \n",
       "\n",
       "                                      rnn_inputs_raw tl_signal_classes  \\\n",
       "542589                        [(NTTe, (0, 1, 0, 0))]      {8: 0, 9: 0}   \n",
       "542590                        [(NTTe, (0, 1, 0, 0))]      {8: 0, 9: 0}   \n",
       "542591                        [(NTTe, (0, 1, 0, 0))]      {8: 0, 9: 0}   \n",
       "542592  [(NTTe, (0, 1, 0, 0)), (/ggb, (0, 1, 0, 0))]      {8: 0, 9: 0}   \n",
       "542593                        [(NTTe, (0, 1, 0, 0))]      {8: 0, 9: 0}   \n",
       "\n",
       "         time_to_tl_change  continuous_time  last_valid_idx  valid_hist_len  \n",
       "542589  {8: 5.01, 9: 5.01}            False               0               0  \n",
       "542590  {8: 5.01, 9: 5.01}             True               0               1  \n",
       "542591  {8: 5.01, 9: 5.01}             True               0               2  \n",
       "542592  {8: 5.01, 9: 5.01}             True               0               3  \n",
       "542593  {8: 5.01, 9: 5.01}             True               0               4  "
      ]
     },
     "execution_count": 6,
     "metadata": {},
     "output_type": "execute_result"
    }
   ],
   "source": [
    "tl_events_df_trn.head()"
   ]
  },
  {
   "cell_type": "code",
   "execution_count": 7,
   "metadata": {},
   "outputs": [
    {
     "data": {
      "text/plain": [
       "7    282925\n",
       "5    259391\n",
       "1    241756\n",
       "6    174061\n",
       "2    145207\n",
       "8    139277\n",
       "4    123622\n",
       "3     80357\n",
       "0     24539\n",
       "9     23569\n",
       "Name: tl_signal_classes, dtype: int64"
      ]
     },
     "execution_count": 7,
     "metadata": {},
     "output_type": "execute_result"
    }
   ],
   "source": [
    "tl_events_df_trn['tl_signal_classes'].map(len).value_counts()"
   ]
  },
  {
   "cell_type": "code",
   "execution_count": 8,
   "metadata": {},
   "outputs": [
    {
     "name": "stdout",
     "output_type": "stream",
     "text": [
      "intersection 0, vocab size: 61\n",
      "20 the least frequent terms: [('H+dt_Qvqr_lane1', 1), ('H+dt_Qvqr_dPy4_lane1', 5), ('bAUT', 9), ('Pdk+_lane5', 10), ('bAUT_fxmM', 10), ('udk+_yPdC', 11), ('PrF8_lane37', 14), ('Pdk+_TPdC', 23), ('lane37_urF8', 42), ('H+dt_dPy4', 76), ('H+dt', 83), ('H+dt_lane1', 84), ('mFtj', 84), ('lane5', 101), ('0OdC_wck+', 124), ('Pdk+_lane5_udk+', 189), ('Qcp7_wqF8', 239), ('nwfo', 270), ('mVvp', 369), ('urF8', 515)]\n",
      "intersection 1, vocab size: 89\n",
      "20 the least frequent terms: [('9dFW_vb5l', 1), ('BE65_U3MV_gE65', 1), ('QLqW_pxWe_qpj8', 1), ('qpj8_vb5l', 2), ('U3MV_lane3', 2), ('l0b4', 2), ('NQvE_pxWe', 2), ('jHNg_v+ie', 2), ('ceFW_vLqW', 3), ('QLqW_lane25', 3), ('7je8_j19R_lane23', 3), ('CINg', 3), ('BE65_U3MV', 3), ('U3MV', 3), ('lane25_vb5l', 3), ('12MV_iD65', 4), ('9dFW_NQvE', 5), ('vb5l', 5), ('BE65_U3MV_lane3', 5), ('DQuy_cje8_j19R', 6)]\n",
      "intersection 2, vocab size: 32\n",
      "20 the least frequent terms: [('/Q/Y_cja6', 1), ('/Q/Y_xFWI', 1), ('XmBT', 4), ('/Q/Y_eR/Y_xFWI', 6), ('H1RI', 9), ('M7z1', 9), ('SQDT', 11), ('H1RI_lane35', 14), ('84vV', 15), ('DhCj_bh2y', 15), ('vwWL', 15), ('DhCj_xL/3', 16), ('R5/9', 26), ('Kojp', 51), ('zvWg', 79), ('m1RI', 94), ('lJJP', 150), ('2XNO', 204), ('eR/Y', 418), ('/Q/Y', 424)]\n",
      "intersection 3, vocab size: 24\n",
      "20 the least frequent terms: [('mv8W', 1), ('q/kK', 1), ('lLm1', 4), ('SOK7', 6), ('GLm1', 8), ('7cfh', 9), ('lLm1_lane19', 30), ('7cfh_8OiE', 37), ('f8HH_ou8W', 44), ('cYH0', 47), ('ou8W', 136), ('JhJI', 223), ('aBqp', 812), ('2mol', 1494), ('Rmh7', 1549), ('yYeP', 1635), ('KezG', 1779), ('xASc', 1930), ('q4jn', 2027), ('RsPp', 2774)]\n",
      "intersection 4, vocab size: 123\n",
      "20 the least frequent terms: [('N4Gm_ZAJ6_nVNK_ql+z', 1), ('EwNX_N4Gm_ZAJ6_lQSv', 1), ('y3uS', 1), ('CBiG_EwNX_N4Gm_ZAJ6_nVNK_ql+z', 2), ('fyDW_pd+2', 2), ('N4Gm_nVNK_w8g9', 2), ('EwNX_N4Gm_lQSv', 3), ('CBiG_EwNX_N4Gm_nVNK_ql+z', 3), ('6W6+_bKz9', 3), ('CBiG_EwNX_N4Gm_ql+z', 4), ('T3uS', 4), ('nVNK_w8g9', 4), ('Ae1d', 7), ('7/jP_c/jP', 8), ('pd+2_rvEC', 10), ('nlu4', 10), ('CBiG_ZAJ6_ql+z', 17), ('N4Gm_ZAJ6_w8g9', 18), ('Gmu4', 20), ('N4Gm_ZAJ6_lQSv', 21)]\n",
      "intersection 5, vocab size: 88\n",
      "20 the least frequent terms: [('4OV_LgvO', 1), ('9JUZ_jVRW', 1), ('LgvO_bjRy', 1), ('jgwU_nQMC', 1), ('R++f_Y0kf', 1), ('F3bp_bE4V', 1), ('2TqQ_XTqQ_jxA0_lane11', 1), ('4Z0+', 1), ('D7g1_bjRy_t8I1', 2), ('iD65', 2), ('bjRy_lRMC', 2), ('bjRy_jVRW', 3), ('k3bp_y9qC', 3), ('jxA0_lane11', 3), ('lane15', 3), ('Y0kf_gmQf', 4), ('t8I1', 4), ('F3bp_y9qC', 4), ('Y0kf_qgvO', 7), ('DDUl', 9)]\n",
      "intersection 6, vocab size: 32\n",
      "20 the least frequent terms: [('7ULS_lane29', 1), ('WWGF', 7), ('jUyh', 28), ('wtG4', 29), ('jUyh_lane31', 121), ('1WGF', 147), ('3BET_Ph2V', 181), ('PuG4', 241), ('W9g+_Y8g+', 257), ('38g+_W9g+', 703), ('38g+_Y8g+', 904), ('Y8g+', 958), ('yovl', 1373), ('aLv7', 1526), ('pmaD', 1619), ('38g+', 1675), ('W9g+', 1774), ('3VcD', 2364), ('I4aR', 3123), ('38g+_W9g+_Y8g+', 3707)]\n",
      "intersection 7, vocab size: 348\n",
      "20 the least frequent terms: [('G6ui_Ib85_mzvz_n5ui', 1), ('1WHi_WWHi_e+cf_uTFZ_wSFZ', 1), ('+js+_PTFZ_WWHi_e+cf_uTFZ', 1), ('JYvy_ilp5_urfv', 1), ('1WHi_vRim', 1), ('1WHi_PTFZ', 1), ('+js+_1WHi_3VHi_PTFZ_WWHi_e+cf', 1), ('+js+_1WHi_PTFZ_WWHi_uTFZ_wSFZ', 1), ('+js+_PTFZ_WWHi_uTFZ_wSFZ', 1), ('AjPr_urfv', 1), ('+jPr_AjPr_JYvy_qXvy_urfv', 1), ('PTFZ_vRim', 1), ('J1sa_n5ui', 1), ('F0vz_k0vz_l6ui_lBia_pPd7', 1), ('1WHi_3VHi_WWHi_wSFZ', 1), ('OGQQ_fjPr_ilp5', 1), ('OGQQ_fjPr_ilp5_qXvy', 1), ('JYvy_OGQQ_fjPr_ilp5_qXvy', 1), ('+js+_WWHi_e+cf_uTFZ', 1), ('+js+_PTFZ_e+cf_wSFZ', 1)]\n",
      "intersection 8, vocab size: 42\n",
      "20 the least frequent terms: [('865w_u8yN', 1), ('/GQY', 1), ('4cl0', 2), ('YC2Y_wmAx', 2), ('wmAx_xziw', 2), ('CjQK', 2), ('N9yN_Y3VV', 2), ('4cl0_N9yN_u8yN', 2), ('CjQK_wmAx_xziw', 3), ('roW_wmAx', 4), ('lane41_u8yN', 4), ('4cl0_u8yN', 6), ('9qCn', 6), ('N9yN_lane41', 7), ('a7+8', 8), ('N9yN', 13), ('865w_lane41', 17), ('N9yN_u8yN', 22), ('7S/N_mtGy', 23), ('P8yN', 41)]\n",
      "intersection 9, vocab size: 63\n",
      "20 the least frequent terms: [('Dl9O_Mud6_il9O', 1), ('RV+h_ZCfs_yeJ2', 1), ('Dl9O_Mud6_il9O_kk9O_sIOb', 1), ('DLxY_RV+h', 1), ('cVlD_ntmu', 1), ('Dl9O_kk9O_sIOb', 1), ('il9O_sIOb_sTtZ', 2), ('D70Z_Dl9O_kk9O', 2), ('9UlD_cVlD_ntmu', 2), ('Dl9O_Mud6_i70Z_il9O_kk9O_sIOb_sTtZ', 2), ('i70Z_il9O', 3), ('RLKQ_yeJ2', 3), ('ZCfs', 5), ('RV+h_yeJ2', 5), ('RLKQ_ZCfs', 5), ('D70Z_Dl9O_Mud6_kk9O', 6), ('DLxY_ZCfs', 7), ('ZCfs_yeJ2', 7), ('Dl9O_sIOb', 7), ('Dl9O_Mud6', 7)]\n"
     ]
    }
   ],
   "source": [
    "for intersection, vocab in intersection_2_train_vocab.items():\n",
    "    print(f'intersection {intersection}, vocab size: {len(vocab)}')\n",
    "    print(f'20 the least frequent terms: {sorted(intersection_2_term_freq[intersection].items(), key=lambda x: x[1])[:20]}')"
   ]
  },
  {
   "cell_type": "code",
   "execution_count": 9,
   "metadata": {},
   "outputs": [
    {
     "data": {
      "text/plain": [
       "defaultdict(list,\n",
       "            {0: [0, 8, 9, 56, 57, 58, 59],\n",
       "             3: [1, 14, 22, 28, 37, 38, 39],\n",
       "             8: [2, 11, 32, 34, 60],\n",
       "             1: [3, 12, 20, 24, 30, 33, 54],\n",
       "             6: [4, 6, 41, 42, 43],\n",
       "             4: [5, 13, 23, 31, 49, 50, 51, 61, 62],\n",
       "             7: [7, 15, 44, 45, 46, 48, 52, 53],\n",
       "             2: [10, 21, 36, 47, 55],\n",
       "             9: [16, 18, 27, 40],\n",
       "             5: [17, 19, 25, 26, 29, 35]})"
      ]
     },
     "execution_count": 9,
     "metadata": {},
     "output_type": "execute_result"
    }
   ],
   "source": [
    "master_intersection_idx_2_tl_signal_indices"
   ]
  },
  {
   "cell_type": "code",
   "execution_count": 10,
   "metadata": {},
   "outputs": [],
   "source": [
    "class IntersectionModel(nn.Module):\n",
    "    \n",
    "    def __init__(self, vocab_size,\n",
    "                 intersection_tl_signals,\n",
    "                 embedding_dim=256, \n",
    "                 hidden_dim=64, \n",
    "                 n_layers=1, \n",
    "                 bidirectional=True, \n",
    "                 dropout=0,\n",
    "                 device='cuda:0'\n",
    "                ):\n",
    "        \n",
    "        #Constructor\n",
    "        super().__init__()          \n",
    "        \n",
    "        #embedding layer\n",
    "        self.embedding = nn.Embedding(vocab_size + 2, embedding_dim) # including PAD and UNKNOWN tokens\n",
    "        \n",
    "        #lstm layer\n",
    "        self.bidirectional = bidirectional\n",
    "        self.lstm = nn.LSTM(embedding_dim + 5, \n",
    "                           hidden_dim, \n",
    "                           num_layers=n_layers, \n",
    "                           bidirectional=bidirectional, \n",
    "                           dropout=dropout,\n",
    "                           batch_first=True)\n",
    "        \n",
    "        # tl color classifier (0 -> red, 1 -> green)\n",
    "        lstm_hidden_dim = hidden_dim * 2 if self.bidirectional else hidden_dim\n",
    "        \n",
    "        for tl_idx in intersection_tl_signals:\n",
    "            setattr(self, f'fc_color_{tl_idx}', nn.Linear(lstm_hidden_dim, 1))\n",
    "            getattr(self, f'fc_color_{tl_idx}').bias.data.fill_(0.0)\n",
    "            # Weibull params\n",
    "            setattr(self, f'fc_tte_k_{tl_idx}', nn.Linear(lstm_hidden_dim, 1))\n",
    "            getattr(self, f'fc_tte_k_{tl_idx}').bias.data.fill_(3.0)\n",
    "            setattr(self, f'fc_tte_lambda_{tl_idx}', nn.Linear(lstm_hidden_dim, 1))\n",
    "            getattr(self, f'fc_tte_lambda_{tl_idx}').bias.data.fill_(2.0)\n",
    "             \n",
    "        # attempt to address instability, might be related to the instability reported https://github.com/ragulpr/wtte-rnn/blob/master/examples/keras/standalone_simple_example.ipynb\n",
    "        def clip_and_replace_explosures(grad):\n",
    "            grad[torch.logical_or(torch.isnan(grad), torch.isinf(grad))] = torch.tensor(0.0).to(device)\n",
    "            grad = torch.clamp(grad, -0.25, 0.25)\n",
    "            return grad\n",
    "        \n",
    "        for param in self.parameters():\n",
    "            if param.requires_grad:\n",
    "                param.register_hook(clip_and_replace_explosures)\n",
    "                \n",
    "        self.intersection_tl_signals = intersection_tl_signals\n",
    "        \n",
    "        # classifier activation function\n",
    "        self.color_act = nn.Sigmoid()\n",
    "        \n",
    "        # Weibull params activation function\n",
    "        self.param_act = nn.Softplus()\n",
    "        \n",
    "    def forward(self, tokens_seq, token_type_ohe, token_timesteps, seq_lengths):\n",
    "        \n",
    "        #tokens_seq = [batch size,sent_length]\n",
    "        embedded = self.embedding(tokens_seq)\n",
    "        #embedded = [batch size, sent_len, emb dim]       \n",
    "        \n",
    "        # adding token type ohe and timestep\n",
    "        embedded = torch.cat((embedded, token_type_ohe, torch.unsqueeze(token_timesteps, 2)), dim=2)\n",
    "      \n",
    "        #packed sequence\n",
    "        packed_embedded = nn.utils.rnn.pack_padded_sequence(embedded, seq_lengths, batch_first=True, enforce_sorted = False)\n",
    "        \n",
    "        packed_output, (hidden, cell) = self.lstm(packed_embedded)\n",
    "        #hidden shape = [num layers * num directions, batch size, hid dim]\n",
    "        \n",
    "        #concat the final forward and backward hidden state\n",
    "        if self.bidirectional:\n",
    "            hidden = torch.cat((hidden[-2,:,:], hidden[-1,:,:]), dim = 1) \n",
    "        else:\n",
    "            hidden = hidden[-1,:,:]\n",
    "            \n",
    "        #hidden = [batch size, hid dim * num directions]\n",
    "\n",
    "        #Final activation function\n",
    "        tl_2_color_class = {tl_id: self.color_act(getattr(self, f'fc_color_{tl_id}')(hidden)) \n",
    "                            for tl_id in self.intersection_tl_signals}\n",
    "        \n",
    "        tl_2_tte_distr = dict()                    \n",
    "        for tl_id in self.intersection_tl_signals:\n",
    "            weibull_k = self.param_act(getattr(self, f'fc_tte_k_{tl_id}')(hidden))\n",
    "            weibull_lambda = self.param_act(getattr(self, f'fc_tte_lambda_{tl_id}')(hidden))\n",
    "            tl_2_tte_distr[tl_id] = Weibull(weibull_lambda, weibull_k)\n",
    "        \n",
    "        return tl_2_color_class, tl_2_tte_distr\n",
    "    \n",
    "    \n",
    "# \"\"\"\n",
    "# class IntersectionModel(nn.Module):\n",
    "    \n",
    "#     def __init__(self, vocab_size,\n",
    "#                  intersection_tl_signals,\n",
    "#                  is_cuda_available,\n",
    "#                  embedding_dim=256, \n",
    "#                  hidden_dim=64, \n",
    "#                  n_layers=1, \n",
    "#                  bidirectional=True, \n",
    "#                  dropout=0):\n",
    "        \n",
    "#         #Constructor\n",
    "#         super().__init__()          \n",
    "        \n",
    "#         #embedding layer\n",
    "#         self.embedding = nn.Embedding(vocab_size + 2, embedding_dim) # including PAD and UNKNOWN tokens\n",
    "        \n",
    "#         #lstm layer\n",
    "#         self.bidirectional = bidirectional\n",
    "        \n",
    "        \n",
    "#         # tl color classifier (0 -> red, 1 -> green)\n",
    "#         lstm_hidden_dim = hidden_dim * 2 if self.bidirectional else hidden_dim\n",
    "#         for tl_idx in intersection_tl_signals:\n",
    "#             setattr(self, f'lstm_{tl_idx}', nn.LSTM(embedding_dim + 5, \n",
    "#                                                    hidden_dim, \n",
    "#                                                    num_layers=n_layers, \n",
    "#                                                    bidirectional=bidirectional, \n",
    "#                                                    dropout=dropout,\n",
    "#                                                    batch_first=True))\n",
    "#             setattr(self, f'fc_color_{tl_idx}', nn.Linear(lstm_hidden_dim, 1))\n",
    "#             getattr(self, f'fc_color_{tl_idx}').bias.data.fill_(0.0)\n",
    "#             # Weibull params\n",
    "#             setattr(self, f'fc_tte_k_{tl_idx}', nn.Linear(lstm_hidden_dim, 1))\n",
    "#             setattr(self, f'fc_tte_lambda_{tl_idx}', nn.Linear(lstm_hidden_dim, 1))\n",
    "#         self.intersection_tl_signals = intersection_tl_signals\n",
    "        \n",
    "#         # classifier activation function\n",
    "#         self.color_act = nn.Sigmoid()\n",
    "        \n",
    "#         # Weibull params activation function\n",
    "#         self.param_act = nn.Softplus()\n",
    "        \n",
    "#     def forward(self, tokens_seq, token_type_ohe, token_timesteps, seq_lengths):\n",
    "        \n",
    "#         #tokens_seq = [batch size,sent_length]\n",
    "#         embedded = self.embedding(tokens_seq)\n",
    "#         #embedded = [batch size, sent_len, emb dim]       \n",
    "        \n",
    "#         # adding token type ohe and timestep\n",
    "#         embedded = torch.cat((embedded, token_type_ohe, torch.unsqueeze(token_timesteps, 2)), dim=2)\n",
    "      \n",
    "#         #packed sequence\n",
    "#         packed_embedded = nn.utils.rnn.pack_padded_sequence(embedded, seq_lengths, batch_first=True, enforce_sorted = False)\n",
    "        \n",
    "        \n",
    "#         tl_2_color_class = dict()\n",
    "#         tl_2_tte_distr = dict()                    \n",
    "#         for tl_id in self.intersection_tl_signals:\n",
    "#             _, (hidden, _) = getattr(self, f'lstm_{tl_id}')(packed_embedded)\n",
    "#             #hidden = [batch size, num layers * num directions,hid dim]\n",
    "#             #cell = [batch size, num layers * num directions,hid dim]\n",
    "\n",
    "#             #concat the final forward and backward hidden state\n",
    "#             if self.bidirectional:\n",
    "#                 hidden = torch.cat((hidden[-2,:,:], hidden[-1,:,:]), dim = 1) \n",
    "\n",
    "#             #hidden = [batch size, hid dim * num directions]\n",
    "\n",
    "#             #Final activation function\n",
    "#             tl_2_color_class[tl_id] = self.color_act(getattr(self, f'fc_color_{tl_id}')(hidden))\n",
    "        \n",
    "#             weibull_k = self.param_act(getattr(self, f'fc_tte_k_{tl_id}')(hidden))\n",
    "#             weibull_lambda = self.param_act(getattr(self, f'fc_tte_lambda_{tl_id}')(hidden))\n",
    "#             tl_2_tte_distr[tl_id] = Weibull(weibull_lambda, weibull_k)\n",
    "        \n",
    "#         return tl_2_color_class, tl_2_tte_distr\n",
    "# \"\"\""
   ]
  },
  {
   "cell_type": "code",
   "execution_count": 11,
   "metadata": {},
   "outputs": [],
   "source": [
    "class IntersectionDataset(Dataset):\n",
    "    def __init__(self, \n",
    "                 tl_events_df: pd.DataFrame,\n",
    "                 valid_indices: np.array,\n",
    "                 train_vocab: Dict,\n",
    "                 term_freq: Dict,\n",
    "                 tl_signal_indices: List,\n",
    "                 history_len_records: int = HIST_LEN_FRAMES,\n",
    "                 min_freq=5,\n",
    "                 min_idx=20\n",
    "                ):\n",
    "        self.tl_events_df = tl_events_df\n",
    "        max_events_per_timestamp = self.tl_events_df['rnn_inputs_raw'].map(len).max()\n",
    "        self.history_events_max = history_len_records * max_events_per_timestamp\n",
    "        self.history_len_records = history_len_records\n",
    "        self.valid_indices = valid_indices\n",
    "        self.vocab_term_2_idx = train_vocab\n",
    "        self.vocab_term_2_freq = term_freq\n",
    "        self.min_freq = min_freq\n",
    "        self.UNKNOWN_TOKEN_IDX = len(self.vocab_term_2_idx)\n",
    "        self.PAD_TOKEN_IDX = len(self.vocab_term_2_idx) + 1\n",
    "        self.tl_signal_indices = tl_signal_indices\n",
    "        \n",
    "    def __len__(self):\n",
    "        return len(self.valid_indices)\n",
    "    \n",
    "    def __getitem__(self, index: int):\n",
    "        row_i = self.valid_indices[index]                        \n",
    "        valid_hist_len = self.tl_events_df['valid_hist_len'].iloc[row_i]\n",
    "        raw_inputs_hist = self.tl_events_df['rnn_inputs_raw'].iloc[row_i - valid_hist_len + 1:row_i + 1]\n",
    "        \n",
    "        tokens_list, token_type_ohe_list, token_timesteps_list = [], [], []\n",
    "        timestap = valid_hist_len\n",
    "        for timestep_events in raw_inputs_hist:\n",
    "            for token, token_type_ohe in timestep_events:\n",
    "                # zero-max normalization\n",
    "                token_timesteps_list.append(timestap/self.history_len_records)\n",
    "                token_idx = self.vocab_term_2_idx[token] if token in self.vocab_term_2_idx and self.vocab_term_2_freq[token] >= self.min_freq else self.UNKNOWN_TOKEN_IDX\n",
    "                tokens_list.append(token_idx)\n",
    "                token_type_ohe_list.append(token_type_ohe)               \n",
    "            timestap -= 1\n",
    "        \n",
    "        seq_len = len(tokens_list)\n",
    "        tokens_np = np.array(tokens_list)\n",
    "        token_type_ohe_np = np.array(token_type_ohe_list)\n",
    "        token_timesteps_np = np.array(token_timesteps_list)\n",
    "        \n",
    "        # padding\n",
    "        padding_len = self.history_events_max - seq_len\n",
    "        tokens_np = np.concatenate((tokens_np, self.PAD_TOKEN_IDX*np.ones(padding_len))).astype(np.int) # shouldn't get to PAD_TOKEN_IDX, but just in case\n",
    "        token_type_ohe_np = np.concatenate((token_type_ohe_np, np.zeros((padding_len, 4)))).astype(np.float32)\n",
    "        token_timesteps_np = np.concatenate((token_timesteps_np, np.zeros(padding_len))).astype(np.float32)\n",
    "        \n",
    "        known_true_classes = self.tl_events_df['tl_signal_classes'].iloc[row_i]\n",
    "        known_tte = self.tl_events_df['time_to_tl_change'].iloc[row_i]\n",
    "        \n",
    "        all_true_classes = {tl_id: np.float32(known_true_classes[tl_id]) if tl_id in known_true_classes else np.float32(0) for tl_id in self.tl_signal_indices}\n",
    "        all_tte = {tl_id: np.float32(known_tte[tl_id]) if tl_id in known_tte else np.float32(99.0) for tl_id in self.tl_signal_indices}\n",
    "        classes_availabilities = {tl_id: np.float32(tl_id in known_true_classes) for tl_id in self.tl_signal_indices}\n",
    "        tte_availabilities = {tl_id: np.float32(tl_id in known_tte) for tl_id in self.tl_signal_indices}\n",
    "        return tokens_np, token_type_ohe_np, token_timesteps_np, seq_len, all_true_classes, all_tte, classes_availabilities, tte_availabilities"
   ]
  },
  {
   "cell_type": "code",
   "execution_count": 12,
   "metadata": {},
   "outputs": [],
   "source": [
    "def get_valid_indices(tl_events_df, history_len_records=HIST_LEN_FRAMES):\n",
    "    # pd rolling accepts numbers only, we need to process series of size-2 tuples (is_non_empty, is_time_continuous)\n",
    "    # let's encode is_non_empty, is_time_continuous as the 1st and the 2nd bit of int\n",
    "\n",
    "    is_non_empty_bit = 0\n",
    "    is_time_continuous_bit = 1\n",
    "\n",
    "    def encode_len_continuity(records_len, is_continuous):\n",
    "        res_int = 0\n",
    "        if records_len >= 1:\n",
    "            res_int += 1 << is_non_empty_bit\n",
    "        if is_continuous:\n",
    "            res_int += 1 << is_time_continuous_bit\n",
    "        return res_int\n",
    "\n",
    "    def decode_len_continuity(num):\n",
    "        is_non_empty = bool(num & (1 << is_non_empty_bit))\n",
    "        is_continuous = bool(num & (1 << is_time_continuous_bit))\n",
    "        return is_non_empty, is_continuous\n",
    "\n",
    "    is_nonempty___is_continuious_series = ((tl_events_df['rnn_inputs_raw'].map(lambda x: [len(x)]) + \n",
    "                                           tl_events_df['continuous_time'].map(lambda x: [x]))\n",
    "                                           .map(lambda x: encode_len_continuity(*x))\n",
    "                                           .astype(np.int))\n",
    "\n",
    "    def is_nonempty_input_present(hist):\n",
    "        # returns 1 when there's a non-empy input\n",
    "        for i in range(len(hist) -1, -1, -1):\n",
    "            is_non_empty, is_time_continuous = decode_len_continuity(int(hist.iloc[i]))\n",
    "            if not is_time_continuous:\n",
    "                return 0\n",
    "            if is_non_empty:\n",
    "                return 1\n",
    "        return 0\n",
    "\n",
    "    is_nonempty_input_present_series = is_nonempty___is_continuious_series.rolling(history_len_records - 1).agg(is_nonempty_input_present)\n",
    "    \n",
    "    valid_rows_bool = (tl_events_df['tl_signal_classes'].map(lambda x: len(x) > 0) &\n",
    "                       (is_nonempty_input_present_series == 1))\n",
    "    return np.arange(len(tl_events_df))[valid_rows_bool]\n",
    "\n",
    "\n",
    "def get_dataloader(tl_events_df, intersection_idx, shuffle=True, batch_size=1024, num_workers=12):\n",
    "    tl_events_df_intersection = tl_events_df[tl_events_df['master_intersection_idx'] == intersection_idx]\n",
    "    valid_indices_intersection = get_valid_indices(tl_events_df_intersection)\n",
    "    dataset = IntersectionDataset(tl_events_df_intersection,\n",
    "                                  valid_indices_intersection,\n",
    "                                  intersection_2_train_vocab[intersection_idx],\n",
    "                                  intersection_2_term_freq[intersection_idx],\n",
    "                                      master_intersection_idx_2_tl_signal_indices[intersection_idx]\n",
    "                                 )\n",
    "    dataloader = DataLoader(dataset, shuffle=shuffle, batch_size=batch_size, num_workers=num_workers)\n",
    "    return dataloader\n",
    "\n",
    "def train(dataloader_trn, dataloader_val, intersection_model, device, optimizer, lr_scheduler, early_stopping, \n",
    "          binary_crossentropy=nn.BCELoss(reduction=\"none\"), epoch_max=15, clip_value=5):# ==== TRAIN LOOP\n",
    "    for epoch in range(epoch_max):\n",
    "        progress_bar = tqdm((dataloader_trn), desc=f'Epoch {epoch}')\n",
    "        losses_train = []\n",
    "        losses_lob_prob_train = []\n",
    "        losses_bce_train = []\n",
    "\n",
    "        for batch in progress_bar:\n",
    "            tokens, token_type_ohe, token_timesteps, seq_len, all_true_classes, all_tte, classes_availabilities, tte_availabilities = batch\n",
    "            # moving to GPU if available\n",
    "            tokens, token_type_ohe, token_timesteps, seq_len = tokens.to(device), token_type_ohe.to(device), token_timesteps.to(device), seq_len.to(device)\n",
    "            all_true_classes = {tl_i: vals.to(device) for tl_i, vals in all_true_classes.items()}\n",
    "            all_tte = {tl_i: vals.to(device) for tl_i, vals in all_tte.items()}\n",
    "            classes_availabilities = {tl_i: vals.to(device) for tl_i, vals in classes_availabilities.items()}\n",
    "            tte_availabilities = {tl_i: vals.to(device) for tl_i, vals in tte_availabilities.items()}\n",
    "            intersection_model.train()\n",
    "            torch.set_grad_enabled(True)\n",
    "            tl_2_color_class, tl_2_tte_distr = intersection_model(tokens, token_type_ohe, token_timesteps, seq_len)\n",
    "\n",
    "            loss_bce = torch.tensor([0.0]).to(device)\n",
    "            loss_bce_terms_count = torch.tensor([0.0]).to(device)\n",
    "            for tl_id, pred_color_classes in tl_2_color_class.items():\n",
    "                true_color_classes = all_true_classes[tl_id]\n",
    "                bce_loss_tl = binary_crossentropy(torch.squeeze(pred_color_classes), true_color_classes)*classes_availabilities[tl_id]\n",
    "                loss_bce += bce_loss_tl.sum()\n",
    "                loss_bce_terms_count += classes_availabilities[tl_id].sum()\n",
    "            if loss_bce_terms_count > 0:\n",
    "                loss_bce /= loss_bce_terms_count\n",
    "\n",
    "            loss_tte_log_prob = torch.tensor([0.0]).to(device)\n",
    "            loss_tte_log_prob_terms_count = torch.tensor([0.0]).to(device)\n",
    "            for tl_id, tte_distr in tl_2_tte_distr.items():\n",
    "                true_ttes = torch.unsqueeze(all_tte[tl_id], -1)\n",
    "                log_prob_all = torch.squeeze(tte_distr.log_prob(true_ttes))*tte_availabilities[tl_id]\n",
    "                log_prob_all[torch.logical_or(torch.isnan(log_prob_all), torch.isinf(log_prob_all))] = torch.tensor(0.0).to(device)\n",
    "                loss_tte_log_prob -= log_prob_all.sum()\n",
    "                loss_tte_log_prob_terms_count += tte_availabilities[tl_id].sum()\n",
    "            if loss_tte_log_prob_terms_count > 0:\n",
    "                loss_tte_log_prob /= loss_tte_log_prob_terms_count \n",
    "\n",
    "            loss = loss_bce + loss_tte_log_prob\n",
    "\n",
    "            # Backward pass\n",
    "            optimizer.zero_grad()\n",
    "            loss.backward()\n",
    "            nn.utils.clip_grad_norm_(intersection_model.parameters(), clip_value)\n",
    "            optimizer.step()\n",
    "\n",
    "            losses_train.append(loss.item())\n",
    "            losses_lob_prob_train.append(loss_tte_log_prob.item())\n",
    "            losses_bce_train.append(loss_bce.item())\n",
    "            progress_bar.set_description(f\"Ep. {epoch}, loss: {loss.item():.2f} (bce: {loss_bce.item():.2f}, log prob: {loss_tte_log_prob.item():.3f})\")\n",
    "        print(f\"Avg train loss: {np.mean(losses_train):.5f} (bce: {np.mean(losses_bce_train):.5f}, log prob: {np.mean(losses_lob_prob_train):.5f})\")\n",
    "\n",
    "        intersection_model.eval()\n",
    "        losses_val_all = []\n",
    "        losses_val_lob_prob_train = []\n",
    "        losses_val_bce_train = []\n",
    "        for batch in tqdm(dataloader_val, desc='Validation..'):\n",
    "            tokens, token_type_ohe, token_timesteps, seq_len, all_true_classes, all_tte, classes_availabilities, tte_availabilities = batch\n",
    "            tokens, token_type_ohe, token_timesteps, seq_len = tokens.to(device), token_type_ohe.to(device), token_timesteps.to(device), seq_len.to(device)\n",
    "            all_true_classes = {tl_i: vals.to(device) for tl_i, vals in all_true_classes.items()}\n",
    "            all_tte = {tl_i: vals.to(device) for tl_i, vals in all_tte.items()}\n",
    "            classes_availabilities = {tl_i: vals.to(device) for tl_i, vals in classes_availabilities.items()}\n",
    "            tte_availabilities = {tl_i: vals.to(device) for tl_i, vals in tte_availabilities.items()}\n",
    "            intersection_model.train()\n",
    "            torch.set_grad_enabled(True)\n",
    "            tl_2_color_class, tl_2_tte_distr = intersection_model(tokens, token_type_ohe, token_timesteps, seq_len)\n",
    "\n",
    "            loss_bce = torch.tensor([0.0]).to(device)\n",
    "            loss_bce_terms_count = torch.tensor([0.0]).to(device)\n",
    "            for tl_id, pred_color_classes in tl_2_color_class.items():\n",
    "                true_color_classes = all_true_classes[tl_id]\n",
    "                bce_loss_tl = binary_crossentropy(torch.squeeze(pred_color_classes), true_color_classes)*classes_availabilities[tl_id]\n",
    "                loss_bce += bce_loss_tl.sum()\n",
    "                loss_bce_terms_count += classes_availabilities[tl_id].sum()\n",
    "            if loss_bce_terms_count:\n",
    "                loss_bce /= loss_bce_terms_count\n",
    "\n",
    "            loss_tte_log_prob = torch.tensor([0.0]).to(device)\n",
    "            loss_tte_log_prob_terms_count = torch.tensor([0.0]).to(device)\n",
    "            for tl_id, tte_distr in tl_2_tte_distr.items():\n",
    "                true_ttes = torch.unsqueeze(all_tte[tl_id], -1)\n",
    "                log_prob_all = torch.squeeze(tte_distr.log_prob(true_ttes))*tte_availabilities[tl_id]\n",
    "                loss_tte_log_prob -= log_prob_all.sum()\n",
    "                loss_tte_log_prob_terms_count += tte_availabilities[tl_id].sum()\n",
    "            if loss_tte_log_prob_terms_count:\n",
    "                loss_tte_log_prob /= loss_tte_log_prob_terms_count\n",
    "\n",
    "            loss = loss_bce + loss_tte_log_prob/4 # to have similar scale of values\n",
    "\n",
    "            losses_val_all.append(loss.item())\n",
    "            losses_val_lob_prob_train.append(loss_tte_log_prob.item())\n",
    "            losses_val_bce_train.append(loss_bce.item())\n",
    "\n",
    "        loss_val_mean = np.mean(losses_val_all)\n",
    "        print(f'Val loss: {loss_val_mean: .5f} (bce: {np.mean(losses_val_bce_train):.5f}, log prob: {np.mean(losses_val_lob_prob_train): .5f})')\n",
    "        lr_scheduler.step(loss_val_mean)\n",
    "        early_stopping(loss_val_mean, intersection_model)        \n",
    "        if early_stopping.early_stop:\n",
    "            break\n",
    "            \n",
    "device = torch.device(\"cuda:0\" if torch.cuda.is_available() else \"cpu\")"
   ]
  },
  {
   "cell_type": "code",
   "execution_count": 13,
   "metadata": {},
   "outputs": [],
   "source": [
    "def train_intersection_model(intersection_idx, device, lr=3e-4, embedding_dim=64, hidden_dim=64, n_layers=2, \n",
    "                             bidirectional=True, dropout=0.2, epoch_max=15):\n",
    "    dataloader_trn = get_dataloader(tl_events_df_trn, intersection_idx)\n",
    "    dataloader_val = get_dataloader(tl_events_df_val, intersection_idx, shuffle=False) \n",
    "    intersection_model = IntersectionModel(vocab_size=len(intersection_2_train_vocab[intersection_idx]),\n",
    "                                           intersection_tl_signals=master_intersection_idx_2_tl_signal_indices[intersection_idx],\n",
    "                                           embedding_dim=embedding_dim, \n",
    "                                             hidden_dim=hidden_dim, \n",
    "                                             n_layers=n_layers, \n",
    "                                             bidirectional=bidirectional, \n",
    "                                             dropout=dropout\n",
    "                                          ).to(device)\n",
    "    optimizer = optim.Adam(intersection_model.parameters(), lr=lr)\n",
    "    lr_scheduler = optim.lr_scheduler.ReduceLROnPlateau(optimizer, verbose=True, patience=3)\n",
    "    early_stopping = EarlyStopping(patience=7, verbose=True, path=f'intersection_{intersection_idx}_combined_loss_checkpoint.pt')\n",
    "    train(dataloader_trn, dataloader_val, intersection_model, device, optimizer, lr_scheduler, early_stopping, epoch_max=epoch_max)"
   ]
  },
  {
   "cell_type": "code",
   "execution_count": 18,
   "metadata": {
    "scrolled": true
   },
   "outputs": [
    {
     "name": "stdout",
     "output_type": "stream",
     "text": [
      "Intersection 0..\n"
     ]
    },
    {
     "data": {
      "application/vnd.jupyter.widget-view+json": {
       "model_id": "fc9a4ab095074d789275d36b0ea05ae2",
       "version_major": 2,
       "version_minor": 0
      },
      "text/plain": [
       "HBox(children=(FloatProgress(value=0.0, description='Epoch 0', max=261.0, style=ProgressStyle(description_widt…"
      ]
     },
     "metadata": {},
     "output_type": "display_data"
    },
    {
     "name": "stdout",
     "output_type": "stream",
     "text": [
      "\n",
      "Avg train loss: 2.74029 (bce: 0.48843, log prob: 2.25185)\n"
     ]
    },
    {
     "data": {
      "application/vnd.jupyter.widget-view+json": {
       "model_id": "01aac9a65cb84bb6b1a225e3884f4dab",
       "version_major": 2,
       "version_minor": 0
      },
      "text/plain": [
       "HBox(children=(FloatProgress(value=0.0, description='Validation..', max=3.0, style=ProgressStyle(description_w…"
      ]
     },
     "metadata": {},
     "output_type": "display_data"
    },
    {
     "name": "stdout",
     "output_type": "stream",
     "text": [
      "\n",
      "Val loss:  0.89715 (bce: 0.46262, log prob:  1.73809)\n",
      "Validation loss decreased (inf --> 0.897147).  Saving model ...\n"
     ]
    },
    {
     "data": {
      "application/vnd.jupyter.widget-view+json": {
       "model_id": "792140858f1f4f4193448af56e50b489",
       "version_major": 2,
       "version_minor": 0
      },
      "text/plain": [
       "HBox(children=(FloatProgress(value=0.0, description='Epoch 1', max=261.0, style=ProgressStyle(description_widt…"
      ]
     },
     "metadata": {},
     "output_type": "display_data"
    },
    {
     "name": "stdout",
     "output_type": "stream",
     "text": [
      "\n",
      "Avg train loss: 1.36033 (bce: 0.34041, log prob: 1.01993)\n"
     ]
    },
    {
     "data": {
      "application/vnd.jupyter.widget-view+json": {
       "model_id": "401e33e3e9824fb5a569c7138bf59e10",
       "version_major": 2,
       "version_minor": 0
      },
      "text/plain": [
       "HBox(children=(FloatProgress(value=0.0, description='Validation..', max=3.0, style=ProgressStyle(description_w…"
      ]
     },
     "metadata": {},
     "output_type": "display_data"
    },
    {
     "name": "stdout",
     "output_type": "stream",
     "text": [
      "\n",
      "Val loss:  0.82824 (bce: 0.34346, log prob:  1.93911)\n",
      "Validation loss decreased (0.897147 --> 0.828237).  Saving model ...\n"
     ]
    },
    {
     "data": {
      "application/vnd.jupyter.widget-view+json": {
       "model_id": "c93bd63da5ac4860aee345c835b960e3",
       "version_major": 2,
       "version_minor": 0
      },
      "text/plain": [
       "HBox(children=(FloatProgress(value=0.0, description='Epoch 2', max=261.0, style=ProgressStyle(description_widt…"
      ]
     },
     "metadata": {},
     "output_type": "display_data"
    },
    {
     "name": "stdout",
     "output_type": "stream",
     "text": [
      "\n",
      "Avg train loss: 1.04480 (bce: 0.24725, log prob: 0.79754)\n"
     ]
    },
    {
     "data": {
      "application/vnd.jupyter.widget-view+json": {
       "model_id": "9d60cc4dc2104b2cb078d6e223c64faf",
       "version_major": 2,
       "version_minor": 0
      },
      "text/plain": [
       "HBox(children=(FloatProgress(value=0.0, description='Validation..', max=3.0, style=ProgressStyle(description_w…"
      ]
     },
     "metadata": {},
     "output_type": "display_data"
    },
    {
     "name": "stdout",
     "output_type": "stream",
     "text": [
      "\n",
      "Val loss:  0.84085 (bce: 0.29775, log prob:  2.17238)\n",
      "EarlyStopping counter: 1 out of 10\n"
     ]
    },
    {
     "data": {
      "application/vnd.jupyter.widget-view+json": {
       "model_id": "a0e371c9032a4c0cbabbad79c865cd9c",
       "version_major": 2,
       "version_minor": 0
      },
      "text/plain": [
       "HBox(children=(FloatProgress(value=0.0, description='Epoch 3', max=261.0, style=ProgressStyle(description_widt…"
      ]
     },
     "metadata": {},
     "output_type": "display_data"
    },
    {
     "name": "stdout",
     "output_type": "stream",
     "text": [
      "\n",
      "Avg train loss: 0.89798 (bce: 0.22005, log prob: 0.67794)\n"
     ]
    },
    {
     "data": {
      "application/vnd.jupyter.widget-view+json": {
       "model_id": "99a2e985f97449fcb9cdc0ad948c442d",
       "version_major": 2,
       "version_minor": 0
      },
      "text/plain": [
       "HBox(children=(FloatProgress(value=0.0, description='Validation..', max=3.0, style=ProgressStyle(description_w…"
      ]
     },
     "metadata": {},
     "output_type": "display_data"
    },
    {
     "name": "stdout",
     "output_type": "stream",
     "text": [
      "\n",
      "Val loss:  0.92642 (bce: 0.32419, log prob:  2.40893)\n",
      "EarlyStopping counter: 2 out of 10\n"
     ]
    },
    {
     "data": {
      "application/vnd.jupyter.widget-view+json": {
       "model_id": "9205ea89ab8f427783dad101a5520d58",
       "version_major": 2,
       "version_minor": 0
      },
      "text/plain": [
       "HBox(children=(FloatProgress(value=0.0, description='Epoch 4', max=261.0, style=ProgressStyle(description_widt…"
      ]
     },
     "metadata": {},
     "output_type": "display_data"
    },
    {
     "name": "stdout",
     "output_type": "stream",
     "text": [
      "\n",
      "Avg train loss: 0.86945 (bce: 0.22483, log prob: 0.64462)\n"
     ]
    },
    {
     "data": {
      "application/vnd.jupyter.widget-view+json": {
       "model_id": "8382ad2a2f604f4eab16548ab4abedf8",
       "version_major": 2,
       "version_minor": 0
      },
      "text/plain": [
       "HBox(children=(FloatProgress(value=0.0, description='Validation..', max=3.0, style=ProgressStyle(description_w…"
      ]
     },
     "metadata": {},
     "output_type": "display_data"
    },
    {
     "name": "stdout",
     "output_type": "stream",
     "text": [
      "\n",
      "Val loss:  0.91059 (bce: 0.28631, log prob:  2.49714)\n",
      "EarlyStopping counter: 3 out of 10\n",
      "Intersection 3..\n"
     ]
    },
    {
     "data": {
      "application/vnd.jupyter.widget-view+json": {
       "model_id": "185cf63a0ab842bcbcbf7bfc409aac8e",
       "version_major": 2,
       "version_minor": 0
      },
      "text/plain": [
       "HBox(children=(FloatProgress(value=0.0, description='Epoch 0', max=12.0, style=ProgressStyle(description_width…"
      ]
     },
     "metadata": {},
     "output_type": "display_data"
    },
    {
     "name": "stdout",
     "output_type": "stream",
     "text": [
      "\n",
      "Avg train loss: 3.53168 (bce: 0.68043, log prob: 2.85125)\n"
     ]
    },
    {
     "data": {
      "application/vnd.jupyter.widget-view+json": {
       "model_id": "e33d29946b714c489909c0d4ec2b9ba4",
       "version_major": 2,
       "version_minor": 0
      },
      "text/plain": [
       "HBox(children=(FloatProgress(value=0.0, description='Validation..', max=1.0, style=ProgressStyle(description_w…"
      ]
     },
     "metadata": {},
     "output_type": "display_data"
    },
    {
     "name": "stdout",
     "output_type": "stream",
     "text": [
      "\n",
      "Val loss:  0.00000 (bce: 0.00000, log prob:  0.00000)\n",
      "Validation loss decreased (inf --> 0.000000).  Saving model ...\n"
     ]
    },
    {
     "data": {
      "application/vnd.jupyter.widget-view+json": {
       "model_id": "88a65e5de6c040b58b8b3205d0f1710c",
       "version_major": 2,
       "version_minor": 0
      },
      "text/plain": [
       "HBox(children=(FloatProgress(value=0.0, description='Epoch 1', max=12.0, style=ProgressStyle(description_width…"
      ]
     },
     "metadata": {},
     "output_type": "display_data"
    },
    {
     "name": "stdout",
     "output_type": "stream",
     "text": [
      "\n",
      "Avg train loss: 3.17498 (bce: 0.65722, log prob: 2.51776)\n"
     ]
    },
    {
     "data": {
      "application/vnd.jupyter.widget-view+json": {
       "model_id": "5d6ddb64c1a44629923bba89f73065f1",
       "version_major": 2,
       "version_minor": 0
      },
      "text/plain": [
       "HBox(children=(FloatProgress(value=0.0, description='Validation..', max=1.0, style=ProgressStyle(description_w…"
      ]
     },
     "metadata": {},
     "output_type": "display_data"
    },
    {
     "name": "stdout",
     "output_type": "stream",
     "text": [
      "\n",
      "Val loss:  0.00000 (bce: 0.00000, log prob:  0.00000)\n",
      "Validation loss decreased (0.000000 --> 0.000000).  Saving model ...\n"
     ]
    },
    {
     "data": {
      "application/vnd.jupyter.widget-view+json": {
       "model_id": "393d4cd33d0f417a9d507b4d5a71d452",
       "version_major": 2,
       "version_minor": 0
      },
      "text/plain": [
       "HBox(children=(FloatProgress(value=0.0, description='Epoch 2', max=12.0, style=ProgressStyle(description_width…"
      ]
     },
     "metadata": {},
     "output_type": "display_data"
    },
    {
     "name": "stdout",
     "output_type": "stream",
     "text": [
      "\n",
      "Avg train loss: 2.50000 (bce: 0.61556, log prob: 1.88444)\n"
     ]
    },
    {
     "data": {
      "application/vnd.jupyter.widget-view+json": {
       "model_id": "d962d585f395483f904270bc81ab7429",
       "version_major": 2,
       "version_minor": 0
      },
      "text/plain": [
       "HBox(children=(FloatProgress(value=0.0, description='Validation..', max=1.0, style=ProgressStyle(description_w…"
      ]
     },
     "metadata": {},
     "output_type": "display_data"
    },
    {
     "name": "stdout",
     "output_type": "stream",
     "text": [
      "\n",
      "Val loss:  0.00000 (bce: 0.00000, log prob:  0.00000)\n",
      "Validation loss decreased (0.000000 --> 0.000000).  Saving model ...\n"
     ]
    },
    {
     "data": {
      "application/vnd.jupyter.widget-view+json": {
       "model_id": "6109d0695c7f48cdbf122aee56f2b054",
       "version_major": 2,
       "version_minor": 0
      },
      "text/plain": [
       "HBox(children=(FloatProgress(value=0.0, description='Epoch 3', max=12.0, style=ProgressStyle(description_width…"
      ]
     },
     "metadata": {},
     "output_type": "display_data"
    },
    {
     "name": "stdout",
     "output_type": "stream",
     "text": [
      "\n",
      "Avg train loss: 1.61506 (bce: 0.52069, log prob: 1.09437)\n"
     ]
    },
    {
     "data": {
      "application/vnd.jupyter.widget-view+json": {
       "model_id": "e408b035d9904ce190dcc6a376610c1e",
       "version_major": 2,
       "version_minor": 0
      },
      "text/plain": [
       "HBox(children=(FloatProgress(value=0.0, description='Validation..', max=1.0, style=ProgressStyle(description_w…"
      ]
     },
     "metadata": {},
     "output_type": "display_data"
    },
    {
     "name": "stdout",
     "output_type": "stream",
     "text": [
      "\n",
      "Val loss:  0.00000 (bce: 0.00000, log prob:  0.00000)\n",
      "Validation loss decreased (0.000000 --> 0.000000).  Saving model ...\n"
     ]
    },
    {
     "data": {
      "application/vnd.jupyter.widget-view+json": {
       "model_id": "e3e88045743743b385548dca0a379558",
       "version_major": 2,
       "version_minor": 0
      },
      "text/plain": [
       "HBox(children=(FloatProgress(value=0.0, description='Epoch 4', max=12.0, style=ProgressStyle(description_width…"
      ]
     },
     "metadata": {},
     "output_type": "display_data"
    },
    {
     "name": "stdout",
     "output_type": "stream",
     "text": [
      "\n",
      "Avg train loss: 1.11540 (bce: 0.37782, log prob: 0.73758)\n"
     ]
    },
    {
     "data": {
      "application/vnd.jupyter.widget-view+json": {
       "model_id": "05ecfacc2f1a4b579f60b45d012e6407",
       "version_major": 2,
       "version_minor": 0
      },
      "text/plain": [
       "HBox(children=(FloatProgress(value=0.0, description='Validation..', max=1.0, style=ProgressStyle(description_w…"
      ]
     },
     "metadata": {},
     "output_type": "display_data"
    },
    {
     "name": "stdout",
     "output_type": "stream",
     "text": [
      "\n",
      "Val loss:  0.00000 (bce: 0.00000, log prob:  0.00000)\n",
      "Epoch     5: reducing learning rate of group 0 to 3.0000e-05.\n",
      "Validation loss decreased (0.000000 --> 0.000000).  Saving model ...\n",
      "Intersection 8..\n"
     ]
    },
    {
     "data": {
      "application/vnd.jupyter.widget-view+json": {
       "model_id": "83d18bccb29f420b8c078008410b0e3d",
       "version_major": 2,
       "version_minor": 0
      },
      "text/plain": [
       "HBox(children=(FloatProgress(value=0.0, description='Epoch 0', max=16.0, style=ProgressStyle(description_width…"
      ]
     },
     "metadata": {},
     "output_type": "display_data"
    },
    {
     "name": "stdout",
     "output_type": "stream",
     "text": [
      "\n",
      "Avg train loss: 3.90095 (bce: 0.68485, log prob: 3.21610)\n"
     ]
    },
    {
     "data": {
      "application/vnd.jupyter.widget-view+json": {
       "model_id": "7e9cdb1d03a2477e973e1e92fde67158",
       "version_major": 2,
       "version_minor": 0
      },
      "text/plain": [
       "HBox(children=(FloatProgress(value=0.0, description='Validation..', max=1.0, style=ProgressStyle(description_w…"
      ]
     },
     "metadata": {},
     "output_type": "display_data"
    },
    {
     "name": "stdout",
     "output_type": "stream",
     "text": [
      "\n",
      "Val loss:  1.11473 (bce: 0.67982, log prob:  1.73964)\n",
      "Validation loss decreased (inf --> 1.114726).  Saving model ...\n"
     ]
    },
    {
     "data": {
      "application/vnd.jupyter.widget-view+json": {
       "model_id": "c1b08f4a659644f4b45272899f71694c",
       "version_major": 2,
       "version_minor": 0
      },
      "text/plain": [
       "HBox(children=(FloatProgress(value=0.0, description='Epoch 1', max=16.0, style=ProgressStyle(description_width…"
      ]
     },
     "metadata": {},
     "output_type": "display_data"
    },
    {
     "name": "stdout",
     "output_type": "stream",
     "text": [
      "\n",
      "Avg train loss: 3.25422 (bce: 0.65953, log prob: 2.59469)\n"
     ]
    },
    {
     "data": {
      "application/vnd.jupyter.widget-view+json": {
       "model_id": "b43d9671347345de97ea0cd403b06d96",
       "version_major": 2,
       "version_minor": 0
      },
      "text/plain": [
       "HBox(children=(FloatProgress(value=0.0, description='Validation..', max=1.0, style=ProgressStyle(description_w…"
      ]
     },
     "metadata": {},
     "output_type": "display_data"
    },
    {
     "name": "stdout",
     "output_type": "stream",
     "text": [
      "\n",
      "Val loss:  0.93637 (bce: 0.63357, log prob:  1.21120)\n",
      "Validation loss decreased (1.114726 --> 0.936369).  Saving model ...\n"
     ]
    },
    {
     "data": {
      "application/vnd.jupyter.widget-view+json": {
       "model_id": "26cbf415c99840a79fafb7121060df23",
       "version_major": 2,
       "version_minor": 0
      },
      "text/plain": [
       "HBox(children=(FloatProgress(value=0.0, description='Epoch 2', max=16.0, style=ProgressStyle(description_width…"
      ]
     },
     "metadata": {},
     "output_type": "display_data"
    },
    {
     "name": "stdout",
     "output_type": "stream",
     "text": [
      "\n",
      "Avg train loss: 2.26123 (bce: 0.59321, log prob: 1.66803)\n"
     ]
    },
    {
     "data": {
      "application/vnd.jupyter.widget-view+json": {
       "model_id": "a968a778e348483d96bed2148d3240e8",
       "version_major": 2,
       "version_minor": 0
      },
      "text/plain": [
       "HBox(children=(FloatProgress(value=0.0, description='Validation..', max=1.0, style=ProgressStyle(description_w…"
      ]
     },
     "metadata": {},
     "output_type": "display_data"
    },
    {
     "name": "stdout",
     "output_type": "stream",
     "text": [
      "\n",
      "Val loss:  0.74631 (bce: 0.48673, log prob:  1.03832)\n",
      "Validation loss decreased (0.936369 --> 0.746307).  Saving model ...\n"
     ]
    },
    {
     "data": {
      "application/vnd.jupyter.widget-view+json": {
       "model_id": "cd12f302d3df45bdb1be9332e17c7c5c",
       "version_major": 2,
       "version_minor": 0
      },
      "text/plain": [
       "HBox(children=(FloatProgress(value=0.0, description='Epoch 3', max=16.0, style=ProgressStyle(description_width…"
      ]
     },
     "metadata": {},
     "output_type": "display_data"
    },
    {
     "name": "stdout",
     "output_type": "stream",
     "text": [
      "\n",
      "Avg train loss: 1.69081 (bce: 0.47623, log prob: 1.21458)\n"
     ]
    },
    {
     "data": {
      "application/vnd.jupyter.widget-view+json": {
       "model_id": "86509dc1f3a646d4aaf606fb5185acf4",
       "version_major": 2,
       "version_minor": 0
      },
      "text/plain": [
       "HBox(children=(FloatProgress(value=0.0, description='Validation..', max=1.0, style=ProgressStyle(description_w…"
      ]
     },
     "metadata": {},
     "output_type": "display_data"
    },
    {
     "name": "stdout",
     "output_type": "stream",
     "text": [
      "\n",
      "Val loss:  0.62125 (bce: 0.36596, log prob:  1.02116)\n",
      "Validation loss decreased (0.746307 --> 0.621255).  Saving model ...\n"
     ]
    },
    {
     "data": {
      "application/vnd.jupyter.widget-view+json": {
       "model_id": "277bc1e2f7a14e16a75e199d7a5aa2b8",
       "version_major": 2,
       "version_minor": 0
      },
      "text/plain": [
       "HBox(children=(FloatProgress(value=0.0, description='Epoch 4', max=16.0, style=ProgressStyle(description_width…"
      ]
     },
     "metadata": {},
     "output_type": "display_data"
    },
    {
     "name": "stdout",
     "output_type": "stream",
     "text": [
      "\n",
      "Avg train loss: 1.41673 (bce: 0.37845, log prob: 1.03829)\n"
     ]
    },
    {
     "data": {
      "application/vnd.jupyter.widget-view+json": {
       "model_id": "416f1f6d4cb64117a06b4a59825d4b16",
       "version_major": 2,
       "version_minor": 0
      },
      "text/plain": [
       "HBox(children=(FloatProgress(value=0.0, description='Validation..', max=1.0, style=ProgressStyle(description_w…"
      ]
     },
     "metadata": {},
     "output_type": "display_data"
    },
    {
     "name": "stdout",
     "output_type": "stream",
     "text": [
      "\n",
      "Val loss:  0.53405 (bce: 0.29442, log prob:  0.95856)\n",
      "Validation loss decreased (0.621255 --> 0.534055).  Saving model ...\n",
      "Intersection 1..\n"
     ]
    },
    {
     "data": {
      "application/vnd.jupyter.widget-view+json": {
       "model_id": "f5a2c337fac643a4a557708ea6e5a2bb",
       "version_major": 2,
       "version_minor": 0
      },
      "text/plain": [
       "HBox(children=(FloatProgress(value=0.0, description='Epoch 0', max=207.0, style=ProgressStyle(description_widt…"
      ]
     },
     "metadata": {},
     "output_type": "display_data"
    },
    {
     "name": "stdout",
     "output_type": "stream",
     "text": [
      "\n",
      "Avg train loss: 3.06190 (bce: 0.52343, log prob: 2.53847)\n"
     ]
    },
    {
     "data": {
      "application/vnd.jupyter.widget-view+json": {
       "model_id": "328388e437ae4269b729bf7950a7ec83",
       "version_major": 2,
       "version_minor": 0
      },
      "text/plain": [
       "HBox(children=(FloatProgress(value=0.0, description='Validation..', max=2.0, style=ProgressStyle(description_w…"
      ]
     },
     "metadata": {},
     "output_type": "display_data"
    },
    {
     "name": "stdout",
     "output_type": "stream",
     "text": [
      "\n",
      "Val loss:  0.99316 (bce: 0.51536, log prob:  1.91117)\n",
      "Validation loss decreased (inf --> 0.993155).  Saving model ...\n"
     ]
    },
    {
     "data": {
      "application/vnd.jupyter.widget-view+json": {
       "model_id": "15e1474429234bb3a07804c37926583a",
       "version_major": 2,
       "version_minor": 0
      },
      "text/plain": [
       "HBox(children=(FloatProgress(value=0.0, description='Epoch 1', max=207.0, style=ProgressStyle(description_widt…"
      ]
     },
     "metadata": {},
     "output_type": "display_data"
    },
    {
     "name": "stdout",
     "output_type": "stream",
     "text": [
      "\n",
      "Avg train loss: 1.53320 (bce: 0.38975, log prob: 1.14345)\n"
     ]
    },
    {
     "data": {
      "application/vnd.jupyter.widget-view+json": {
       "model_id": "da0bbcf543f148c29525ae74bc3965ba",
       "version_major": 2,
       "version_minor": 0
      },
      "text/plain": [
       "HBox(children=(FloatProgress(value=0.0, description='Validation..', max=2.0, style=ProgressStyle(description_w…"
      ]
     },
     "metadata": {},
     "output_type": "display_data"
    },
    {
     "name": "stdout",
     "output_type": "stream",
     "text": [
      "\n",
      "Val loss:  0.80085 (bce: 0.33777, log prob:  1.85234)\n",
      "Validation loss decreased (0.993155 --> 0.800853).  Saving model ...\n"
     ]
    },
    {
     "data": {
      "application/vnd.jupyter.widget-view+json": {
       "model_id": "7e81dd18d04f4bdab14b607f3a6689bd",
       "version_major": 2,
       "version_minor": 0
      },
      "text/plain": [
       "HBox(children=(FloatProgress(value=0.0, description='Epoch 2', max=207.0, style=ProgressStyle(description_widt…"
      ]
     },
     "metadata": {},
     "output_type": "display_data"
    },
    {
     "name": "stdout",
     "output_type": "stream",
     "text": [
      "\n",
      "Avg train loss: 1.31885 (bce: 0.33546, log prob: 0.98338)\n"
     ]
    },
    {
     "data": {
      "application/vnd.jupyter.widget-view+json": {
       "model_id": "d271268d589947e2b78c5bf95356d6e8",
       "version_major": 2,
       "version_minor": 0
      },
      "text/plain": [
       "HBox(children=(FloatProgress(value=0.0, description='Validation..', max=2.0, style=ProgressStyle(description_w…"
      ]
     },
     "metadata": {},
     "output_type": "display_data"
    },
    {
     "name": "stdout",
     "output_type": "stream",
     "text": [
      "\n",
      "Val loss:  0.80099 (bce: 0.31699, log prob:  1.93599)\n",
      "EarlyStopping counter: 1 out of 10\n"
     ]
    },
    {
     "data": {
      "application/vnd.jupyter.widget-view+json": {
       "model_id": "76329c5aacfe4659b0ac9a55bf266cb8",
       "version_major": 2,
       "version_minor": 0
      },
      "text/plain": [
       "HBox(children=(FloatProgress(value=0.0, description='Epoch 3', max=207.0, style=ProgressStyle(description_widt…"
      ]
     },
     "metadata": {},
     "output_type": "display_data"
    },
    {
     "name": "stdout",
     "output_type": "stream",
     "text": [
      "\n",
      "Avg train loss: 1.20800 (bce: 0.30479, log prob: 0.90321)\n"
     ]
    },
    {
     "data": {
      "application/vnd.jupyter.widget-view+json": {
       "model_id": "f4286a996315469c9f57d12407720bee",
       "version_major": 2,
       "version_minor": 0
      },
      "text/plain": [
       "HBox(children=(FloatProgress(value=0.0, description='Validation..', max=2.0, style=ProgressStyle(description_w…"
      ]
     },
     "metadata": {},
     "output_type": "display_data"
    },
    {
     "name": "stdout",
     "output_type": "stream",
     "text": [
      "\n",
      "Val loss:  0.87455 (bce: 0.36534, log prob:  2.03685)\n",
      "EarlyStopping counter: 2 out of 10\n"
     ]
    },
    {
     "data": {
      "application/vnd.jupyter.widget-view+json": {
       "model_id": "89e9eede4b544eada1c8823009998ce3",
       "version_major": 2,
       "version_minor": 0
      },
      "text/plain": [
       "HBox(children=(FloatProgress(value=0.0, description='Epoch 4', max=207.0, style=ProgressStyle(description_widt…"
      ]
     },
     "metadata": {},
     "output_type": "display_data"
    },
    {
     "name": "stdout",
     "output_type": "stream",
     "text": [
      "\n",
      "Avg train loss: 1.10324 (bce: 0.25076, log prob: 0.85248)\n"
     ]
    },
    {
     "data": {
      "application/vnd.jupyter.widget-view+json": {
       "model_id": "b57d606d63af40c1ab2427e5fb1d13f6",
       "version_major": 2,
       "version_minor": 0
      },
      "text/plain": [
       "HBox(children=(FloatProgress(value=0.0, description='Validation..', max=2.0, style=ProgressStyle(description_w…"
      ]
     },
     "metadata": {},
     "output_type": "display_data"
    },
    {
     "name": "stdout",
     "output_type": "stream",
     "text": [
      "\n",
      "Val loss:  0.84897 (bce: 0.31177, log prob:  2.14881)\n",
      "EarlyStopping counter: 3 out of 10\n",
      "Intersection 6..\n"
     ]
    },
    {
     "data": {
      "application/vnd.jupyter.widget-view+json": {
       "model_id": "77256fec69114964890f57262bd25452",
       "version_major": 2,
       "version_minor": 0
      },
      "text/plain": [
       "HBox(children=(FloatProgress(value=0.0, description='Epoch 0', max=181.0, style=ProgressStyle(description_widt…"
      ]
     },
     "metadata": {},
     "output_type": "display_data"
    },
    {
     "name": "stdout",
     "output_type": "stream",
     "text": [
      "\n",
      "Avg train loss: 3.10046 (bce: 0.46640, log prob: 2.63406)\n"
     ]
    },
    {
     "data": {
      "application/vnd.jupyter.widget-view+json": {
       "model_id": "bbc8baf53b6447628d4fb9399dc696ee",
       "version_major": 2,
       "version_minor": 0
      },
      "text/plain": [
       "HBox(children=(FloatProgress(value=0.0, description='Validation..', max=1.0, style=ProgressStyle(description_w…"
      ]
     },
     "metadata": {},
     "output_type": "display_data"
    },
    {
     "name": "stdout",
     "output_type": "stream",
     "text": [
      "\n",
      "Val loss:  0.72876 (bce: 0.32484, log prob:  1.61565)\n",
      "Validation loss decreased (inf --> 0.728756).  Saving model ...\n"
     ]
    },
    {
     "data": {
      "application/vnd.jupyter.widget-view+json": {
       "model_id": "af3ab15659f04e088401a7fcc26fc108",
       "version_major": 2,
       "version_minor": 0
      },
      "text/plain": [
       "HBox(children=(FloatProgress(value=0.0, description='Epoch 1', max=181.0, style=ProgressStyle(description_widt…"
      ]
     },
     "metadata": {},
     "output_type": "display_data"
    },
    {
     "name": "stdout",
     "output_type": "stream",
     "text": [
      "\n",
      "Avg train loss: 1.58367 (bce: 0.37222, log prob: 1.21145)\n"
     ]
    },
    {
     "data": {
      "application/vnd.jupyter.widget-view+json": {
       "model_id": "b0914b5fa10f4e269bb8877f275ed01a",
       "version_major": 2,
       "version_minor": 0
      },
      "text/plain": [
       "HBox(children=(FloatProgress(value=0.0, description='Validation..', max=1.0, style=ProgressStyle(description_w…"
      ]
     },
     "metadata": {},
     "output_type": "display_data"
    },
    {
     "name": "stdout",
     "output_type": "stream",
     "text": [
      "\n",
      "Val loss:  0.66225 (bce: 0.24889, log prob:  1.65341)\n",
      "Validation loss decreased (0.728756 --> 0.662247).  Saving model ...\n"
     ]
    },
    {
     "data": {
      "application/vnd.jupyter.widget-view+json": {
       "model_id": "fb858cfd23d846579451ae3b291347fb",
       "version_major": 2,
       "version_minor": 0
      },
      "text/plain": [
       "HBox(children=(FloatProgress(value=0.0, description='Epoch 2', max=181.0, style=ProgressStyle(description_widt…"
      ]
     },
     "metadata": {},
     "output_type": "display_data"
    },
    {
     "name": "stdout",
     "output_type": "stream",
     "text": [
      "\n",
      "Avg train loss: 1.24447 (bce: 0.28873, log prob: 0.95574)\n"
     ]
    },
    {
     "data": {
      "application/vnd.jupyter.widget-view+json": {
       "model_id": "e7d65943f7a5457ebdf7e2eb39d01326",
       "version_major": 2,
       "version_minor": 0
      },
      "text/plain": [
       "HBox(children=(FloatProgress(value=0.0, description='Validation..', max=1.0, style=ProgressStyle(description_w…"
      ]
     },
     "metadata": {},
     "output_type": "display_data"
    },
    {
     "name": "stdout",
     "output_type": "stream",
     "text": [
      "\n",
      "Val loss:  0.61879 (bce: 0.16157, log prob:  1.82890)\n",
      "Validation loss decreased (0.662247 --> 0.618795).  Saving model ...\n"
     ]
    },
    {
     "data": {
      "application/vnd.jupyter.widget-view+json": {
       "model_id": "bfbb7c9baea04dbea5bee4d8b99b9436",
       "version_major": 2,
       "version_minor": 0
      },
      "text/plain": [
       "HBox(children=(FloatProgress(value=0.0, description='Epoch 3', max=181.0, style=ProgressStyle(description_widt…"
      ]
     },
     "metadata": {},
     "output_type": "display_data"
    },
    {
     "name": "stdout",
     "output_type": "stream",
     "text": [
      "\n",
      "Avg train loss: 1.02238 (bce: 0.20413, log prob: 0.81825)\n"
     ]
    },
    {
     "data": {
      "application/vnd.jupyter.widget-view+json": {
       "model_id": "3ae4efd7f22b41b4a559f51581948f45",
       "version_major": 2,
       "version_minor": 0
      },
      "text/plain": [
       "HBox(children=(FloatProgress(value=0.0, description='Validation..', max=1.0, style=ProgressStyle(description_w…"
      ]
     },
     "metadata": {},
     "output_type": "display_data"
    },
    {
     "name": "stdout",
     "output_type": "stream",
     "text": [
      "\n",
      "Val loss:  0.61216 (bce: 0.12626, log prob:  1.94362)\n",
      "Validation loss decreased (0.618795 --> 0.612162).  Saving model ...\n"
     ]
    },
    {
     "data": {
      "application/vnd.jupyter.widget-view+json": {
       "model_id": "34d7da0d7f744c4bbc9c46f2a8a6ccaa",
       "version_major": 2,
       "version_minor": 0
      },
      "text/plain": [
       "HBox(children=(FloatProgress(value=0.0, description='Epoch 4', max=181.0, style=ProgressStyle(description_widt…"
      ]
     },
     "metadata": {},
     "output_type": "display_data"
    },
    {
     "name": "stdout",
     "output_type": "stream",
     "text": [
      "\n",
      "Avg train loss: 0.88012 (bce: 0.14853, log prob: 0.73159)\n"
     ]
    },
    {
     "data": {
      "application/vnd.jupyter.widget-view+json": {
       "model_id": "16dd96c09afb485596f7c20c161f12c9",
       "version_major": 2,
       "version_minor": 0
      },
      "text/plain": [
       "HBox(children=(FloatProgress(value=0.0, description='Validation..', max=1.0, style=ProgressStyle(description_w…"
      ]
     },
     "metadata": {},
     "output_type": "display_data"
    },
    {
     "name": "stdout",
     "output_type": "stream",
     "text": [
      "\n",
      "Val loss:  0.66308 (bce: 0.13421, log prob:  2.11549)\n",
      "EarlyStopping counter: 1 out of 10\n",
      "Intersection 4..\n"
     ]
    },
    {
     "data": {
      "application/vnd.jupyter.widget-view+json": {
       "model_id": "3e87e834deb94eb39840755288ad28dc",
       "version_major": 2,
       "version_minor": 0
      },
      "text/plain": [
       "HBox(children=(FloatProgress(value=0.0, description='Epoch 0', max=260.0, style=ProgressStyle(description_widt…"
      ]
     },
     "metadata": {},
     "output_type": "display_data"
    },
    {
     "name": "stdout",
     "output_type": "stream",
     "text": [
      "\n",
      "Avg train loss: 2.97351 (bce: 0.50227, log prob: 2.47123)\n"
     ]
    },
    {
     "data": {
      "application/vnd.jupyter.widget-view+json": {
       "model_id": "485f7da8a1f6471db919231fa66918f0",
       "version_major": 2,
       "version_minor": 0
      },
      "text/plain": [
       "HBox(children=(FloatProgress(value=0.0, description='Validation..', max=1.0, style=ProgressStyle(description_w…"
      ]
     },
     "metadata": {},
     "output_type": "display_data"
    },
    {
     "name": "stdout",
     "output_type": "stream",
     "text": [
      "\n",
      "Val loss:  0.91270 (bce: 0.56241, log prob:  1.40115)\n",
      "Validation loss decreased (inf --> 0.912703).  Saving model ...\n"
     ]
    },
    {
     "data": {
      "application/vnd.jupyter.widget-view+json": {
       "model_id": "d50b7cb5b87a4e4da5c608d4801c6078",
       "version_major": 2,
       "version_minor": 0
      },
      "text/plain": [
       "HBox(children=(FloatProgress(value=0.0, description='Epoch 1', max=260.0, style=ProgressStyle(description_widt…"
      ]
     },
     "metadata": {},
     "output_type": "display_data"
    },
    {
     "name": "stdout",
     "output_type": "stream",
     "text": [
      "\n",
      "Avg train loss: 1.41727 (bce: 0.34041, log prob: 1.07686)\n"
     ]
    },
    {
     "data": {
      "application/vnd.jupyter.widget-view+json": {
       "model_id": "7697668f07e441e9b0bd5fd5639b1bf0",
       "version_major": 2,
       "version_minor": 0
      },
      "text/plain": [
       "HBox(children=(FloatProgress(value=0.0, description='Validation..', max=1.0, style=ProgressStyle(description_w…"
      ]
     },
     "metadata": {},
     "output_type": "display_data"
    },
    {
     "name": "stdout",
     "output_type": "stream",
     "text": [
      "\n",
      "Val loss:  0.81437 (bce: 0.48060, log prob:  1.33508)\n",
      "Validation loss decreased (0.912703 --> 0.814367).  Saving model ...\n"
     ]
    },
    {
     "data": {
      "application/vnd.jupyter.widget-view+json": {
       "model_id": "4c5d81e7a92646dab875c5c527f24337",
       "version_major": 2,
       "version_minor": 0
      },
      "text/plain": [
       "HBox(children=(FloatProgress(value=0.0, description='Epoch 2', max=260.0, style=ProgressStyle(description_widt…"
      ]
     },
     "metadata": {},
     "output_type": "display_data"
    },
    {
     "name": "stdout",
     "output_type": "stream",
     "text": [
      "\n",
      "Avg train loss: 1.16395 (bce: 0.24808, log prob: 0.91587)\n"
     ]
    },
    {
     "data": {
      "application/vnd.jupyter.widget-view+json": {
       "model_id": "165617f562534c5498054e8d0bea2494",
       "version_major": 2,
       "version_minor": 0
      },
      "text/plain": [
       "HBox(children=(FloatProgress(value=0.0, description='Validation..', max=1.0, style=ProgressStyle(description_w…"
      ]
     },
     "metadata": {},
     "output_type": "display_data"
    },
    {
     "name": "stdout",
     "output_type": "stream",
     "text": [
      "\n",
      "Val loss:  0.74185 (bce: 0.40660, log prob:  1.34099)\n",
      "Validation loss decreased (0.814367 --> 0.741851).  Saving model ...\n"
     ]
    },
    {
     "data": {
      "application/vnd.jupyter.widget-view+json": {
       "model_id": "d0b331b25d13444c91bd8b72ddb8467a",
       "version_major": 2,
       "version_minor": 0
      },
      "text/plain": [
       "HBox(children=(FloatProgress(value=0.0, description='Epoch 3', max=260.0, style=ProgressStyle(description_widt…"
      ]
     },
     "metadata": {},
     "output_type": "display_data"
    },
    {
     "name": "stdout",
     "output_type": "stream",
     "text": [
      "\n",
      "Avg train loss: 1.01827 (bce: 0.19276, log prob: 0.82551)\n"
     ]
    },
    {
     "data": {
      "application/vnd.jupyter.widget-view+json": {
       "model_id": "872f77cada014ac6a82da0ede702e126",
       "version_major": 2,
       "version_minor": 0
      },
      "text/plain": [
       "HBox(children=(FloatProgress(value=0.0, description='Validation..', max=1.0, style=ProgressStyle(description_w…"
      ]
     },
     "metadata": {},
     "output_type": "display_data"
    },
    {
     "name": "stdout",
     "output_type": "stream",
     "text": [
      "\n",
      "Val loss:  0.68746 (bce: 0.34525, log prob:  1.36887)\n",
      "Validation loss decreased (0.741851 --> 0.687465).  Saving model ...\n"
     ]
    },
    {
     "data": {
      "application/vnd.jupyter.widget-view+json": {
       "model_id": "2ebc471c296847d19664c5d07d199229",
       "version_major": 2,
       "version_minor": 0
      },
      "text/plain": [
       "HBox(children=(FloatProgress(value=0.0, description='Epoch 4', max=260.0, style=ProgressStyle(description_widt…"
      ]
     },
     "metadata": {},
     "output_type": "display_data"
    },
    {
     "name": "stdout",
     "output_type": "stream",
     "text": [
      "\n",
      "Avg train loss: 0.92859 (bce: 0.16519, log prob: 0.76340)\n"
     ]
    },
    {
     "data": {
      "application/vnd.jupyter.widget-view+json": {
       "model_id": "a8a08f9660f9431f822d1f7ba2ae9f71",
       "version_major": 2,
       "version_minor": 0
      },
      "text/plain": [
       "HBox(children=(FloatProgress(value=0.0, description='Validation..', max=1.0, style=ProgressStyle(description_w…"
      ]
     },
     "metadata": {},
     "output_type": "display_data"
    },
    {
     "name": "stdout",
     "output_type": "stream",
     "text": [
      "\n",
      "Val loss:  0.68245 (bce: 0.33160, log prob:  1.40344)\n",
      "Validation loss decreased (0.687465 --> 0.682455).  Saving model ...\n",
      "Intersection 7..\n"
     ]
    },
    {
     "data": {
      "application/vnd.jupyter.widget-view+json": {
       "model_id": "15d5192ca9d34c13a8c383ee5bd0a7aa",
       "version_major": 2,
       "version_minor": 0
      },
      "text/plain": [
       "HBox(children=(FloatProgress(value=0.0, description='Epoch 0', max=265.0, style=ProgressStyle(description_widt…"
      ]
     },
     "metadata": {},
     "output_type": "display_data"
    },
    {
     "name": "stdout",
     "output_type": "stream",
     "text": [
      "\n",
      "Avg train loss: 2.84229 (bce: 0.50428, log prob: 2.33802)\n"
     ]
    },
    {
     "data": {
      "application/vnd.jupyter.widget-view+json": {
       "model_id": "19e9e844d50243f5aeece69f902d4805",
       "version_major": 2,
       "version_minor": 0
      },
      "text/plain": [
       "HBox(children=(FloatProgress(value=0.0, description='Validation..', max=2.0, style=ProgressStyle(description_w…"
      ]
     },
     "metadata": {},
     "output_type": "display_data"
    },
    {
     "name": "stdout",
     "output_type": "stream",
     "text": [
      "\n",
      "Val loss:  0.81505 (bce: 0.42739, log prob:  1.55064)\n",
      "Validation loss decreased (inf --> 0.815050).  Saving model ...\n"
     ]
    },
    {
     "data": {
      "application/vnd.jupyter.widget-view+json": {
       "model_id": "e9a21df2d8ef48a6b405e804f4be5576",
       "version_major": 2,
       "version_minor": 0
      },
      "text/plain": [
       "HBox(children=(FloatProgress(value=0.0, description='Epoch 1', max=265.0, style=ProgressStyle(description_widt…"
      ]
     },
     "metadata": {},
     "output_type": "display_data"
    },
    {
     "name": "stdout",
     "output_type": "stream",
     "text": [
      "\n",
      "Avg train loss: 1.37905 (bce: 0.35385, log prob: 1.02519)\n"
     ]
    },
    {
     "data": {
      "application/vnd.jupyter.widget-view+json": {
       "model_id": "cd3c526d38654384aaddfd84db536809",
       "version_major": 2,
       "version_minor": 0
      },
      "text/plain": [
       "HBox(children=(FloatProgress(value=0.0, description='Validation..', max=2.0, style=ProgressStyle(description_w…"
      ]
     },
     "metadata": {},
     "output_type": "display_data"
    },
    {
     "name": "stdout",
     "output_type": "stream",
     "text": [
      "\n",
      "Val loss:  0.69011 (bce: 0.31786, log prob:  1.48900)\n",
      "Validation loss decreased (0.815050 --> 0.690115).  Saving model ...\n"
     ]
    },
    {
     "data": {
      "application/vnd.jupyter.widget-view+json": {
       "model_id": "08dae29aff2145d396fb0b7d2a430d5d",
       "version_major": 2,
       "version_minor": 0
      },
      "text/plain": [
       "HBox(children=(FloatProgress(value=0.0, description='Epoch 2', max=265.0, style=ProgressStyle(description_widt…"
      ]
     },
     "metadata": {},
     "output_type": "display_data"
    },
    {
     "name": "stdout",
     "output_type": "stream",
     "text": [
      "\n",
      "Avg train loss: 1.09731 (bce: 0.25223, log prob: 0.84508)\n"
     ]
    },
    {
     "data": {
      "application/vnd.jupyter.widget-view+json": {
       "model_id": "aad972e1587d480d95582d1ff4fe686b",
       "version_major": 2,
       "version_minor": 0
      },
      "text/plain": [
       "HBox(children=(FloatProgress(value=0.0, description='Validation..', max=2.0, style=ProgressStyle(description_w…"
      ]
     },
     "metadata": {},
     "output_type": "display_data"
    },
    {
     "name": "stdout",
     "output_type": "stream",
     "text": [
      "\n",
      "Val loss:  0.59611 (bce: 0.22417, log prob:  1.48779)\n",
      "Validation loss decreased (0.690115 --> 0.596114).  Saving model ...\n"
     ]
    },
    {
     "data": {
      "application/vnd.jupyter.widget-view+json": {
       "model_id": "afe2a31f730244cd88f5aa6ddb1fbd98",
       "version_major": 2,
       "version_minor": 0
      },
      "text/plain": [
       "HBox(children=(FloatProgress(value=0.0, description='Epoch 3', max=265.0, style=ProgressStyle(description_widt…"
      ]
     },
     "metadata": {},
     "output_type": "display_data"
    },
    {
     "name": "stdout",
     "output_type": "stream",
     "text": [
      "\n",
      "Avg train loss: 0.93829 (bce: 0.21404, log prob: 0.72425)\n"
     ]
    },
    {
     "data": {
      "application/vnd.jupyter.widget-view+json": {
       "model_id": "3791561083ed41059974598f027274cb",
       "version_major": 2,
       "version_minor": 0
      },
      "text/plain": [
       "HBox(children=(FloatProgress(value=0.0, description='Validation..', max=2.0, style=ProgressStyle(description_w…"
      ]
     },
     "metadata": {},
     "output_type": "display_data"
    },
    {
     "name": "stdout",
     "output_type": "stream",
     "text": [
      "\n",
      "Val loss:  0.52416 (bce: 0.15613, log prob:  1.47210)\n",
      "Validation loss decreased (0.596114 --> 0.524157).  Saving model ...\n"
     ]
    },
    {
     "data": {
      "application/vnd.jupyter.widget-view+json": {
       "model_id": "4abb6e0d768644e79574859e837b6a91",
       "version_major": 2,
       "version_minor": 0
      },
      "text/plain": [
       "HBox(children=(FloatProgress(value=0.0, description='Epoch 4', max=265.0, style=ProgressStyle(description_widt…"
      ]
     },
     "metadata": {},
     "output_type": "display_data"
    },
    {
     "name": "stdout",
     "output_type": "stream",
     "text": [
      "\n",
      "Avg train loss: 0.85253 (bce: 0.20457, log prob: 0.64796)\n"
     ]
    },
    {
     "data": {
      "application/vnd.jupyter.widget-view+json": {
       "model_id": "513ed0b2ea434d2fac032dd28150fa34",
       "version_major": 2,
       "version_minor": 0
      },
      "text/plain": [
       "HBox(children=(FloatProgress(value=0.0, description='Validation..', max=2.0, style=ProgressStyle(description_w…"
      ]
     },
     "metadata": {},
     "output_type": "display_data"
    },
    {
     "name": "stdout",
     "output_type": "stream",
     "text": [
      "\n",
      "Val loss:  0.52388 (bce: 0.14974, log prob:  1.49658)\n",
      "Validation loss decreased (0.524157 --> 0.523881).  Saving model ...\n",
      "Intersection 2..\n"
     ]
    },
    {
     "data": {
      "application/vnd.jupyter.widget-view+json": {
       "model_id": "77b23f7cb1304886add7b9f92215397a",
       "version_major": 2,
       "version_minor": 0
      },
      "text/plain": [
       "HBox(children=(FloatProgress(value=0.0, description='Epoch 0', max=113.0, style=ProgressStyle(description_widt…"
      ]
     },
     "metadata": {},
     "output_type": "display_data"
    },
    {
     "name": "stdout",
     "output_type": "stream",
     "text": [
      "\n"
     ]
    },
    {
     "ename": "KeyboardInterrupt",
     "evalue": "",
     "output_type": "error",
     "traceback": [
      "\u001b[0;31m---------------------------------------------------------------------------\u001b[0m",
      "\u001b[0;31mKeyboardInterrupt\u001b[0m                         Traceback (most recent call last)",
      "\u001b[0;32m<ipython-input-18-e88cedded384>\u001b[0m in \u001b[0;36m<module>\u001b[0;34m\u001b[0m\n\u001b[1;32m      1\u001b[0m \u001b[0;32mfor\u001b[0m \u001b[0mintersection_idx\u001b[0m \u001b[0;32min\u001b[0m \u001b[0mmaster_intersection_idx_2_tl_signal_indices\u001b[0m\u001b[0;34m.\u001b[0m\u001b[0mkeys\u001b[0m\u001b[0;34m(\u001b[0m\u001b[0;34m)\u001b[0m\u001b[0;34m:\u001b[0m\u001b[0;34m\u001b[0m\u001b[0;34m\u001b[0m\u001b[0m\n\u001b[1;32m      2\u001b[0m     \u001b[0mprint\u001b[0m\u001b[0;34m(\u001b[0m\u001b[0;34mf'Intersection {intersection_idx}..'\u001b[0m\u001b[0;34m)\u001b[0m\u001b[0;34m\u001b[0m\u001b[0;34m\u001b[0m\u001b[0m\n\u001b[0;32m----> 3\u001b[0;31m     \u001b[0mtrain_intersection_model\u001b[0m\u001b[0;34m(\u001b[0m\u001b[0mintersection_idx\u001b[0m\u001b[0;34m,\u001b[0m \u001b[0mdevice\u001b[0m\u001b[0;34m,\u001b[0m \u001b[0mepoch_max\u001b[0m\u001b[0;34m=\u001b[0m\u001b[0;36m5\u001b[0m\u001b[0;34m)\u001b[0m\u001b[0;34m\u001b[0m\u001b[0;34m\u001b[0m\u001b[0m\n\u001b[0m",
      "\u001b[0;32m<ipython-input-13-eb4a169eb395>\u001b[0m in \u001b[0;36mtrain_intersection_model\u001b[0;34m(intersection_idx, device, lr, embedding_dim, hidden_dim, n_layers, bidirectional, dropout, epoch_max)\u001b[0m\n\u001b[1;32m     14\u001b[0m     \u001b[0mlr_scheduler\u001b[0m \u001b[0;34m=\u001b[0m \u001b[0moptim\u001b[0m\u001b[0;34m.\u001b[0m\u001b[0mlr_scheduler\u001b[0m\u001b[0;34m.\u001b[0m\u001b[0mReduceLROnPlateau\u001b[0m\u001b[0;34m(\u001b[0m\u001b[0moptimizer\u001b[0m\u001b[0;34m,\u001b[0m \u001b[0mverbose\u001b[0m\u001b[0;34m=\u001b[0m\u001b[0;32mTrue\u001b[0m\u001b[0;34m,\u001b[0m \u001b[0mpatience\u001b[0m\u001b[0;34m=\u001b[0m\u001b[0;36m3\u001b[0m\u001b[0;34m)\u001b[0m\u001b[0;34m\u001b[0m\u001b[0;34m\u001b[0m\u001b[0m\n\u001b[1;32m     15\u001b[0m     \u001b[0mearly_stopping\u001b[0m \u001b[0;34m=\u001b[0m \u001b[0mEarlyStopping\u001b[0m\u001b[0;34m(\u001b[0m\u001b[0mpatience\u001b[0m\u001b[0;34m=\u001b[0m\u001b[0;36m10\u001b[0m\u001b[0;34m,\u001b[0m \u001b[0mverbose\u001b[0m\u001b[0;34m=\u001b[0m\u001b[0;32mTrue\u001b[0m\u001b[0;34m,\u001b[0m \u001b[0mpath\u001b[0m\u001b[0;34m=\u001b[0m\u001b[0;34mf'intersection_{intersection_idx}_combined_loss_checkpoint.pt'\u001b[0m\u001b[0;34m)\u001b[0m\u001b[0;34m\u001b[0m\u001b[0;34m\u001b[0m\u001b[0m\n\u001b[0;32m---> 16\u001b[0;31m     \u001b[0mtrain\u001b[0m\u001b[0;34m(\u001b[0m\u001b[0mdataloader_trn\u001b[0m\u001b[0;34m,\u001b[0m \u001b[0mdataloader_val\u001b[0m\u001b[0;34m,\u001b[0m \u001b[0mintersection_model\u001b[0m\u001b[0;34m,\u001b[0m \u001b[0mdevice\u001b[0m\u001b[0;34m,\u001b[0m \u001b[0moptimizer\u001b[0m\u001b[0;34m,\u001b[0m \u001b[0mlr_scheduler\u001b[0m\u001b[0;34m,\u001b[0m \u001b[0mearly_stopping\u001b[0m\u001b[0;34m,\u001b[0m \u001b[0mepoch_max\u001b[0m\u001b[0;34m=\u001b[0m\u001b[0mepoch_max\u001b[0m\u001b[0;34m)\u001b[0m\u001b[0;34m\u001b[0m\u001b[0;34m\u001b[0m\u001b[0m\n\u001b[0m",
      "\u001b[0;32m<ipython-input-12-df130442973c>\u001b[0m in \u001b[0;36mtrain\u001b[0;34m(dataloader_trn, dataloader_val, intersection_model, device, optimizer, lr_scheduler, early_stopping, binary_crossentropy, epoch_max, clip_value)\u001b[0m\n\u001b[1;32m     61\u001b[0m         \u001b[0mlosses_bce_train\u001b[0m \u001b[0;34m=\u001b[0m \u001b[0;34m[\u001b[0m\u001b[0;34m]\u001b[0m\u001b[0;34m\u001b[0m\u001b[0;34m\u001b[0m\u001b[0m\n\u001b[1;32m     62\u001b[0m \u001b[0;34m\u001b[0m\u001b[0m\n\u001b[0;32m---> 63\u001b[0;31m         \u001b[0;32mfor\u001b[0m \u001b[0mbatch\u001b[0m \u001b[0;32min\u001b[0m \u001b[0mprogress_bar\u001b[0m\u001b[0;34m:\u001b[0m\u001b[0;34m\u001b[0m\u001b[0;34m\u001b[0m\u001b[0m\n\u001b[0m\u001b[1;32m     64\u001b[0m             \u001b[0mtokens\u001b[0m\u001b[0;34m,\u001b[0m \u001b[0mtoken_type_ohe\u001b[0m\u001b[0;34m,\u001b[0m \u001b[0mtoken_timesteps\u001b[0m\u001b[0;34m,\u001b[0m \u001b[0mseq_len\u001b[0m\u001b[0;34m,\u001b[0m \u001b[0mall_true_classes\u001b[0m\u001b[0;34m,\u001b[0m \u001b[0mall_tte\u001b[0m\u001b[0;34m,\u001b[0m \u001b[0mclasses_availabilities\u001b[0m\u001b[0;34m,\u001b[0m \u001b[0mtte_availabilities\u001b[0m \u001b[0;34m=\u001b[0m \u001b[0mbatch\u001b[0m\u001b[0;34m\u001b[0m\u001b[0;34m\u001b[0m\u001b[0m\n\u001b[1;32m     65\u001b[0m             \u001b[0;31m# moving to GPU if available\u001b[0m\u001b[0;34m\u001b[0m\u001b[0;34m\u001b[0m\u001b[0;34m\u001b[0m\u001b[0m\n",
      "\u001b[0;32m~/anaconda3/envs/trajectory/lib/python3.7/site-packages/tqdm/notebook.py\u001b[0m in \u001b[0;36m__iter__\u001b[0;34m(self, *args, **kwargs)\u001b[0m\n\u001b[1;32m    226\u001b[0m     \u001b[0;32mdef\u001b[0m \u001b[0m__iter__\u001b[0m\u001b[0;34m(\u001b[0m\u001b[0mself\u001b[0m\u001b[0;34m,\u001b[0m \u001b[0;34m*\u001b[0m\u001b[0margs\u001b[0m\u001b[0;34m,\u001b[0m \u001b[0;34m**\u001b[0m\u001b[0mkwargs\u001b[0m\u001b[0;34m)\u001b[0m\u001b[0;34m:\u001b[0m\u001b[0;34m\u001b[0m\u001b[0;34m\u001b[0m\u001b[0m\n\u001b[1;32m    227\u001b[0m         \u001b[0;32mtry\u001b[0m\u001b[0;34m:\u001b[0m\u001b[0;34m\u001b[0m\u001b[0;34m\u001b[0m\u001b[0m\n\u001b[0;32m--> 228\u001b[0;31m             \u001b[0;32mfor\u001b[0m \u001b[0mobj\u001b[0m \u001b[0;32min\u001b[0m \u001b[0msuper\u001b[0m\u001b[0;34m(\u001b[0m\u001b[0mtqdm_notebook\u001b[0m\u001b[0;34m,\u001b[0m \u001b[0mself\u001b[0m\u001b[0;34m)\u001b[0m\u001b[0;34m.\u001b[0m\u001b[0m__iter__\u001b[0m\u001b[0;34m(\u001b[0m\u001b[0;34m*\u001b[0m\u001b[0margs\u001b[0m\u001b[0;34m,\u001b[0m \u001b[0;34m**\u001b[0m\u001b[0mkwargs\u001b[0m\u001b[0;34m)\u001b[0m\u001b[0;34m:\u001b[0m\u001b[0;34m\u001b[0m\u001b[0;34m\u001b[0m\u001b[0m\n\u001b[0m\u001b[1;32m    229\u001b[0m                 \u001b[0;31m# return super(tqdm...) will not catch exception\u001b[0m\u001b[0;34m\u001b[0m\u001b[0;34m\u001b[0m\u001b[0;34m\u001b[0m\u001b[0m\n\u001b[1;32m    230\u001b[0m                 \u001b[0;32myield\u001b[0m \u001b[0mobj\u001b[0m\u001b[0;34m\u001b[0m\u001b[0;34m\u001b[0m\u001b[0m\n",
      "\u001b[0;32m~/anaconda3/envs/trajectory/lib/python3.7/site-packages/tqdm/std.py\u001b[0m in \u001b[0;36m__iter__\u001b[0;34m(self)\u001b[0m\n\u001b[1;32m   1128\u001b[0m \u001b[0;34m\u001b[0m\u001b[0m\n\u001b[1;32m   1129\u001b[0m         \u001b[0;32mtry\u001b[0m\u001b[0;34m:\u001b[0m\u001b[0;34m\u001b[0m\u001b[0;34m\u001b[0m\u001b[0m\n\u001b[0;32m-> 1130\u001b[0;31m             \u001b[0;32mfor\u001b[0m \u001b[0mobj\u001b[0m \u001b[0;32min\u001b[0m \u001b[0miterable\u001b[0m\u001b[0;34m:\u001b[0m\u001b[0;34m\u001b[0m\u001b[0;34m\u001b[0m\u001b[0m\n\u001b[0m\u001b[1;32m   1131\u001b[0m                 \u001b[0;32myield\u001b[0m \u001b[0mobj\u001b[0m\u001b[0;34m\u001b[0m\u001b[0;34m\u001b[0m\u001b[0m\n\u001b[1;32m   1132\u001b[0m                 \u001b[0;31m# Update and possibly print the progressbar.\u001b[0m\u001b[0;34m\u001b[0m\u001b[0;34m\u001b[0m\u001b[0;34m\u001b[0m\u001b[0m\n",
      "\u001b[0;32m~/anaconda3/envs/trajectory/lib/python3.7/site-packages/torch/utils/data/dataloader.py\u001b[0m in \u001b[0;36m__next__\u001b[0;34m(self)\u001b[0m\n\u001b[1;32m    343\u001b[0m \u001b[0;34m\u001b[0m\u001b[0m\n\u001b[1;32m    344\u001b[0m     \u001b[0;32mdef\u001b[0m \u001b[0m__next__\u001b[0m\u001b[0;34m(\u001b[0m\u001b[0mself\u001b[0m\u001b[0;34m)\u001b[0m\u001b[0;34m:\u001b[0m\u001b[0;34m\u001b[0m\u001b[0;34m\u001b[0m\u001b[0m\n\u001b[0;32m--> 345\u001b[0;31m         \u001b[0mdata\u001b[0m \u001b[0;34m=\u001b[0m \u001b[0mself\u001b[0m\u001b[0;34m.\u001b[0m\u001b[0m_next_data\u001b[0m\u001b[0;34m(\u001b[0m\u001b[0;34m)\u001b[0m\u001b[0;34m\u001b[0m\u001b[0;34m\u001b[0m\u001b[0m\n\u001b[0m\u001b[1;32m    346\u001b[0m         \u001b[0mself\u001b[0m\u001b[0;34m.\u001b[0m\u001b[0m_num_yielded\u001b[0m \u001b[0;34m+=\u001b[0m \u001b[0;36m1\u001b[0m\u001b[0;34m\u001b[0m\u001b[0;34m\u001b[0m\u001b[0m\n\u001b[1;32m    347\u001b[0m         \u001b[0;32mif\u001b[0m \u001b[0mself\u001b[0m\u001b[0;34m.\u001b[0m\u001b[0m_dataset_kind\u001b[0m \u001b[0;34m==\u001b[0m \u001b[0m_DatasetKind\u001b[0m\u001b[0;34m.\u001b[0m\u001b[0mIterable\u001b[0m \u001b[0;32mand\u001b[0m\u001b[0;31m \u001b[0m\u001b[0;31m\\\u001b[0m\u001b[0;34m\u001b[0m\u001b[0;34m\u001b[0m\u001b[0m\n",
      "\u001b[0;32m~/anaconda3/envs/trajectory/lib/python3.7/site-packages/torch/utils/data/dataloader.py\u001b[0m in \u001b[0;36m_next_data\u001b[0;34m(self)\u001b[0m\n\u001b[1;32m    839\u001b[0m \u001b[0;34m\u001b[0m\u001b[0m\n\u001b[1;32m    840\u001b[0m             \u001b[0;32massert\u001b[0m \u001b[0;32mnot\u001b[0m \u001b[0mself\u001b[0m\u001b[0;34m.\u001b[0m\u001b[0m_shutdown\u001b[0m \u001b[0;32mand\u001b[0m \u001b[0mself\u001b[0m\u001b[0;34m.\u001b[0m\u001b[0m_tasks_outstanding\u001b[0m \u001b[0;34m>\u001b[0m \u001b[0;36m0\u001b[0m\u001b[0;34m\u001b[0m\u001b[0;34m\u001b[0m\u001b[0m\n\u001b[0;32m--> 841\u001b[0;31m             \u001b[0midx\u001b[0m\u001b[0;34m,\u001b[0m \u001b[0mdata\u001b[0m \u001b[0;34m=\u001b[0m \u001b[0mself\u001b[0m\u001b[0;34m.\u001b[0m\u001b[0m_get_data\u001b[0m\u001b[0;34m(\u001b[0m\u001b[0;34m)\u001b[0m\u001b[0;34m\u001b[0m\u001b[0;34m\u001b[0m\u001b[0m\n\u001b[0m\u001b[1;32m    842\u001b[0m             \u001b[0mself\u001b[0m\u001b[0;34m.\u001b[0m\u001b[0m_tasks_outstanding\u001b[0m \u001b[0;34m-=\u001b[0m \u001b[0;36m1\u001b[0m\u001b[0;34m\u001b[0m\u001b[0;34m\u001b[0m\u001b[0m\n\u001b[1;32m    843\u001b[0m \u001b[0;34m\u001b[0m\u001b[0m\n",
      "\u001b[0;32m~/anaconda3/envs/trajectory/lib/python3.7/site-packages/torch/utils/data/dataloader.py\u001b[0m in \u001b[0;36m_get_data\u001b[0;34m(self)\u001b[0m\n\u001b[1;32m    806\u001b[0m         \u001b[0;32melse\u001b[0m\u001b[0;34m:\u001b[0m\u001b[0;34m\u001b[0m\u001b[0;34m\u001b[0m\u001b[0m\n\u001b[1;32m    807\u001b[0m             \u001b[0;32mwhile\u001b[0m \u001b[0;32mTrue\u001b[0m\u001b[0;34m:\u001b[0m\u001b[0;34m\u001b[0m\u001b[0;34m\u001b[0m\u001b[0m\n\u001b[0;32m--> 808\u001b[0;31m                 \u001b[0msuccess\u001b[0m\u001b[0;34m,\u001b[0m \u001b[0mdata\u001b[0m \u001b[0;34m=\u001b[0m \u001b[0mself\u001b[0m\u001b[0;34m.\u001b[0m\u001b[0m_try_get_data\u001b[0m\u001b[0;34m(\u001b[0m\u001b[0;34m)\u001b[0m\u001b[0;34m\u001b[0m\u001b[0;34m\u001b[0m\u001b[0m\n\u001b[0m\u001b[1;32m    809\u001b[0m                 \u001b[0;32mif\u001b[0m \u001b[0msuccess\u001b[0m\u001b[0;34m:\u001b[0m\u001b[0;34m\u001b[0m\u001b[0;34m\u001b[0m\u001b[0m\n\u001b[1;32m    810\u001b[0m                     \u001b[0;32mreturn\u001b[0m \u001b[0mdata\u001b[0m\u001b[0;34m\u001b[0m\u001b[0;34m\u001b[0m\u001b[0m\n",
      "\u001b[0;32m~/anaconda3/envs/trajectory/lib/python3.7/site-packages/torch/utils/data/dataloader.py\u001b[0m in \u001b[0;36m_try_get_data\u001b[0;34m(self, timeout)\u001b[0m\n\u001b[1;32m    759\u001b[0m         \u001b[0;31m#   (bool: whether successfully get data, any: data if successful else None)\u001b[0m\u001b[0;34m\u001b[0m\u001b[0;34m\u001b[0m\u001b[0;34m\u001b[0m\u001b[0m\n\u001b[1;32m    760\u001b[0m         \u001b[0;32mtry\u001b[0m\u001b[0;34m:\u001b[0m\u001b[0;34m\u001b[0m\u001b[0;34m\u001b[0m\u001b[0m\n\u001b[0;32m--> 761\u001b[0;31m             \u001b[0mdata\u001b[0m \u001b[0;34m=\u001b[0m \u001b[0mself\u001b[0m\u001b[0;34m.\u001b[0m\u001b[0m_data_queue\u001b[0m\u001b[0;34m.\u001b[0m\u001b[0mget\u001b[0m\u001b[0;34m(\u001b[0m\u001b[0mtimeout\u001b[0m\u001b[0;34m=\u001b[0m\u001b[0mtimeout\u001b[0m\u001b[0;34m)\u001b[0m\u001b[0;34m\u001b[0m\u001b[0;34m\u001b[0m\u001b[0m\n\u001b[0m\u001b[1;32m    762\u001b[0m             \u001b[0;32mreturn\u001b[0m \u001b[0;34m(\u001b[0m\u001b[0;32mTrue\u001b[0m\u001b[0;34m,\u001b[0m \u001b[0mdata\u001b[0m\u001b[0;34m)\u001b[0m\u001b[0;34m\u001b[0m\u001b[0;34m\u001b[0m\u001b[0m\n\u001b[1;32m    763\u001b[0m         \u001b[0;32mexcept\u001b[0m \u001b[0mException\u001b[0m \u001b[0;32mas\u001b[0m \u001b[0me\u001b[0m\u001b[0;34m:\u001b[0m\u001b[0;34m\u001b[0m\u001b[0;34m\u001b[0m\u001b[0m\n",
      "\u001b[0;32m~/anaconda3/envs/trajectory/lib/python3.7/multiprocessing/queues.py\u001b[0m in \u001b[0;36mget\u001b[0;34m(self, block, timeout)\u001b[0m\n\u001b[1;32m    111\u001b[0m                 \u001b[0mself\u001b[0m\u001b[0;34m.\u001b[0m\u001b[0m_rlock\u001b[0m\u001b[0;34m.\u001b[0m\u001b[0mrelease\u001b[0m\u001b[0;34m(\u001b[0m\u001b[0;34m)\u001b[0m\u001b[0;34m\u001b[0m\u001b[0;34m\u001b[0m\u001b[0m\n\u001b[1;32m    112\u001b[0m         \u001b[0;31m# unserialize the data after having released the lock\u001b[0m\u001b[0;34m\u001b[0m\u001b[0;34m\u001b[0m\u001b[0;34m\u001b[0m\u001b[0m\n\u001b[0;32m--> 113\u001b[0;31m         \u001b[0;32mreturn\u001b[0m \u001b[0m_ForkingPickler\u001b[0m\u001b[0;34m.\u001b[0m\u001b[0mloads\u001b[0m\u001b[0;34m(\u001b[0m\u001b[0mres\u001b[0m\u001b[0;34m)\u001b[0m\u001b[0;34m\u001b[0m\u001b[0;34m\u001b[0m\u001b[0m\n\u001b[0m\u001b[1;32m    114\u001b[0m \u001b[0;34m\u001b[0m\u001b[0m\n\u001b[1;32m    115\u001b[0m     \u001b[0;32mdef\u001b[0m \u001b[0mqsize\u001b[0m\u001b[0;34m(\u001b[0m\u001b[0mself\u001b[0m\u001b[0;34m)\u001b[0m\u001b[0;34m:\u001b[0m\u001b[0;34m\u001b[0m\u001b[0;34m\u001b[0m\u001b[0m\n",
      "\u001b[0;32m~/anaconda3/envs/trajectory/lib/python3.7/site-packages/torch/multiprocessing/reductions.py\u001b[0m in \u001b[0;36mrebuild_storage_fd\u001b[0;34m(cls, df, size)\u001b[0m\n\u001b[1;32m    292\u001b[0m                     \u001b[0;32mraise\u001b[0m\u001b[0;34m\u001b[0m\u001b[0;34m\u001b[0m\u001b[0m\n\u001b[1;32m    293\u001b[0m     \u001b[0;32melse\u001b[0m\u001b[0;34m:\u001b[0m\u001b[0;34m\u001b[0m\u001b[0;34m\u001b[0m\u001b[0m\n\u001b[0;32m--> 294\u001b[0;31m         \u001b[0mfd\u001b[0m \u001b[0;34m=\u001b[0m \u001b[0mdf\u001b[0m\u001b[0;34m.\u001b[0m\u001b[0mdetach\u001b[0m\u001b[0;34m(\u001b[0m\u001b[0;34m)\u001b[0m\u001b[0;34m\u001b[0m\u001b[0;34m\u001b[0m\u001b[0m\n\u001b[0m\u001b[1;32m    295\u001b[0m     \u001b[0;32mtry\u001b[0m\u001b[0;34m:\u001b[0m\u001b[0;34m\u001b[0m\u001b[0;34m\u001b[0m\u001b[0m\n\u001b[1;32m    296\u001b[0m         \u001b[0mstorage\u001b[0m \u001b[0;34m=\u001b[0m \u001b[0mstorage_from_cache\u001b[0m\u001b[0;34m(\u001b[0m\u001b[0mcls\u001b[0m\u001b[0;34m,\u001b[0m \u001b[0mfd_id\u001b[0m\u001b[0;34m(\u001b[0m\u001b[0mfd\u001b[0m\u001b[0;34m)\u001b[0m\u001b[0;34m)\u001b[0m\u001b[0;34m\u001b[0m\u001b[0;34m\u001b[0m\u001b[0m\n",
      "\u001b[0;32m~/anaconda3/envs/trajectory/lib/python3.7/multiprocessing/resource_sharer.py\u001b[0m in \u001b[0;36mdetach\u001b[0;34m(self)\u001b[0m\n\u001b[1;32m     55\u001b[0m         \u001b[0;32mdef\u001b[0m \u001b[0mdetach\u001b[0m\u001b[0;34m(\u001b[0m\u001b[0mself\u001b[0m\u001b[0;34m)\u001b[0m\u001b[0;34m:\u001b[0m\u001b[0;34m\u001b[0m\u001b[0;34m\u001b[0m\u001b[0m\n\u001b[1;32m     56\u001b[0m             \u001b[0;34m'''Get the fd.  This should only be called once.'''\u001b[0m\u001b[0;34m\u001b[0m\u001b[0;34m\u001b[0m\u001b[0m\n\u001b[0;32m---> 57\u001b[0;31m             \u001b[0;32mwith\u001b[0m \u001b[0m_resource_sharer\u001b[0m\u001b[0;34m.\u001b[0m\u001b[0mget_connection\u001b[0m\u001b[0;34m(\u001b[0m\u001b[0mself\u001b[0m\u001b[0;34m.\u001b[0m\u001b[0m_id\u001b[0m\u001b[0;34m)\u001b[0m \u001b[0;32mas\u001b[0m \u001b[0mconn\u001b[0m\u001b[0;34m:\u001b[0m\u001b[0;34m\u001b[0m\u001b[0;34m\u001b[0m\u001b[0m\n\u001b[0m\u001b[1;32m     58\u001b[0m                 \u001b[0;32mreturn\u001b[0m \u001b[0mreduction\u001b[0m\u001b[0;34m.\u001b[0m\u001b[0mrecv_handle\u001b[0m\u001b[0;34m(\u001b[0m\u001b[0mconn\u001b[0m\u001b[0;34m)\u001b[0m\u001b[0;34m\u001b[0m\u001b[0;34m\u001b[0m\u001b[0m\n\u001b[1;32m     59\u001b[0m \u001b[0;34m\u001b[0m\u001b[0m\n",
      "\u001b[0;32m~/anaconda3/envs/trajectory/lib/python3.7/multiprocessing/resource_sharer.py\u001b[0m in \u001b[0;36mget_connection\u001b[0;34m(ident)\u001b[0m\n\u001b[1;32m     85\u001b[0m         \u001b[0;32mfrom\u001b[0m \u001b[0;34m.\u001b[0m\u001b[0mconnection\u001b[0m \u001b[0;32mimport\u001b[0m \u001b[0mClient\u001b[0m\u001b[0;34m\u001b[0m\u001b[0;34m\u001b[0m\u001b[0m\n\u001b[1;32m     86\u001b[0m         \u001b[0maddress\u001b[0m\u001b[0;34m,\u001b[0m \u001b[0mkey\u001b[0m \u001b[0;34m=\u001b[0m \u001b[0mident\u001b[0m\u001b[0;34m\u001b[0m\u001b[0;34m\u001b[0m\u001b[0m\n\u001b[0;32m---> 87\u001b[0;31m         \u001b[0mc\u001b[0m \u001b[0;34m=\u001b[0m \u001b[0mClient\u001b[0m\u001b[0;34m(\u001b[0m\u001b[0maddress\u001b[0m\u001b[0;34m,\u001b[0m \u001b[0mauthkey\u001b[0m\u001b[0;34m=\u001b[0m\u001b[0mprocess\u001b[0m\u001b[0;34m.\u001b[0m\u001b[0mcurrent_process\u001b[0m\u001b[0;34m(\u001b[0m\u001b[0;34m)\u001b[0m\u001b[0;34m.\u001b[0m\u001b[0mauthkey\u001b[0m\u001b[0;34m)\u001b[0m\u001b[0;34m\u001b[0m\u001b[0;34m\u001b[0m\u001b[0m\n\u001b[0m\u001b[1;32m     88\u001b[0m         \u001b[0mc\u001b[0m\u001b[0;34m.\u001b[0m\u001b[0msend\u001b[0m\u001b[0;34m(\u001b[0m\u001b[0;34m(\u001b[0m\u001b[0mkey\u001b[0m\u001b[0;34m,\u001b[0m \u001b[0mos\u001b[0m\u001b[0;34m.\u001b[0m\u001b[0mgetpid\u001b[0m\u001b[0;34m(\u001b[0m\u001b[0;34m)\u001b[0m\u001b[0;34m)\u001b[0m\u001b[0;34m)\u001b[0m\u001b[0;34m\u001b[0m\u001b[0;34m\u001b[0m\u001b[0m\n\u001b[1;32m     89\u001b[0m         \u001b[0;32mreturn\u001b[0m \u001b[0mc\u001b[0m\u001b[0;34m\u001b[0m\u001b[0;34m\u001b[0m\u001b[0m\n",
      "\u001b[0;32m~/anaconda3/envs/trajectory/lib/python3.7/multiprocessing/connection.py\u001b[0m in \u001b[0;36mClient\u001b[0;34m(address, family, authkey)\u001b[0m\n\u001b[1;32m    497\u001b[0m     \u001b[0;32mif\u001b[0m \u001b[0mauthkey\u001b[0m \u001b[0;32mis\u001b[0m \u001b[0;32mnot\u001b[0m \u001b[0;32mNone\u001b[0m\u001b[0;34m:\u001b[0m\u001b[0;34m\u001b[0m\u001b[0;34m\u001b[0m\u001b[0m\n\u001b[1;32m    498\u001b[0m         \u001b[0manswer_challenge\u001b[0m\u001b[0;34m(\u001b[0m\u001b[0mc\u001b[0m\u001b[0;34m,\u001b[0m \u001b[0mauthkey\u001b[0m\u001b[0;34m)\u001b[0m\u001b[0;34m\u001b[0m\u001b[0;34m\u001b[0m\u001b[0m\n\u001b[0;32m--> 499\u001b[0;31m         \u001b[0mdeliver_challenge\u001b[0m\u001b[0;34m(\u001b[0m\u001b[0mc\u001b[0m\u001b[0;34m,\u001b[0m \u001b[0mauthkey\u001b[0m\u001b[0;34m)\u001b[0m\u001b[0;34m\u001b[0m\u001b[0;34m\u001b[0m\u001b[0m\n\u001b[0m\u001b[1;32m    500\u001b[0m \u001b[0;34m\u001b[0m\u001b[0m\n\u001b[1;32m    501\u001b[0m     \u001b[0;32mreturn\u001b[0m \u001b[0mc\u001b[0m\u001b[0;34m\u001b[0m\u001b[0;34m\u001b[0m\u001b[0m\n",
      "\u001b[0;32m~/anaconda3/envs/trajectory/lib/python3.7/multiprocessing/connection.py\u001b[0m in \u001b[0;36mdeliver_challenge\u001b[0;34m(connection, authkey)\u001b[0m\n\u001b[1;32m    726\u001b[0m             \"Authkey must be bytes, not {0!s}\".format(type(authkey)))\n\u001b[1;32m    727\u001b[0m     \u001b[0mmessage\u001b[0m \u001b[0;34m=\u001b[0m \u001b[0mos\u001b[0m\u001b[0;34m.\u001b[0m\u001b[0murandom\u001b[0m\u001b[0;34m(\u001b[0m\u001b[0mMESSAGE_LENGTH\u001b[0m\u001b[0;34m)\u001b[0m\u001b[0;34m\u001b[0m\u001b[0;34m\u001b[0m\u001b[0m\n\u001b[0;32m--> 728\u001b[0;31m     \u001b[0mconnection\u001b[0m\u001b[0;34m.\u001b[0m\u001b[0msend_bytes\u001b[0m\u001b[0;34m(\u001b[0m\u001b[0mCHALLENGE\u001b[0m \u001b[0;34m+\u001b[0m \u001b[0mmessage\u001b[0m\u001b[0;34m)\u001b[0m\u001b[0;34m\u001b[0m\u001b[0;34m\u001b[0m\u001b[0m\n\u001b[0m\u001b[1;32m    729\u001b[0m     \u001b[0mdigest\u001b[0m \u001b[0;34m=\u001b[0m \u001b[0mhmac\u001b[0m\u001b[0;34m.\u001b[0m\u001b[0mnew\u001b[0m\u001b[0;34m(\u001b[0m\u001b[0mauthkey\u001b[0m\u001b[0;34m,\u001b[0m \u001b[0mmessage\u001b[0m\u001b[0;34m,\u001b[0m \u001b[0;34m'md5'\u001b[0m\u001b[0;34m)\u001b[0m\u001b[0;34m.\u001b[0m\u001b[0mdigest\u001b[0m\u001b[0;34m(\u001b[0m\u001b[0;34m)\u001b[0m\u001b[0;34m\u001b[0m\u001b[0;34m\u001b[0m\u001b[0m\n\u001b[1;32m    730\u001b[0m     \u001b[0mresponse\u001b[0m \u001b[0;34m=\u001b[0m \u001b[0mconnection\u001b[0m\u001b[0;34m.\u001b[0m\u001b[0mrecv_bytes\u001b[0m\u001b[0;34m(\u001b[0m\u001b[0;36m256\u001b[0m\u001b[0;34m)\u001b[0m        \u001b[0;31m# reject large message\u001b[0m\u001b[0;34m\u001b[0m\u001b[0;34m\u001b[0m\u001b[0m\n",
      "\u001b[0;32m~/anaconda3/envs/trajectory/lib/python3.7/multiprocessing/connection.py\u001b[0m in \u001b[0;36msend_bytes\u001b[0;34m(self, buf, offset, size)\u001b[0m\n\u001b[1;32m    198\u001b[0m         \u001b[0;32melif\u001b[0m \u001b[0moffset\u001b[0m \u001b[0;34m+\u001b[0m \u001b[0msize\u001b[0m \u001b[0;34m>\u001b[0m \u001b[0mn\u001b[0m\u001b[0;34m:\u001b[0m\u001b[0;34m\u001b[0m\u001b[0;34m\u001b[0m\u001b[0m\n\u001b[1;32m    199\u001b[0m             \u001b[0;32mraise\u001b[0m \u001b[0mValueError\u001b[0m\u001b[0;34m(\u001b[0m\u001b[0;34m\"buffer length < offset + size\"\u001b[0m\u001b[0;34m)\u001b[0m\u001b[0;34m\u001b[0m\u001b[0;34m\u001b[0m\u001b[0m\n\u001b[0;32m--> 200\u001b[0;31m         \u001b[0mself\u001b[0m\u001b[0;34m.\u001b[0m\u001b[0m_send_bytes\u001b[0m\u001b[0;34m(\u001b[0m\u001b[0mm\u001b[0m\u001b[0;34m[\u001b[0m\u001b[0moffset\u001b[0m\u001b[0;34m:\u001b[0m\u001b[0moffset\u001b[0m \u001b[0;34m+\u001b[0m \u001b[0msize\u001b[0m\u001b[0;34m]\u001b[0m\u001b[0;34m)\u001b[0m\u001b[0;34m\u001b[0m\u001b[0;34m\u001b[0m\u001b[0m\n\u001b[0m\u001b[1;32m    201\u001b[0m \u001b[0;34m\u001b[0m\u001b[0m\n\u001b[1;32m    202\u001b[0m     \u001b[0;32mdef\u001b[0m \u001b[0msend\u001b[0m\u001b[0;34m(\u001b[0m\u001b[0mself\u001b[0m\u001b[0;34m,\u001b[0m \u001b[0mobj\u001b[0m\u001b[0;34m)\u001b[0m\u001b[0;34m:\u001b[0m\u001b[0;34m\u001b[0m\u001b[0;34m\u001b[0m\u001b[0m\n",
      "\u001b[0;32m~/anaconda3/envs/trajectory/lib/python3.7/multiprocessing/connection.py\u001b[0m in \u001b[0;36m_send_bytes\u001b[0;34m(self, buf)\u001b[0m\n\u001b[1;32m    402\u001b[0m             \u001b[0;31m# Also note we want to avoid sending a 0-length buffer separately,\u001b[0m\u001b[0;34m\u001b[0m\u001b[0;34m\u001b[0m\u001b[0;34m\u001b[0m\u001b[0m\n\u001b[1;32m    403\u001b[0m             \u001b[0;31m# to avoid \"broken pipe\" errors if the other end closed the pipe.\u001b[0m\u001b[0;34m\u001b[0m\u001b[0;34m\u001b[0m\u001b[0;34m\u001b[0m\u001b[0m\n\u001b[0;32m--> 404\u001b[0;31m             \u001b[0mself\u001b[0m\u001b[0;34m.\u001b[0m\u001b[0m_send\u001b[0m\u001b[0;34m(\u001b[0m\u001b[0mheader\u001b[0m \u001b[0;34m+\u001b[0m \u001b[0mbuf\u001b[0m\u001b[0;34m)\u001b[0m\u001b[0;34m\u001b[0m\u001b[0;34m\u001b[0m\u001b[0m\n\u001b[0m\u001b[1;32m    405\u001b[0m \u001b[0;34m\u001b[0m\u001b[0m\n\u001b[1;32m    406\u001b[0m     \u001b[0;32mdef\u001b[0m \u001b[0m_recv_bytes\u001b[0m\u001b[0;34m(\u001b[0m\u001b[0mself\u001b[0m\u001b[0;34m,\u001b[0m \u001b[0mmaxsize\u001b[0m\u001b[0;34m=\u001b[0m\u001b[0;32mNone\u001b[0m\u001b[0;34m)\u001b[0m\u001b[0;34m:\u001b[0m\u001b[0;34m\u001b[0m\u001b[0;34m\u001b[0m\u001b[0m\n",
      "\u001b[0;32m~/anaconda3/envs/trajectory/lib/python3.7/multiprocessing/connection.py\u001b[0m in \u001b[0;36m_send\u001b[0;34m(self, buf, write)\u001b[0m\n\u001b[1;32m    366\u001b[0m         \u001b[0mremaining\u001b[0m \u001b[0;34m=\u001b[0m \u001b[0mlen\u001b[0m\u001b[0;34m(\u001b[0m\u001b[0mbuf\u001b[0m\u001b[0;34m)\u001b[0m\u001b[0;34m\u001b[0m\u001b[0;34m\u001b[0m\u001b[0m\n\u001b[1;32m    367\u001b[0m         \u001b[0;32mwhile\u001b[0m \u001b[0;32mTrue\u001b[0m\u001b[0;34m:\u001b[0m\u001b[0;34m\u001b[0m\u001b[0;34m\u001b[0m\u001b[0m\n\u001b[0;32m--> 368\u001b[0;31m             \u001b[0mn\u001b[0m \u001b[0;34m=\u001b[0m \u001b[0mwrite\u001b[0m\u001b[0;34m(\u001b[0m\u001b[0mself\u001b[0m\u001b[0;34m.\u001b[0m\u001b[0m_handle\u001b[0m\u001b[0;34m,\u001b[0m \u001b[0mbuf\u001b[0m\u001b[0;34m)\u001b[0m\u001b[0;34m\u001b[0m\u001b[0;34m\u001b[0m\u001b[0m\n\u001b[0m\u001b[1;32m    369\u001b[0m             \u001b[0mremaining\u001b[0m \u001b[0;34m-=\u001b[0m \u001b[0mn\u001b[0m\u001b[0;34m\u001b[0m\u001b[0;34m\u001b[0m\u001b[0m\n\u001b[1;32m    370\u001b[0m             \u001b[0;32mif\u001b[0m \u001b[0mremaining\u001b[0m \u001b[0;34m==\u001b[0m \u001b[0;36m0\u001b[0m\u001b[0;34m:\u001b[0m\u001b[0;34m\u001b[0m\u001b[0;34m\u001b[0m\u001b[0m\n",
      "\u001b[0;31mKeyboardInterrupt\u001b[0m: "
     ]
    }
   ],
   "source": [
    "for intersection_idx in master_intersection_idx_2_tl_signal_indices.keys():\n",
    "    print(f'Intersection {intersection_idx}..')\n",
    "    train_intersection_model(intersection_idx, device, epoch_max=20)"
   ]
  }
 ],
 "metadata": {
  "kernelspec": {
   "display_name": "Python 3",
   "language": "python",
   "name": "python3"
  },
  "language_info": {
   "codemirror_mode": {
    "name": "ipython",
    "version": 3
   },
   "file_extension": ".py",
   "mimetype": "text/x-python",
   "name": "python",
   "nbconvert_exporter": "python",
   "pygments_lexer": "ipython3",
   "version": "3.7.8"
  }
 },
 "nbformat": 4,
 "nbformat_minor": 4
}
