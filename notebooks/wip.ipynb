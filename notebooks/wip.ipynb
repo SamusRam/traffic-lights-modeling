{
 "cells": [
  {
   "cell_type": "code",
   "execution_count": 1,
   "metadata": {},
   "outputs": [],
   "source": [
    "from typing import List, Optional, Tuple\n",
    "\n",
    "import numpy as np\n",
    "\n",
    "from l5kit.data import (\n",
    "    TL_FACE_DTYPE,\n",
    "    filter_agents_by_labels,\n",
    "    filter_tl_faces_by_frames,\n",
    "    get_agents_slice_from_frames,\n",
    "    get_tl_faces_slice_from_frames,\n",
    ")\n",
    "from l5kit.data.filter import filter_agents_by_frames, filter_agents_by_track_id\n",
    "from l5kit.geometry import angular_distance, rotation33_as_yaw\n",
    "from l5kit.kinematic import Perturbation\n",
    "from l5kit.sampling.slicing import get_future_slice, get_history_slice\n",
    "from l5kit.rasterization import EGO_EXTENT_HEIGHT, EGO_EXTENT_LENGTH, EGO_EXTENT_WIDTH\n",
    "\n",
    "\n",
    "def generate_agent_sample(\n",
    "    state_index: int,\n",
    "    frames: np.ndarray,\n",
    "    agents: np.ndarray,\n",
    "    tl_faces: np.ndarray,\n",
    "    selected_track_id: Optional[int],\n",
    "    history_num_frames: int,\n",
    "    history_step_size: int,\n",
    "    future_num_frames: int,\n",
    "    future_step_size: int,\n",
    "    filter_agents_threshold: float,\n",
    "    perturbation: Optional[Perturbation] = None,\n",
    ") -> dict:\n",
    "    \"\"\"Generates the inputs and targets to train a deep prediction model. A deep prediction model takes as input\n",
    "    the state of the world (here: an image we will call the \"raster\"), and outputs where that agent will be some\n",
    "    seconds into the future.\n",
    "    This function has a lot of arguments and is intended for internal use, you should try to use higher level classes\n",
    "    and partials that use this function.\n",
    "    Args:\n",
    "        state_index (int): The anchor frame index, i.e. the \"current\" timestep in the scene\n",
    "        frames (np.ndarray): The scene frames array, can be numpy array or a zarr array\n",
    "        agents (np.ndarray): The full agents array, can be numpy array or a zarr array\n",
    "        tl_faces (np.ndarray): The full traffic light faces array, can be numpy array or a zarr array\n",
    "        selected_track_id (Optional[int]): Either None for AV, or the ID of an agent that you want to\n",
    "        predict the future of. This agent is centered in the raster and the returned targets are derived from\n",
    "        their future states.\n",
    "        history_num_frames (int): Amount of history frames to draw into the rasters\n",
    "        history_step_size (int): Steps to take between frames, can be used to subsample history frames\n",
    "        future_num_frames (int): Amount of history frames to draw into the rasters\n",
    "        future_step_size (int): Steps to take between targets into the future\n",
    "        filter_agents_threshold (float): Value between 0 and 1 to use as cutoff value for agent filtering\n",
    "        based on their probability of being a relevant agent\n",
    "        perturbation (Optional[Perturbation]): Object that perturbs the input and targets, used\n",
    "to train models that can recover from slight divergence from training set data\n",
    "    Raises:\n",
    "        ValueError: A ValueError is returned if the specified ``selected_track_id`` is not present in the scene\n",
    "        or was filtered by applying the ``filter_agent_threshold`` probability filtering.\n",
    "    Returns:\n",
    "        dict: a dict object with the raster array, the future offset coordinates (meters),\n",
    "        the future yaw angular offset, the future_availability as a binary mask\n",
    "    \"\"\"\n",
    "    #  the history slice is ordered starting from the latest frame and goes backward in time., ex. slice(100, 91, -2)\n",
    "    history_slice = get_history_slice(state_index, history_num_frames, history_step_size, include_current_state=True)\n",
    "    future_slice = get_future_slice(state_index, future_num_frames, future_step_size)\n",
    "\n",
    "    history_frames = frames[history_slice].copy()  # copy() required if the object is a np.ndarray\n",
    "    future_frames = frames[future_slice].copy()\n",
    "\n",
    "    sorted_frames = np.concatenate((history_frames[::-1], future_frames))  # from past to future\n",
    "\n",
    "    # get agents (past and future)\n",
    "    agent_slice = get_agents_slice_from_frames(sorted_frames[0], sorted_frames[-1])\n",
    "    agents = agents[agent_slice].copy()  # this is the minimum slice of agents we need\n",
    "    history_frames[\"agent_index_interval\"] -= agent_slice.start  # sync interval with the agents array\n",
    "    future_frames[\"agent_index_interval\"] -= agent_slice.start  # sync interval with the agents array\n",
    "    history_agents = filter_agents_by_frames(history_frames, agents)\n",
    "    future_agents = filter_agents_by_frames(future_frames, agents)\n",
    "\n",
    "    try:\n",
    "        tl_slice = get_tl_faces_slice_from_frames(history_frames[-1], history_frames[0])  # -1 is the farthest\n",
    "        # sync interval with the traffic light faces array\n",
    "        history_frames[\"traffic_light_faces_index_interval\"] -= tl_slice.start\n",
    "        history_tl_faces = filter_tl_faces_by_frames(history_frames, tl_faces[tl_slice].copy())\n",
    "    except ValueError:\n",
    "        history_tl_faces = [np.empty(0, dtype=TL_FACE_DTYPE) for _ in history_frames]\n",
    "\n",
    "    if perturbation is not None:\n",
    "        history_frames, future_frames = perturbation.perturb(\n",
    "            history_frames=history_frames, future_frames=future_frames\n",
    "        )\n",
    "\n",
    "    # State you want to predict the future of.\n",
    "    cur_frame = history_frames[0]\n",
    "    cur_agents = history_agents[0]\n",
    "\n",
    "    if selected_track_id is None:\n",
    "        agent_centroid = cur_frame[\"ego_translation\"][:2]\n",
    "        agent_yaw = rotation33_as_yaw(cur_frame[\"ego_rotation\"])\n",
    "        agent_extent = np.asarray((EGO_EXTENT_LENGTH, EGO_EXTENT_WIDTH, EGO_EXTENT_HEIGHT))\n",
    "        selected_agent = None\n",
    "        agent_label_probabilities = None\n",
    "        agent_velocity = None\n",
    "    else:\n",
    "        # this will raise IndexError if the agent is not in the frame or under agent-threshold\n",
    "        # this is a strict error, we cannot recover from this situation\n",
    "        try:\n",
    "            agent = filter_agents_by_track_id(\n",
    "                filter_agents_by_labels(cur_agents, filter_agents_threshold), selected_track_id\n",
    "            )[0]\n",
    "        except IndexError:\n",
    "            raise ValueError(f\" track_id {selected_track_id} not in frame or below threshold\")\n",
    "        agent_centroid = agent[\"centroid\"]\n",
    "        agent_yaw = float(agent[\"yaw\"])\n",
    "        agent_extent = agent[\"extent\"]\n",
    "        selected_agent = agent\n",
    "        agent_label_probabilities = agent[\"label_probabilities\"]\n",
    "        agent_velocity = agent[\"velocity\"]\n",
    "\n",
    "    future_coords_offset, future_yaws_offset, future_availability, _ = _create_targets_for_deep_prediction(\n",
    "        future_num_frames, future_frames, selected_track_id, future_agents, agent_centroid[:2], agent_yaw,\n",
    "    )\n",
    "\n",
    "    # history_num_frames + 1 because it also includes the current frame\n",
    "    history_coords_offset, history_yaws_offset, history_availability, history_velocities = _create_targets_for_deep_prediction(\n",
    "        history_num_frames + 1, history_frames, selected_track_id, history_agents, agent_centroid[:2], agent_yaw,\n",
    "    )\n",
    "\n",
    "    return {\n",
    "        \"target_positions\": future_coords_offset,\n",
    "        \"target_yaws\": future_yaws_offset,\n",
    "        \"target_availabilities\": future_availability,\n",
    "        \"history_positions\": history_coords_offset,\n",
    "        \"history_yaws\": history_yaws_offset,\n",
    "        \"history_availabilities\": history_availability,\n",
    "        \"centroid\": agent_centroid,\n",
    "        \"yaw\": agent_yaw,\n",
    "        \"extent\": agent_extent,\n",
    "        \"label_probabilities\": agent_label_probabilities,\n",
    "        \"history_velocities\": history_velocities\n",
    "    }\n",
    "\n",
    "\n",
    "def _create_targets_for_deep_prediction(\n",
    "    num_frames: int,\n",
    "    frames: np.ndarray,\n",
    "    selected_track_id: Optional[int],\n",
    "    agents: List[np.ndarray],\n",
    "    agent_current_centroid: np.ndarray,\n",
    "    agent_current_yaw: float,\n",
    ") -> Tuple[np.ndarray, np.ndarray, np.ndarray]:\n",
    "    \"\"\"\n",
    "    Internal function that creates the targets and availability masks for deep prediction-type models.\n",
    "    The futures/history offset (in meters) are computed. When no info is available (e.g. agent not in frame)\n",
    "    a 0 is set in the availability array (1 otherwise).\n",
    "    Args:\n",
    "        num_frames (int): number of offset we want in the future/history\n",
    "        frames (np.ndarray): available frames. This may be less than num_frames\n",
    "        selected_track_id (Optional[int]): agent track_id or AV (None)\n",
    "        agents (List[np.ndarray]): list of agents arrays (same len of frames)\n",
    "        agent_current_centroid (np.ndarray): centroid of the agent at timestep 0\n",
    "        agent_current_yaw (float): angle of the agent at timestep 0\n",
    "    Returns:\n",
    "        Tuple[np.ndarray, np.ndarray, np.ndarray]: position offsets, angle offsets, availabilities\n",
    "    \"\"\"\n",
    "    # How much the coordinates differ from the current state in meters.\n",
    "    coords_offset = np.zeros((num_frames, 2), dtype=np.float32)\n",
    "    velocities = np.zeros((num_frames, 2), dtype=np.float32)\n",
    "    yaws_offset = np.zeros((num_frames, 1), dtype=np.float32)\n",
    "    availability = np.zeros((num_frames,), dtype=np.float32)\n",
    "\n",
    "    for i, (frame, agents) in enumerate(zip(frames, agents)):\n",
    "        if selected_track_id is None:\n",
    "            agent_centroid = frame[\"ego_translation\"][:2]\n",
    "            agent_yaw = rotation33_as_yaw(frame[\"ego_rotation\"])\n",
    "            agent_velocity = None\n",
    "        else:\n",
    "            # it's not guaranteed the target will be in every frame\n",
    "            try:\n",
    "                agent = filter_agents_by_track_id(agents, selected_track_id)[0]\n",
    "            except IndexError:\n",
    "                availability[i] = 0.0  # keep track of invalid futures/history\n",
    "                continue\n",
    "\n",
    "            agent_centroid = agent[\"centroid\"]\n",
    "            agent_yaw = agent[\"yaw\"]\n",
    "            agent_velocity = agent[\"velocity\"]\n",
    "\n",
    "        coords_offset[i] = agent_centroid - agent_current_centroid\n",
    "        velocities[i] = agent_velocity\n",
    "        yaws_offset[i] = angular_distance(agent_yaw, agent_current_yaw)\n",
    "        availability[i] = 1.0\n",
    "    return coords_offset, yaws_offset, availability, velocities[:num_frames - 1,:]"
   ]
  },
  {
   "cell_type": "code",
   "execution_count": 2,
   "metadata": {},
   "outputs": [],
   "source": [
    "import bisect\n",
    "from functools import partial\n",
    "from typing import Optional, Tuple, cast\n",
    "\n",
    "import numpy as np\n",
    "from torch.utils.data import Dataset\n",
    "\n",
    "from l5kit.data import (\n",
    "    ChunkedDataset,\n",
    "    get_agents_slice_from_frames,\n",
    "    get_frames_slice_from_scenes,\n",
    "    get_tl_faces_slice_from_frames,\n",
    ")\n",
    "\n",
    "\n",
    "class EgoDatasetModified(Dataset):\n",
    "    def __init__(\n",
    "        self,\n",
    "        cfg: dict,\n",
    "        zarr_dataset: ChunkedDataset,\n",
    "    ):\n",
    "        \"\"\"\n",
    "        Get a PyTorch dataset object that can be used to train DNN\n",
    "        Args:\n",
    "            cfg (dict): configuration file\n",
    "            zarr_dataset (ChunkedDataset): the raw zarr dataset\n",
    "        \"\"\"\n",
    "        self.cfg = cfg\n",
    "        self.dataset = zarr_dataset\n",
    "\n",
    "        self.cumulative_sizes = self.dataset.scenes[\"frame_index_interval\"][:, 1]\n",
    "\n",
    "        # build a partial so we don't have to access cfg each time\n",
    "        self.sample_function = partial(\n",
    "            generate_agent_sample,\n",
    "            history_num_frames=cfg[\"model_params\"][\"history_num_frames\"],\n",
    "            history_step_size=cfg[\"model_params\"][\"history_step_size\"],\n",
    "            future_num_frames=cfg[\"model_params\"][\"future_num_frames\"],\n",
    "            future_step_size=cfg[\"model_params\"][\"future_step_size\"],\n",
    "            filter_agents_threshold=cfg[\"raster_params\"][\"filter_agents_threshold\"],\n",
    "            perturbation=None,\n",
    "        )\n",
    "\n",
    "    def __len__(self) -> int:\n",
    "        \"\"\"\n",
    "        Get the number of available AV frames\n",
    "        Returns:\n",
    "            int: the number of elements in the dataset\n",
    "        \"\"\"\n",
    "        return len(self.dataset.frames)\n",
    "\n",
    "    def get_frame(self, scene_index: int, state_index: int, track_id: Optional[int] = None) -> dict:\n",
    "        \"\"\"\n",
    "        A utility function to get the rasterisation and trajectory target for a given agent in a given frame\n",
    "        Args:\n",
    "            scene_index (int): the index of the scene in the zarr\n",
    "            state_index (int): a relative frame index in the scene\n",
    "            track_id (Optional[int]): the agent to rasterize or None for the AV\n",
    "        Returns:\n",
    "            dict: the rasterised image, the target trajectory (position and yaw) along with their availability,\n",
    "            the 2D matrix to center that agent, the agent track (-1 if ego) and the timestamp\n",
    "        \"\"\"\n",
    "        frames = self.dataset.frames[get_frames_slice_from_scenes(self.dataset.scenes[scene_index])]\n",
    "        data = self.sample_function(state_index, frames, self.dataset.agents, self.dataset.tl_faces, track_id)\n",
    "\n",
    "        target_positions = np.array(data[\"target_positions\"], dtype=np.float32)\n",
    "        target_yaws = np.array(data[\"target_yaws\"], dtype=np.float32)\n",
    "\n",
    "        history_positions = np.array(data[\"history_positions\"], dtype=np.float32)\n",
    "        history_velocities = np.array(data[\"history_velocities\"], dtype=np.float32)\n",
    "        history_yaws = np.array(data[\"history_yaws\"], dtype=np.float32)\n",
    "\n",
    "        timestamp = frames[state_index][\"timestamp\"]\n",
    "        track_id = np.int64(-1 if track_id is None else track_id)  # always a number to avoid crashing torch\n",
    "            \n",
    "        return {\n",
    "            \"target_positions\": target_positions,\n",
    "            \"target_yaws\": target_yaws,\n",
    "            \"target_availabilities\": data[\"target_availabilities\"],\n",
    "            \"history_positions\": history_positions,\n",
    "            \"history_yaws\": history_yaws,\n",
    "            \"history_availabilities\": data[\"history_availabilities\"],\n",
    "            \"track_id\": track_id,\n",
    "            \"timestamp\": timestamp,\n",
    "            \"centroid\": data[\"centroid\"],\n",
    "            \"yaw\": data[\"yaw\"],\n",
    "            \"extent\": data[\"extent\"],\n",
    "            \"label_probabilities\": data[\"label_probabilities\"],\n",
    "            \"history_velocities\": history_velocities,\n",
    "        }\n",
    "\n",
    "    def __getitem__(self, index: int) -> dict:\n",
    "        \"\"\"\n",
    "        Function called by Torch to get an element\n",
    "        Args:\n",
    "            index (int): index of the element to retrieve\n",
    "        Returns: please look get_frame signature and docstring\n",
    "        \"\"\"\n",
    "        if index < 0:\n",
    "            if -index > len(self):\n",
    "                raise ValueError(\"absolute value of index should not exceed dataset length\")\n",
    "            index = len(self) + index\n",
    "\n",
    "        scene_index = bisect.bisect_right(self.cumulative_sizes, index)\n",
    "\n",
    "        if scene_index == 0:\n",
    "            state_index = index\n",
    "        else:\n",
    "            state_index = index - self.cumulative_sizes[scene_index - 1]\n",
    "        return self.get_frame(scene_index, state_index)\n",
    "\n",
    "    def get_scene_dataset(self, scene_index: int) -> \"EgoDataset\":\n",
    "        \"\"\"\n",
    "        Returns another EgoDataset dataset where the underlying data can be modified.\n",
    "        This is possible because, even if it supports the same interface, this dataset is np.ndarray based.\n",
    "        Args:\n",
    "            scene_index (int): the scene index of the new dataset\n",
    "        Returns:\n",
    "            EgoDataset: A valid EgoDataset dataset with a copy of the data\n",
    "        \"\"\"\n",
    "        # copy everything to avoid references (scene is already detached from zarr if get_combined_scene was called)\n",
    "        scenes = self.dataset.scenes[scene_index : scene_index + 1].copy()\n",
    "        frame_slice = get_frames_slice_from_scenes(*scenes)\n",
    "        frames = self.dataset.frames[frame_slice].copy()\n",
    "        agent_slice = get_agents_slice_from_frames(*frames[[0, -1]])\n",
    "        tl_slice = get_tl_faces_slice_from_frames(*frames[[0, -1]])\n",
    "\n",
    "        agents = self.dataset.agents[agent_slice].copy()\n",
    "        tl_faces = self.dataset.tl_faces[tl_slice].copy()\n",
    "\n",
    "        frames[\"agent_index_interval\"] -= agent_slice.start\n",
    "        frames[\"traffic_light_faces_index_interval\"] -= tl_slice.start\n",
    "        scenes[\"frame_index_interval\"] -= frame_slice.start\n",
    "\n",
    "        dataset = ChunkedDataset(\"\")\n",
    "        dataset.agents = agents\n",
    "        dataset.tl_faces = tl_faces\n",
    "        dataset.frames = frames\n",
    "        dataset.scenes = scenes\n",
    "\n",
    "        return EgoDataset(self.cfg, dataset)\n",
    "\n",
    "    def get_scene_indices(self, scene_idx: int) -> np.ndarray:\n",
    "        \"\"\"\n",
    "        Get indices for the given scene. EgoDataset iterates over frames, so this is just a matter\n",
    "        of finding the scene boundaries.\n",
    "        Args:\n",
    "            scene_idx (int): index of the scene\n",
    "        Returns:\n",
    "            np.ndarray: indices that can be used for indexing with __getitem__\n",
    "        \"\"\"\n",
    "        scenes = self.dataset.scenes\n",
    "        assert scene_idx < len(scenes), f\"scene_idx {scene_idx} is over len {len(scenes)}\"\n",
    "        return np.arange(*scenes[scene_idx][\"frame_index_interval\"])\n",
    "\n",
    "    def get_frame_indices(self, frame_idx: int) -> np.ndarray:\n",
    "        \"\"\"\n",
    "        Get indices for the given frame. EgoDataset iterates over frames, so this will be a single element\n",
    "        Args:\n",
    "            frame_idx (int): index of the scene\n",
    "        Returns:\n",
    "            np.ndarray: indices that can be used for indexing with __getitem__\n",
    "        \"\"\"\n",
    "        frames = self.dataset.frames\n",
    "        assert frame_idx < len(frames), f\"frame_idx {frame_idx} is over len {len(frames)}\"\n",
    "        return np.asarray((frame_idx,), dtype=np.int64)\n",
    "\n",
    "    def __str__(self) -> str:\n",
    "        return self.dataset.__str__()"
   ]
  },
  {
   "cell_type": "code",
   "execution_count": 3,
   "metadata": {},
   "outputs": [],
   "source": [
    "import bisect\n",
    "from pathlib import Path\n",
    "from typing import Optional\n",
    "\n",
    "import numpy as np\n",
    "from zarr import convenience\n",
    "\n",
    "from l5kit.data import ChunkedDataset, get_agents_slice_from_frames, get_frames_slice_from_scenes\n",
    "from l5kit.dataset.select_agents import TH_DISTANCE_AV, TH_EXTENT_RATIO, TH_YAW_DEGREE, select_agents\n",
    "\n",
    "# WARNING: changing these values impact the number of instances selected for both train and inference!\n",
    "MIN_FRAME_HISTORY = 10  # minimum number of frames an agents must have in the past to be picked\n",
    "MIN_FRAME_FUTURE = 1  # minimum number of frames an agents must have in the future to be picked\n",
    "\n",
    "\n",
    "class AgentDatasetModified(EgoDatasetModified):\n",
    "    def __init__(\n",
    "        self,\n",
    "        cfg: dict,\n",
    "        zarr_dataset: ChunkedDataset,\n",
    "        agents_mask: Optional[np.ndarray] = None,\n",
    "        min_frame_history: int = MIN_FRAME_HISTORY,\n",
    "        min_frame_future: int = MIN_FRAME_FUTURE,\n",
    "    ):\n",
    "\n",
    "        super(AgentDatasetModified, self).__init__(cfg, zarr_dataset)\n",
    "        if agents_mask is None:  # if not provided try to load it from the zarr\n",
    "            agents_mask = self.load_agents_mask()\n",
    "            past_mask = agents_mask[:, 0] >= min_frame_history\n",
    "            future_mask = agents_mask[:, 1] >= min_frame_future\n",
    "            agents_mask = past_mask * future_mask\n",
    "\n",
    "            if min_frame_history != MIN_FRAME_HISTORY:\n",
    "                print(f\"warning, you're running with custom min_frame_history of {min_frame_history}\")\n",
    "            if min_frame_future != MIN_FRAME_FUTURE:\n",
    "                print(f\"warning, you're running with custom min_frame_future of {min_frame_future}\")\n",
    "        else:\n",
    "            print(\"warning, you're running with a custom agents_mask\")\n",
    "\n",
    "        # store the valid agents indexes\n",
    "        self.agents_indices = np.nonzero(agents_mask)[0]\n",
    "        # this will be used to get the frame idx from the agent idx\n",
    "        self.cumulative_sizes_agents = self.dataset.frames[\"agent_index_interval\"][:, 1]\n",
    "        self.agents_mask = agents_mask\n",
    "\n",
    "    def load_agents_mask(self) -> np.ndarray:\n",
    "        \"\"\"\n",
    "        Loads a boolean mask of the agent availability stored into the zarr. Performs some sanity check against cfg.\n",
    "        Returns: a boolean mask of the same length of the dataset agents\n",
    "        \"\"\"\n",
    "        agent_prob = self.cfg[\"raster_params\"][\"filter_agents_threshold\"]\n",
    "\n",
    "        agents_mask_path = Path(self.dataset.path) / f\"agents_mask/{agent_prob}\"\n",
    "        if not agents_mask_path.exists():  # don't check in root but check for the path\n",
    "            print(\n",
    "                f\"cannot find the right config in {self.dataset.path},\\n\"\n",
    "                f\"your cfg has loaded filter_agents_threshold={agent_prob};\\n\"\n",
    "                \"but that value doesn't have a match among the agents_mask in the zarr\\n\"\n",
    "                \"Mask will now be generated for that parameter.\"\n",
    "            )\n",
    "            select_agents(\n",
    "                self.dataset,\n",
    "                agent_prob,\n",
    "                th_yaw_degree=TH_YAW_DEGREE,\n",
    "                th_extent_ratio=TH_EXTENT_RATIO,\n",
    "                th_distance_av=TH_DISTANCE_AV,\n",
    "            )\n",
    "\n",
    "        agents_mask = convenience.load(str(agents_mask_path))  # note (lberg): this doesn't update root\n",
    "        return agents_mask\n",
    "\n",
    "    def __len__(self) -> int:\n",
    "        \"\"\"\n",
    "        length of the available and reliable agents (filtered using the mask)\n",
    "        Returns: the length of the dataset\n",
    "        \"\"\"\n",
    "        return len(self.agents_indices)\n",
    "\n",
    "    def __getitem__(self, index: int) -> dict:\n",
    "        \"\"\"\n",
    "        Differs from parent by iterating on agents and not AV.\n",
    "        \"\"\"\n",
    "        if index < 0:\n",
    "            if -index > len(self):\n",
    "                raise ValueError(\"absolute value of index should not exceed dataset length\")\n",
    "            index = len(self) + index\n",
    "\n",
    "        index = self.agents_indices[index]\n",
    "        track_id = self.dataset.agents[index][\"track_id\"]\n",
    "        frame_index = bisect.bisect_right(self.cumulative_sizes_agents, index)\n",
    "        scene_index = bisect.bisect_right(self.cumulative_sizes, frame_index)\n",
    "\n",
    "        if scene_index == 0:\n",
    "            state_index = frame_index\n",
    "        else:\n",
    "            state_index = frame_index - self.cumulative_sizes[scene_index - 1]\n",
    "        return self.get_frame(scene_index, state_index, track_id=track_id)\n",
    "\n",
    "    def get_scene_dataset(self, scene_index: int) -> \"AgentDatasetModified\":\n",
    "        \"\"\"\n",
    "        Differs from parent only in the return type.\n",
    "        Instead of doing everything from scratch, we rely on super call and fix the agents_mask\n",
    "        \"\"\"\n",
    "\n",
    "        new_dataset = super(AgentDatasetModified, self).get_scene_dataset(scene_index).dataset\n",
    "\n",
    "        # filter agents_bool values\n",
    "        frame_interval = self.dataset.scenes[scene_index][\"frame_index_interval\"]\n",
    "        # ASSUMPTION: all agents_index are consecutive\n",
    "        start_index = self.dataset.frames[frame_interval[0]][\"agent_index_interval\"][0]\n",
    "        end_index = self.dataset.frames[frame_interval[1] - 1][\"agent_index_interval\"][1]\n",
    "        agents_mask = self.agents_mask[start_index:end_index].copy()\n",
    "\n",
    "        return AgentDatasetModified(\n",
    "            self.cfg, new_dataset, agents_mask  # overwrite the loaded one\n",
    "        )\n",
    "\n",
    "    def get_scene_indices(self, scene_idx: int) -> np.ndarray:\n",
    "        \"\"\"\n",
    "        Get indices for the given scene. Here __getitem__ iterate over valid agents indices.\n",
    "        This means ``__getitem__(0)`` matches the first valid agent in the dataset.\n",
    "        Args:\n",
    "            scene_idx (int): index of the scene\n",
    "        Returns:\n",
    "            np.ndarray: indices that can be used for indexing with __getitem__\n",
    "        \"\"\"\n",
    "        scenes = self.dataset.scenes\n",
    "        assert scene_idx < len(scenes), f\"scene_idx {scene_idx} is over len {len(scenes)}\"\n",
    "        frame_slice = get_frames_slice_from_scenes(scenes[scene_idx])\n",
    "        agent_slice = get_agents_slice_from_frames(*self.dataset.frames[frame_slice][[0, -1]])\n",
    "\n",
    "        mask_valid_indices = (self.agents_indices >= agent_slice.start) * (self.agents_indices < agent_slice.stop)\n",
    "        indices = np.nonzero(mask_valid_indices)[0]\n",
    "        return indices\n",
    "\n",
    "    def get_frame_indices(self, frame_idx: int) -> np.ndarray:\n",
    "        \"\"\"\n",
    "        Get indices for the given frame. Here __getitem__ iterate over valid agents indices.\n",
    "        This means ``__getitem__(0)`` matches the first valid agent in the dataset.\n",
    "        Args:\n",
    "            frame_idx (int): index of the scene\n",
    "        Returns:\n",
    "            np.ndarray: indices that can be used for indexing with __getitem__\n",
    "        \"\"\"\n",
    "        frames = self.dataset.frames\n",
    "        assert frame_idx < len(frames), f\"frame_idx {frame_idx} is over len {len(frames)}\"\n",
    "\n",
    "        agent_slice = get_agents_slice_from_frames(frames[frame_idx])\n",
    "\n",
    "        mask_valid_indices = (self.agents_indices >= agent_slice.start) * (self.agents_indices < agent_slice.stop)\n",
    "        indices = np.nonzero(mask_valid_indices)[0]\n",
    "        return indices"
   ]
  },
  {
   "cell_type": "code",
   "execution_count": 4,
   "metadata": {},
   "outputs": [
    {
     "data": {
      "text/plain": [
       "{'format_version': 4,\n",
       " 'model_params': {'model_architecture': 'resnet50',\n",
       "  'history_num_frames': 10,\n",
       "  'history_step_size': 1,\n",
       "  'history_delta_time': 0.1,\n",
       "  'future_num_frames': 50,\n",
       "  'future_step_size': 1,\n",
       "  'future_delta_time': 0.1},\n",
       " 'raster_params': {'raster_size': [224, 224],\n",
       "  'pixel_size': [0.5, 0.5],\n",
       "  'ego_center': [0.25, 0.5],\n",
       "  'map_type': 'py_semantic',\n",
       "  'satellite_map_key': 'aerial_map/aerial_map.png',\n",
       "  'semantic_map_key': 'semantic_map/semantic_map.pb',\n",
       "  'dataset_meta_key': 'meta.json',\n",
       "  'filter_agents_threshold': 0.5},\n",
       " 'train_data_loader': {'key': 'scenes/sample.zarr',\n",
       "  'batch_size': 12,\n",
       "  'shuffle': True,\n",
       "  'num_workers': 16},\n",
       " 'val_data_loader': {'key': 'scenes/sample.zarr',\n",
       "  'batch_size': 12,\n",
       "  'shuffle': False,\n",
       "  'num_workers': 16},\n",
       " 'train_params': {'checkpoint_every_n_steps': 10000,\n",
       "  'max_num_steps': 5,\n",
       "  'eval_every_n_steps': 10000}}"
      ]
     },
     "execution_count": 4,
     "metadata": {},
     "output_type": "execute_result"
    }
   ],
   "source": [
    "cfg = {'format_version': 4, 'model_params': {'model_architecture': 'resnet50', 'history_num_frames': 10, 'history_step_size': 1, 'history_delta_time': 0.1, 'future_num_frames': 50, 'future_step_size': 1, 'future_delta_time': 0.1}, 'raster_params': {'raster_size': [224, 224], 'pixel_size': [0.5, 0.5], 'ego_center': [0.25, 0.5], 'map_type': 'py_semantic', 'satellite_map_key': 'aerial_map/aerial_map.png', 'semantic_map_key': 'semantic_map/semantic_map.pb', 'dataset_meta_key': 'meta.json', 'filter_agents_threshold': 0.5}, 'train_data_loader': {'key': 'scenes/sample.zarr', 'batch_size': 12, 'shuffle': True, 'num_workers': 16}, 'val_data_loader': {'key': 'scenes/sample.zarr', 'batch_size': 12, 'shuffle': False, 'num_workers': 16}, 'train_params': {'checkpoint_every_n_steps': 10000, 'max_num_steps': 5, 'eval_every_n_steps': 10000}}\n",
    "cfg"
   ]
  },
  {
   "cell_type": "code",
   "execution_count": 5,
   "metadata": {},
   "outputs": [],
   "source": [
    "from l5kit.data import LocalDataManager, ChunkedDataset\n",
    "import os\n",
    "os.environ[\"L5KIT_DATA_FOLDER\"] = \"input/\"\n",
    "dm = LocalDataManager(None)"
   ]
  },
  {
   "cell_type": "code",
   "execution_count": 40,
   "metadata": {},
   "outputs": [],
   "source": [
    "train_cfg = cfg[\"train_data_loader\"]\n",
    "train_zarr = ChunkedDataset(dm.require('scenes/train.zarr')).open()\n",
    "train_dataset = AgentDatasetModified(cfg, train_zarr)"
   ]
  },
  {
   "cell_type": "code",
   "execution_count": 41,
   "metadata": {},
   "outputs": [
    {
     "data": {
      "text/plain": [
       "22496709"
      ]
     },
     "execution_count": 41,
     "metadata": {},
     "output_type": "execute_result"
    }
   ],
   "source": [
    "len(train_dataset)"
   ]
  },
  {
   "cell_type": "code",
   "execution_count": 42,
   "metadata": {},
   "outputs": [
    {
     "data": {
      "text/plain": [
       "21624612"
      ]
     },
     "execution_count": 42,
     "metadata": {},
     "output_type": "execute_result"
    }
   ],
   "source": [
    "val_zarr = ChunkedDataset(dm.require('scenes/validate.zarr')).open()\n",
    "val_dataset = AgentDatasetModified(cfg, val_zarr)\n",
    "len(val_dataset)"
   ]
  },
  {
   "cell_type": "code",
   "execution_count": 44,
   "metadata": {},
   "outputs": [
    {
     "data": {
      "text/plain": [
       "191177863"
      ]
     },
     "execution_count": 44,
     "metadata": {},
     "output_type": "execute_result"
    }
   ],
   "source": [
    "train_full_zarr = ChunkedDataset(dm.require('scenes/train_full.zarr')).open()\n",
    "train_full_dataset = AgentDatasetModified(cfg, train_full_zarr)\n",
    "len(train_full_dataset)"
   ]
  },
  {
   "cell_type": "code",
   "execution_count": 28,
   "metadata": {},
   "outputs": [],
   "source": [
    "from torch.utils.data import DataLoader\n",
    "\n",
    "train_dataloader = DataLoader(train_dataset, shuffle=False, batch_size=1024, \n",
    "                             num_workers=30,\n",
    "                             collate_fn=lambda x: x)"
   ]
  },
  {
   "cell_type": "code",
   "execution_count": 29,
   "metadata": {},
   "outputs": [
    {
     "data": {
      "application/vnd.jupyter.widget-view+json": {
       "model_id": "9480c230e0da45b5b3342ff858a95d0d",
       "version_major": 2,
       "version_minor": 0
      },
      "text/plain": [
       "HBox(children=(FloatProgress(value=0.0, max=21970.0), HTML(value='')))"
      ]
     },
     "metadata": {},
     "output_type": "display_data"
    },
    {
     "name": "stderr",
     "output_type": "stream",
     "text": [
      "Process Process-195:\n",
      "Traceback (most recent call last):\n"
     ]
    },
    {
     "name": "stdout",
     "output_type": "stream",
     "text": [
      "\n"
     ]
    },
    {
     "name": "stderr",
     "output_type": "stream",
     "text": [
      "  File \"/home/raman/anaconda3/envs/trajectory/lib/python3.7/multiprocessing/process.py\", line 300, in _bootstrap\n",
      "    util._exit_function()\n",
      "Exception ignored in: <function _MultiProcessingDataLoaderIter.__del__ at 0x7fdf155bba70>\n",
      "Traceback (most recent call last):\n",
      "  File \"/home/raman/anaconda3/envs/trajectory/lib/python3.7/site-packages/torch/utils/data/dataloader.py\", line 962, in __del__\n",
      "    self._shutdown_workers()\n",
      "  File \"/home/raman/anaconda3/envs/trajectory/lib/python3.7/site-packages/torch/utils/data/dataloader.py\", line 942, in _shutdown_workers\n",
      "    w.join()\n",
      "  File \"/home/raman/anaconda3/envs/trajectory/lib/python3.7/multiprocessing/process.py\", line 140, in join\n",
      "    res = self._popen.wait(timeout)\n",
      "  File \"/home/raman/anaconda3/envs/trajectory/lib/python3.7/multiprocessing/popen_fork.py\", line 48, in wait\n",
      "    return self.poll(os.WNOHANG if timeout == 0.0 else 0)\n",
      "  File \"/home/raman/anaconda3/envs/trajectory/lib/python3.7/multiprocessing/popen_fork.py\", line 28, in poll\n",
      "    pid, sts = os.waitpid(self.pid, flag)\n",
      "KeyboardInterrupt: \n"
     ]
    },
    {
     "ename": "KeyboardInterrupt",
     "evalue": "",
     "output_type": "error",
     "traceback": [
      "\u001b[0;31m---------------------------------------------------------------------------\u001b[0m",
      "\u001b[0;31mKeyboardInterrupt\u001b[0m                         Traceback (most recent call last)",
      "\u001b[0;32m<ipython-input-29-7f4a1a05ae42>\u001b[0m in \u001b[0;36m<module>\u001b[0;34m\u001b[0m\n\u001b[1;32m      1\u001b[0m \u001b[0;32mfrom\u001b[0m \u001b[0mtqdm\u001b[0m\u001b[0;34m.\u001b[0m\u001b[0mauto\u001b[0m \u001b[0;32mimport\u001b[0m \u001b[0mtqdm\u001b[0m\u001b[0;34m\u001b[0m\u001b[0;34m\u001b[0m\u001b[0m\n\u001b[1;32m      2\u001b[0m \u001b[0mlabel_probs_list\u001b[0m \u001b[0;34m=\u001b[0m \u001b[0;34m[\u001b[0m\u001b[0;34m]\u001b[0m\u001b[0;34m\u001b[0m\u001b[0;34m\u001b[0m\u001b[0m\n\u001b[0;32m----> 3\u001b[0;31m \u001b[0;32mfor\u001b[0m \u001b[0mbatch\u001b[0m \u001b[0;32min\u001b[0m \u001b[0mtqdm\u001b[0m\u001b[0;34m(\u001b[0m\u001b[0mtrain_dataloader\u001b[0m\u001b[0;34m)\u001b[0m\u001b[0;34m:\u001b[0m\u001b[0;34m\u001b[0m\u001b[0;34m\u001b[0m\u001b[0m\n\u001b[0m\u001b[1;32m      4\u001b[0m     \u001b[0mlabel_probs_list\u001b[0m\u001b[0;34m.\u001b[0m\u001b[0mextend\u001b[0m\u001b[0;34m(\u001b[0m\u001b[0;34m[\u001b[0m\u001b[0mx\u001b[0m\u001b[0;34m[\u001b[0m\u001b[0;34m'label_probabilities'\u001b[0m\u001b[0;34m]\u001b[0m \u001b[0;32mfor\u001b[0m \u001b[0mx\u001b[0m \u001b[0;32min\u001b[0m \u001b[0mbatch\u001b[0m\u001b[0;34m]\u001b[0m\u001b[0;34m)\u001b[0m\u001b[0;34m\u001b[0m\u001b[0;34m\u001b[0m\u001b[0m\n",
      "\u001b[0;31mKeyboardInterrupt\u001b[0m: "
     ]
    },
    {
     "name": "stderr",
     "output_type": "stream",
     "text": [
      "  File \"/home/raman/anaconda3/envs/trajectory/lib/python3.7/multiprocessing/util.py\", line 360, in _exit_function\n",
      "    _run_finalizers()\n",
      "  File \"/home/raman/anaconda3/envs/trajectory/lib/python3.7/multiprocessing/util.py\", line 300, in _run_finalizers\n",
      "    finalizer()\n",
      "  File \"/home/raman/anaconda3/envs/trajectory/lib/python3.7/multiprocessing/util.py\", line 224, in __call__\n",
      "    res = self._callback(*self._args, **self._kwargs)\n",
      "  File \"/home/raman/anaconda3/envs/trajectory/lib/python3.7/multiprocessing/queues.py\", line 192, in _finalize_join\n",
      "    thread.join()\n",
      "  File \"/home/raman/anaconda3/envs/trajectory/lib/python3.7/threading.py\", line 1044, in join\n",
      "    self._wait_for_tstate_lock()\n",
      "  File \"/home/raman/anaconda3/envs/trajectory/lib/python3.7/threading.py\", line 1060, in _wait_for_tstate_lock\n",
      "    elif lock.acquire(block, timeout):\n",
      "KeyboardInterrupt\n"
     ]
    }
   ],
   "source": [
    "from tqdm.auto import tqdm\n",
    "label_probs_list = []\n",
    "for batch in tqdm(train_dataloader):    \n",
    "    label_probs_list.extend([x['label_probabilities'] for x in batch])"
   ]
  },
  {
   "cell_type": "code",
   "execution_count": 30,
   "metadata": {},
   "outputs": [],
   "source": [
    "label_probs_all = np.vstack(label_probs_list)"
   ]
  },
  {
   "cell_type": "code",
   "execution_count": 31,
   "metadata": {},
   "outputs": [],
   "source": [
    "import pandas as pd\n",
    "\n",
    "label_probs_df = pd.DataFrame(label_probs_all, columns=[\n",
    "    \"PERCEPTION_LABEL_NOT_SET\",\n",
    "    \"PERCEPTION_LABEL_UNKNOWN\",\n",
    "    \"PERCEPTION_LABEL_DONTCARE\",\n",
    "    \"PERCEPTION_LABEL_CAR\",\n",
    "    \"PERCEPTION_LABEL_VAN\",\n",
    "    \"PERCEPTION_LABEL_TRAM\",\n",
    "    \"PERCEPTION_LABEL_BUS\",\n",
    "    \"PERCEPTION_LABEL_TRUCK\",\n",
    "    \"PERCEPTION_LABEL_EMERGENCY_VEHICLE\",\n",
    "    \"PERCEPTION_LABEL_OTHER_VEHICLE\",\n",
    "    \"PERCEPTION_LABEL_BICYCLE\",\n",
    "    \"PERCEPTION_LABEL_MOTORCYCLE\",\n",
    "    \"PERCEPTION_LABEL_CYCLIST\",\n",
    "    \"PERCEPTION_LABEL_MOTORCYCLIST\",\n",
    "    \"PERCEPTION_LABEL_PEDESTRIAN\",\n",
    "    \"PERCEPTION_LABEL_ANIMAL\",\n",
    "    \"AVRESEARCH_LABEL_DONTCARE\",\n",
    "])"
   ]
  },
  {
   "cell_type": "code",
   "execution_count": 32,
   "metadata": {},
   "outputs": [
    {
     "data": {
      "text/plain": [
       "PERCEPTION_LABEL_NOT_SET               True\n",
       "PERCEPTION_LABEL_UNKNOWN               True\n",
       "PERCEPTION_LABEL_DONTCARE              True\n",
       "PERCEPTION_LABEL_CAR                  False\n",
       "PERCEPTION_LABEL_VAN                   True\n",
       "PERCEPTION_LABEL_TRAM                  True\n",
       "PERCEPTION_LABEL_BUS                   True\n",
       "PERCEPTION_LABEL_TRUCK                 True\n",
       "PERCEPTION_LABEL_EMERGENCY_VEHICLE     True\n",
       "PERCEPTION_LABEL_OTHER_VEHICLE         True\n",
       "PERCEPTION_LABEL_BICYCLE               True\n",
       "PERCEPTION_LABEL_MOTORCYCLE            True\n",
       "PERCEPTION_LABEL_CYCLIST              False\n",
       "PERCEPTION_LABEL_MOTORCYCLIST          True\n",
       "PERCEPTION_LABEL_PEDESTRIAN           False\n",
       "PERCEPTION_LABEL_ANIMAL                True\n",
       "AVRESEARCH_LABEL_DONTCARE              True\n",
       "dtype: bool"
      ]
     },
     "execution_count": 32,
     "metadata": {},
     "output_type": "execute_result"
    }
   ],
   "source": [
    "label_probs_df.apply(lambda x: np.sum(x == 0)/len(x) == 1)"
   ]
  },
  {
   "cell_type": "code",
   "execution_count": 34,
   "metadata": {},
   "outputs": [],
   "source": [
    "import seaborn as sns\n",
    "%matplotlib inline"
   ]
  },
  {
   "cell_type": "code",
   "execution_count": 35,
   "metadata": {},
   "outputs": [
    {
     "name": "stderr",
     "output_type": "stream",
     "text": [
      "/home/raman/anaconda3/envs/trajectory/lib/python3.7/site-packages/seaborn/distributions.py:369: UserWarning: Default bandwidth for data is 0; skipping density estimation.\n",
      "  warnings.warn(msg, UserWarning)\n"
     ]
    },
    {
     "data": {
      "text/plain": [
       "<AxesSubplot:xlabel='PERCEPTION_LABEL_CAR'>"
      ]
     },
     "execution_count": 35,
     "metadata": {},
     "output_type": "execute_result"
    },
    {
     "data": {
      "image/png": "[encoded data removed]",
      "text/plain": [
       "<Figure size 432x288 with 1 Axes>"
      ]
     },
     "metadata": {
      "needs_background": "light"
     },
     "output_type": "display_data"
    }
   ],
   "source": [
    "sns.distplot(label_probs_df['PERCEPTION_LABEL_CAR'])"
   ]
  },
  {
   "cell_type": "code",
   "execution_count": 36,
   "metadata": {},
   "outputs": [
    {
     "name": "stderr",
     "output_type": "stream",
     "text": [
      "/home/raman/anaconda3/envs/trajectory/lib/python3.7/site-packages/seaborn/distributions.py:369: UserWarning: Default bandwidth for data is 0; skipping density estimation.\n",
      "  warnings.warn(msg, UserWarning)\n"
     ]
    },
    {
     "data": {
      "text/plain": [
       "<AxesSubplot:xlabel='PERCEPTION_LABEL_CYCLIST'>"
      ]
     },
     "execution_count": 36,
     "metadata": {},
     "output_type": "execute_result"
    },
    {
     "data": {
      "image/png": "[encoded data removed]",
      "text/plain": [
       "<Figure size 432x288 with 1 Axes>"
      ]
     },
     "metadata": {
      "needs_background": "light"
     },
     "output_type": "display_data"
    }
   ],
   "source": [
    "sns.distplot(label_probs_df['PERCEPTION_LABEL_CYCLIST'])"
   ]
  },
  {
   "cell_type": "code",
   "execution_count": 37,
   "metadata": {},
   "outputs": [
    {
     "name": "stderr",
     "output_type": "stream",
     "text": [
      "/home/raman/anaconda3/envs/trajectory/lib/python3.7/site-packages/seaborn/distributions.py:369: UserWarning: Default bandwidth for data is 0; skipping density estimation.\n",
      "  warnings.warn(msg, UserWarning)\n"
     ]
    },
    {
     "data": {
      "text/plain": [
       "<AxesSubplot:xlabel='PERCEPTION_LABEL_PEDESTRIAN'>"
      ]
     },
     "execution_count": 37,
     "metadata": {},
     "output_type": "execute_result"
    },
    {
     "data": {
      "image/png": "[encoded data removed]",
      "text/plain": [
       "<Figure size 432x288 with 1 Axes>"
      ]
     },
     "metadata": {
      "needs_background": "light"
     },
     "output_type": "display_data"
    }
   ],
   "source": [
    "sns.distplot(label_probs_df['PERCEPTION_LABEL_PEDESTRIAN'])"
   ]
  }
 ],
 "metadata": {
  "kernelspec": {
   "display_name": "Python 3",
   "language": "python",
   "name": "python3"
  },
  "language_info": {
   "codemirror_mode": {
    "name": "ipython",
    "version": 3
   },
   "file_extension": ".py",
   "mimetype": "text/x-python",
   "name": "python",
   "nbconvert_exporter": "python",
   "pygments_lexer": "ipython3",
   "version": "3.7.8"
  }
 },
 "nbformat": 4,
 "nbformat_minor": 4
}
