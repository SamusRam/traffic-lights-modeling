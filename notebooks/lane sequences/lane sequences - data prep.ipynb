{
 "cells": [
  {
   "cell_type": "code",
   "execution_count": 1,
   "metadata": {},
   "outputs": [
    {
     "name": "stdout",
     "output_type": "stream",
     "text": [
      "Top 20 lines\n",
      "#1: python3.7/codeop.py:141: 7.2 KiB\n",
      "    codeob = compile(source, filename, symbol, self.flags, 1)\n",
      "#2: <ipython-input-1-7ecc8e3d0a3c>:65: 0.4 KiB\n",
      "    snapshot = tracemalloc.take_snapshot()\n",
      "#3: core/interactiveshell.py:3417: 0.4 KiB\n",
      "    exec(code_obj, self.user_global_ns, self.user_ns)\n",
      "#4: <ipython-input-1-7ecc8e3d0a3c>:35: 0.1 KiB\n",
      "    def display_top(snapshot, key_type='lineno', limit=20):\n",
      "#5: core/interactiveshell.py:3337: 0.1 KiB\n",
      "    if (await self.run_code(code, result,  async_=asy)):\n",
      "#6: core/interactiveshell.py:117: 0.1 KiB\n",
      "    Module = lambda nodelist, type_ignores: OriginalModule(nodelist)\n",
      "#7: core/compilerop.py:150: 0.0 KiB\n",
      "    self.flags &= ~turn_on_bits\n",
      "#8: core/interactiveshell.py:3331: 0.0 KiB\n",
      "    mod = Module([node], [])\n",
      "Total allocated size: 8.4 KiB\n"
     ]
    }
   ],
   "source": [
    "import warnings\n",
    "warnings.filterwarnings('ignore')\n",
    "import os\n",
    "import sys\n",
    "sys.path.insert(0, '../scripts')\n",
    "from l5kit_modified.l5kit_modified import FramesDataset, create_chopped_dataset, AgentDatasetModified, get_agent_indices_set\n",
    "from kalman import KalmanTrackerPredictor\n",
    "from lane_processing import *\n",
    "import pickle\n",
    "from l5kit.evaluation import write_pred_csv, compute_metrics_csv\n",
    "from l5kit.evaluation.metrics import neg_multi_log_likelihood\n",
    "from l5kit.data import LocalDataManager, ChunkedDataset\n",
    "from pathlib import Path\n",
    "import numpy as np\n",
    "from torch.utils.data import DataLoader\n",
    "import matplotlib.pyplot as plt\n",
    "import seaborn as sns\n",
    "\n",
    "from pytz import timezone\n",
    "from datetime import datetime, timedelta\n",
    "from l5kit.data.filter import filter_tl_faces_by_status\n",
    "from workalendar.usa import CaliforniaSanFrancisco\n",
    "import pandas as pd\n",
    "import json\n",
    "from django.core.serializers.json import DjangoJSONEncoder\n",
    "\n",
    "from collections import defaultdict\n",
    "import gc\n",
    "import multiprocessing as mp\n",
    "import tracemalloc\n",
    "import linecache\n",
    "from functools import partial\n",
    "tracemalloc.start()\n",
    "\n",
    "def display_top(snapshot, key_type='lineno', limit=20):\n",
    "    snapshot = snapshot.filter_traces((\n",
    "        tracemalloc.Filter(False, \"<frozen importlib._bootstrap>\"),\n",
    "        tracemalloc.Filter(False, \"<unknown>\"),\n",
    "    ))\n",
    "    top_stats = snapshot.statistics(key_type)\n",
    "\n",
    "    print(\"Top %s lines\" % limit)\n",
    "    for index, stat in enumerate(top_stats[:limit], 1):\n",
    "        frame = stat.traceback[0]\n",
    "        # replace \"/path/to/module/file.py\" with \"module/file.py\"\n",
    "        filename = os.sep.join(frame.filename.split(os.sep)[-2:])\n",
    "        print(\"#%s: %s:%s: %.1f KiB\"\n",
    "              % (index, filename, frame.lineno, stat.size / 1024))\n",
    "        line = linecache.getline(frame.filename, frame.lineno).strip()\n",
    "        if line:\n",
    "            print('    %s' % line)\n",
    "\n",
    "    other = top_stats[limit:]\n",
    "    if other:\n",
    "        size = sum(stat.size for stat in other)\n",
    "        print(\"%s other: %.1f KiB\" % (len(other), size / 1024))\n",
    "    total = sum(stat.size for stat in top_stats)\n",
    "    print(\"Total allocated size: %.1f KiB\" % (total / 1024))\n",
    "\n",
    "\n",
    "\n",
    "\n",
    "\n",
    "\n",
    "snapshot = tracemalloc.take_snapshot()\n",
    "display_top(snapshot)\n",
    "\n",
    "%matplotlib inline\n",
    "    \n",
    "os.environ[\"L5KIT_DATA_FOLDER\"] = \"../input/\""
   ]
  },
  {
   "cell_type": "code",
   "execution_count": 2,
   "metadata": {},
   "outputs": [],
   "source": [
    "FILTER_AGENTS_THRESHOLD = 0.5\n",
    "NUM_FRAMES_TO_CHOP = 100\n",
    "FUTURE_NUM_FRAMES = 50\n",
    "MIN_FUTURE_STEPS = 10\n",
    "BATCH_SIZE = 256\n",
    "dm = LocalDataManager(None)\n",
    "\n",
    "# dataset_path = 'scenes/sample.zarr'\n",
    "dataset_path = 'scenes/train.zarr'\n",
    "# dataset_path = 'scenes/test.zarr'\n",
    "# eval_mask = np.load(os.path.join(f\"{os.environ['L5KIT_DATA_FOLDER']}\",\n",
    "#                                          \"scenes/mask.npz\"))[\"arr_0\"]\n",
    "eval_zarr = ChunkedDataset(dm.require(dataset_path)).open(cached=False)\n",
    "\n",
    "\n",
    "# eval_base_path = create_chopped_dataset(dm.require(dataset_path),\n",
    "#                                                      FILTER_AGENTS_THRESHOLD,\n",
    "#                                                      NUM_FRAMES_TO_CHOP,\n",
    "#                                                      FUTURE_NUM_FRAMES,\n",
    "#                                                      MIN_FUTURE_STEPS,\n",
    "#                                        include_gt=True)\n",
    "# eval_gt_path = os.path.join(eval_base_path, 'gt.csv')\n",
    "\n",
    "# eval_zarr_path = str(Path(eval_base_path) / Path(dm.require(dataset_path)).name)\n",
    "# eval_mask_path = str(Path(eval_base_path) / \"mask.npz\")\n",
    "# eval_mask = np.load(eval_mask_path)[\"arr_0\"]\n",
    "# eval_zarr = ChunkedDataset(eval_zarr_path).open()"
   ]
  },
  {
   "cell_type": "code",
   "execution_count": 3,
   "metadata": {},
   "outputs": [],
   "source": [
    "# root_group = zarr.open_group(dm.require(dataset_path), mode='r')\n",
    "# frames = root_group[FRAME_ARRAY_KEY]\n",
    "# agents = root_group[AGENT_ARRAY_KEY]\n",
    "# scenes = root_group[SCENE_ARRAY_KEY]\n",
    "# tl_faces = root_group[TL_FACE_ARRAY_KEY]\n",
    "# frames['ego_rotation'][10000]\n",
    "# del frames, agents, scenes, tl_faces, root_group\n",
    "# gc.collect()"
   ]
  },
  {
   "cell_type": "code",
   "execution_count": 4,
   "metadata": {},
   "outputs": [],
   "source": [
    "semantic_map_path = dm.require(semantic_map_key)\n",
    "proto_API = MapAPI(semantic_map_path, world_to_ecef)"
   ]
  },
  {
   "cell_type": "code",
   "execution_count": 5,
   "metadata": {},
   "outputs": [
    {
     "data": {
      "application/vnd.jupyter.widget-view+json": {
       "model_id": "f8b5d6f511104e7696a8ecbd5116267f",
       "version_major": 2,
       "version_minor": 0
      },
      "text/plain": [
       "HBox(children=(FloatProgress(value=0.0, max=15253.0), HTML(value='')))"
      ]
     },
     "metadata": {},
     "output_type": "display_data"
    },
    {
     "name": "stdout",
     "output_type": "stream",
     "text": [
      "\n"
     ]
    },
    {
     "data": {
      "application/vnd.jupyter.widget-view+json": {
       "model_id": "719a848b62fa4266a2f16d8098c18a21",
       "version_major": 2,
       "version_minor": 0
      },
      "text/plain": [
       "HBox(children=(FloatProgress(value=0.0, description='Computing lane adjacency lists', max=15253.0, style=Progr…"
      ]
     },
     "metadata": {},
     "output_type": "display_data"
    },
    {
     "name": "stdout",
     "output_type": "stream",
     "text": [
      "\n"
     ]
    }
   ],
   "source": [
    "lanes_crosswalks = precompute_map_elements(proto_API)\n",
    "lane_id_2_idx = {lane_id: i for i, lane_id in enumerate(lanes_crosswalks['lanes']['ids'])}\n",
    "lane_adj_list_forward, lane_adj_list_backward, lane_adj_list_right, lane_adj_list_left = precompute_lane_adjacencies(lane_id_2_idx, proto_API)\n",
    "all_center_coords = np.concatenate(lanes_crosswalks['lanes']['center_line'], axis=0)\n",
    "kd_tree = KDTree(all_center_coords)\n",
    "\n",
    "kd_idx_2_lane_id_idx = []\n",
    "for lane_id, center_line in zip(lanes_crosswalks['lanes']['ids'],\n",
    "                                lanes_crosswalks['lanes']['center_line']):\n",
    "    next_entries = [(lane_id, i) for i in range(len(center_line))]\n",
    "    kd_idx_2_lane_id_idx.extend(next_entries)"
   ]
  },
  {
   "cell_type": "code",
   "execution_count": 6,
   "metadata": {},
   "outputs": [],
   "source": [
    "# i = 0\n",
    "# traffic_light_control_id_2_lane_id = dict()\n",
    "# lane_id_2_traffic_light_control_id = dict()\n",
    "# for lane_id in lanes_crosswalks['lanes']['ids']:\n",
    "#     traffic_light_controls = proto_API.get_lane_traffic_controls(lane_id)\n",
    "#     if len(traffic_light_controls):\n",
    "#         i += 1\n",
    "#         for traffic_light_el in traffic_light_controls:\n",
    "#             traffic_light_id = proto_API.id_as_str(traffic_light_el)\n",
    "#             if traffic_light_id not in traffic_light_control_id_2_lane_id:\n",
    "#                 traffic_light_control_id_2_lane_id[traffic_light_id] = {lane_id}\n",
    "#             else:\n",
    "#                 traffic_light_control_id_2_lane_id[traffic_light_id].add(lane_id)\n",
    "                \n",
    "#             if lane_id not in lane_id_2_traffic_light_control_id:\n",
    "#                 lane_id_2_traffic_light_control_id[lane_id] = {traffic_light_id}\n",
    "#             else:\n",
    "#                 lane_id_2_traffic_light_control_id[lane_id].add(traffic_light_id)\n",
    "# i / len(lanes_crosswalks['lanes']['ids'])"
   ]
  },
  {
   "cell_type": "code",
   "execution_count": 7,
   "metadata": {},
   "outputs": [],
   "source": [
    "# for element in tqdm(proto_API):\n",
    "#     traffic_light_id = MapAPI.id_as_str(element.id)\n",
    "#     if proto_API.is_traffic_control_element(traffic_light_id):\n",
    "#         traffic_light_face_set = proto_API.get_traffic_light_face_sets(traffic_light_id)\n",
    "        \n",
    "#         for yield_set, _ in traffic_light_face_set:\n",
    "#             lanes_paying_attention = [MapAPI.id_as_str(x['lane']) for x in proto_API.get_rules_for_traffic_light_face_set(yield_set)]\n",
    "#             for lane_id in lanes_paying_attention:\n",
    "#                 if traffic_light_id not in traffic_light_control_id_2_lane_id:\n",
    "#                     print('new traffic light', yield_set)\n",
    "#                     traffic_light_control_id_2_lane_id_[traffic_light_id] = {lane_id}\n",
    "#                 else:\n",
    "#                     if lane_id not in traffic_light_control_id_2_lane_id[traffic_light_id]:\n",
    "#                         print('additional light id')\n",
    "#                         traffic_light_control_id_2_lane_id[traffic_light_id].add(lane_id)"
   ]
  },
  {
   "cell_type": "code",
   "execution_count": 8,
   "metadata": {},
   "outputs": [],
   "source": [
    "# traffic_light_ids_all = set(eval_zarr.tl_faces['traffic_light_id'])\n",
    "# with open('traffic_light_ids_all.pkl', 'wb') as f:\n",
    "#     pickle.dump(traffic_light_ids_all, f)\n",
    "with open('traffic_light_ids_all.pkl', 'rb') as f:\n",
    "    traffic_light_ids_all = pickle.load(f)"
   ]
  },
  {
   "cell_type": "code",
   "execution_count": 9,
   "metadata": {},
   "outputs": [],
   "source": [
    "# snapshot = tracemalloc.take_snapshot()"
   ]
  },
  {
   "cell_type": "code",
   "execution_count": 10,
   "metadata": {},
   "outputs": [],
   "source": [
    "# display_top(snapshot)"
   ]
  },
  {
   "cell_type": "code",
   "execution_count": 11,
   "metadata": {},
   "outputs": [],
   "source": [
    "# import zarr\n",
    "# FRAME_ARRAY_KEY = \"frames\"\n",
    "# AGENT_ARRAY_KEY = \"agents\"\n",
    "# SCENE_ARRAY_KEY = \"scenes\"\n",
    "# TL_FACE_ARRAY_KEY = \"traffic_light_faces\"\n",
    "\n",
    "\n",
    "# root_group = zarr.open_group(dm.require(dataset_path), mode='r')\n",
    "# frames = root_group[FRAME_ARRAY_KEY]\n",
    "# agents = root_group[AGENT_ARRAY_KEY]\n",
    "# scenes = root_group[SCENE_ARRAY_KEY]\n",
    "# tl_faces = root_group[TL_FACE_ARRAY_KEY]\n",
    "# frames['ego_rotation'][0]"
   ]
  },
  {
   "cell_type": "code",
   "execution_count": 12,
   "metadata": {},
   "outputs": [],
   "source": [
    "traffic_light_control_id_2_lane_id = defaultdict(set)\n",
    "lane_id_2_traffic_light_control_id = defaultdict(set)\n",
    "\n",
    "tl_face_id_2_lane_id = defaultdict(set)\n",
    "lane_id_2_tl_face_id = defaultdict(set)\n",
    "for lane_id in lanes_crosswalks['lanes']['ids']:\n",
    "    traffic_light_controls = proto_API.get_lane_traffic_controls(lane_id)\n",
    "    if len(traffic_light_controls):\n",
    "        for traffic_light_el in traffic_light_controls:\n",
    "            traffic_light_id = proto_API.id_as_str(traffic_light_el)\n",
    "            if traffic_light_id in traffic_light_ids_all:\n",
    "                traffic_light_control_id_2_lane_id[traffic_light_id].add(lane_id)\n",
    "                lane_id_2_traffic_light_control_id[lane_id].add(traffic_light_id)\n",
    "            else:\n",
    "                tl_face_id_2_lane_id[traffic_light_id].add(lane_id)\n",
    "                lane_id_2_tl_face_id[lane_id].add(traffic_light_id)\n",
    "                "
   ]
  },
  {
   "cell_type": "code",
   "execution_count": 13,
   "metadata": {},
   "outputs": [],
   "source": [
    "def get_traffic_light_coordinates(tl_el_id):\n",
    "    if el_id in proto_API.ids_to_el:\n",
    "        coordinates = proto_API.get_traffic_light_coords(el_id)['xyz']\n",
    "        return coordinates[:, :2].mean(axis=0)"
   ]
  },
  {
   "cell_type": "code",
   "execution_count": 14,
   "metadata": {},
   "outputs": [],
   "source": [
    "traffic_light_id_2_coord = dict()\n",
    "\n",
    "for el_id in traffic_light_ids_all:\n",
    "    if el_id in proto_API.ids_to_el:\n",
    "        coordinates = proto_API.get_traffic_light_coords(el_id)['xyz']\n",
    "        traffic_light_id_2_coord[el_id] = coordinates[:, :2].mean(axis=0)"
   ]
  },
  {
   "cell_type": "code",
   "execution_count": 15,
   "metadata": {},
   "outputs": [],
   "source": [
    "def collate_fn_lane_seq(data_batch, out_of_lane_threshold=2.5):\n",
    "    history_result_list = []\n",
    "    for batch_el in data_batch:\n",
    "        init_ts = datetime.fromtimestamp(batch_el['timestamp']/10**9).astimezone(timezone('US/Pacific')) - timedelta(milliseconds=100)\n",
    "\n",
    "        track_id_2_lanes = defaultdict(list)\n",
    "        for hist_i in range(0, len(batch_el['history_agents']), 10):\n",
    "            for car_agent in batch_el['history_agents'][hist_i]:\n",
    "                if np.nonzero(car_agent[-1])[0][0] == 3:\n",
    "                    track_id = car_agent[-2]\n",
    "                    agent_centroid = car_agent[0]\n",
    "                    lane_dist, kd_idx = kd_tree.query(agent_centroid, k=1)\n",
    "                    if lane_dist <= out_of_lane_threshold:\n",
    "                        lane_id, lane_point_i = kd_idx_2_lane_id_idx[kd_idx]\n",
    "                        \n",
    "                        if track_id not in track_id_2_lanes or track_id_2_lanes[track_id][-1] != lane_id:\n",
    "                            track_id_2_lanes[track_id].append(lane_id)\n",
    "        \n",
    "        # post-process\n",
    "#         prev_ts = init_ts\n",
    "        # prev_ts -= timedelta(milliseconds=200)\n",
    "        for track_id, lanes in track_id_2_lanes.items():\n",
    "            \n",
    "            if len(lanes):\n",
    "                history_result_list.append((track_id, lanes))\n",
    "    \n",
    "    return history_result_list"
   ]
  },
  {
   "cell_type": "code",
   "execution_count": 16,
   "metadata": {},
   "outputs": [],
   "source": [
    "def collate_fn_lane_seq(data_batch, out_of_lane_threshold=2.5):\n",
    "    history_result_list = []\n",
    "    for batch_el in data_batch:\n",
    "        init_ts = datetime.fromtimestamp(batch_el['timestamp']/10**9).astimezone(timezone('US/Pacific')) - timedelta(milliseconds=100)\n",
    "\n",
    "        car_2_lane_speed = defaultdict(list)\n",
    "        lane_2_hist_i_2_speeds = dict()\n",
    "        for hist_i in range(0, len(batch_el['history_agents']), 10):\n",
    "            car_agents = [agent for agent in batch_el['history_agents'][hist_i] if np.nonzero(agent[-1])[0][0] == 3]\n",
    "            for car_agent in car_agents:\n",
    "                track_id = car_agent[-2]\n",
    "                agent_speed = np.hypot(*car_agent[-3])\n",
    "                agent_centroid = car_agent[0]\n",
    "                lane_dist, kd_idx = kd_tree.query(agent_centroid, k=1)\n",
    "                if lane_dist <= out_of_lane_threshold:\n",
    "                    lane_id, lane_point_i = kd_idx_2_lane_id_idx[kd_idx]\n",
    "                    lane_completion = lane_point_i/len(lanes_crosswalks['lanes']['center_line'][lane_id_2_idx[lane_id]])\n",
    "                    car_2_lane_speed[track_id].append((lane_id, lane_completion, agent_speed))\n",
    "                    if lane_id not in lane_2_hist_i_2_speeds:\n",
    "                        lane_2_hist_i_2_speeds[lane_id] = defaultdict(list)\n",
    "                    lane_2_hist_i_2_speeds[lane_id][hist_i].append(agent_speed)\n",
    "        \n",
    "        # post-process\n",
    "#         prev_ts = init_ts\n",
    "        # prev_ts -= timedelta(milliseconds=200)\n",
    "        track_id_2_hist = dict()\n",
    "        for track_id, lane_speed_vals in car_2_lane_speed.items():\n",
    "            track_id_seq = []\n",
    "            prev_lane_id = -999\n",
    "            for hist_j, lane_speed in enumerate(lane_speed_vals):\n",
    "                lane_id, lane_completion, speed = lane_speed\n",
    "                if lane_id != prev_lane_id:\n",
    "                    if prev_lane_id != -999:\n",
    "                        prev_lane_this_car_mean_speed = np.mean(prev_lane_this_car_speeds)\n",
    "                        prev_lane_this_car_std_speed = np.std(prev_lane_this_car_speeds)\n",
    "                        prev_lane_all_cars_mean_speed = np.mean(prev_lane_all_speeds)\n",
    "                        prev_lane_all_cars_std_speed = np.std(prev_lane_all_speeds)\n",
    "                        track_id_seq.append((prev_lane_id, prev_lane_completion_at_start, len(prev_lane_this_car_speeds), prev_lane_this_car_mean_speed, prev_lane_this_car_std_speed, len(prev_lane_all_speeds), prev_lane_all_cars_mean_speed, prev_lane_all_cars_std_speed))\n",
    "\n",
    "                    prev_lane_this_car_speeds = [speed]\n",
    "                    prev_lane_all_speeds = lane_2_hist_i_2_speeds[lane_id][hist_j]\n",
    "                    prev_lane_id = lane_id\n",
    "                    prev_lane_completion_at_start = lane_completion\n",
    "                else:\n",
    "                    prev_lane_this_car_speeds.append(speed)\n",
    "                    prev_lane_all_speeds.extend(lane_2_hist_i_2_speeds[lane_id][hist_j])\n",
    "            if len(track_id_seq):\n",
    "                track_id_2_hist[track_id] = track_id_seq\n",
    "                \n",
    "        track_id_2_lanes = defaultdict(list)\n",
    "        for hist_i in range(0, len(batch_el['history_agents']), 10):\n",
    "            for car_agent in batch_el['history_agents'][hist_i]:\n",
    "                if np.nonzero(car_agent[-1])[0][0] == 3:\n",
    "                    track_id = car_agent[-2]\n",
    "                    if track_id in track_id_2_hist:\n",
    "                        agent_centroid = car_agent[0]\n",
    "                        lane_dist, kd_idx = kd_tree.query(agent_centroid, k=1)\n",
    "                        if lane_dist <= out_of_lane_threshold:\n",
    "                            lane_id, lane_point_i = kd_idx_2_lane_id_idx[kd_idx]\n",
    "\n",
    "                            if track_id not in track_id_2_lanes or track_id_2_lanes[track_id][-1] != lane_id:\n",
    "                                track_id_2_lanes[track_id].append(lane_id)\n",
    "        \n",
    "        # post-process\n",
    "#         prev_ts = init_ts\n",
    "        # prev_ts -= timedelta(milliseconds=200)\n",
    "        for track_id, future_lanes in track_id_2_lanes.items():            \n",
    "            if len(future_lanes):\n",
    "                history_result_list.append((track_id, track_id_2_hist[track_id], future_lanes))\n",
    "    \n",
    "    return history_result_list"
   ]
  },
  {
   "cell_type": "markdown",
   "metadata": {},
   "source": [
    "# =================="
   ]
  },
  {
   "cell_type": "code",
   "execution_count": 17,
   "metadata": {},
   "outputs": [],
   "source": [
    "# cfg = {\"model_params\": {\"history_num_frames\": 100,\n",
    "#                                     \"history_step_size\": 1,\n",
    "#                                     \"future_num_frames\": 50,\n",
    "#                                     \"future_step_size\": 1},\n",
    "#                    \"raster_params\": {\"filter_agents_threshold\": FILTER_AGENTS_THRESHOLD}}\n",
    "# dataset = AgentDatasetModified(cfg, eval_zarr) #, agents_mask=eval_mask) #, offset_targets=False)\n",
    "    \n",
    "# dataloader = DataLoader(dataset, shuffle=False, batch_size=1024,\n",
    "#                         num_workers=1,\n",
    "#                         collate_fn=lambda x: x) #[el['history_agents'] for el in x])#collate_fn_traffic_lights2)"
   ]
  },
  {
   "cell_type": "code",
   "execution_count": 18,
   "metadata": {},
   "outputs": [],
   "source": [
    "agent_indices_set = get_agent_indices_set(eval_zarr, filter_agents_threshold=0.5)"
   ]
  },
  {
   "cell_type": "code",
   "execution_count": 19,
   "metadata": {},
   "outputs": [],
   "source": [
    "dataset = FramesDataset(eval_zarr, with_history=True, agent_indices_set=agent_indices_set) #, agents_mask=eval_mask) #, offset_targets=False)\n",
    "    \n",
    "dataloader = DataLoader(dataset, shuffle=False, batch_size=512,\n",
    "                        num_workers=16,\n",
    "                        collate_fn=collate_fn_lane_seq) #[el['history_agents'] for el in x])#collate_fn_traffic_lights2)"
   ]
  },
  {
   "cell_type": "code",
   "execution_count": 20,
   "metadata": {},
   "outputs": [],
   "source": [
    "# data_iter = iter(dataloader)"
   ]
  },
  {
   "cell_type": "code",
   "execution_count": 21,
   "metadata": {},
   "outputs": [],
   "source": [
    "# data_batch = next(data_iter)\n",
    "# len(data_batch)"
   ]
  },
  {
   "cell_type": "code",
   "execution_count": 22,
   "metadata": {},
   "outputs": [],
   "source": [
    "# data_batch[0]"
   ]
  },
  {
   "cell_type": "code",
   "execution_count": null,
   "metadata": {},
   "outputs": [
    {
     "data": {
      "application/vnd.jupyter.widget-view+json": {
       "model_id": "65fe66d00e2d4c708d5e25b5c73a0879",
       "version_major": 2,
       "version_minor": 0
      },
      "text/plain": [
       "HBox(children=(FloatProgress(value=0.0, max=7890.0), HTML(value='')))"
      ]
     },
     "metadata": {},
     "output_type": "display_data"
    }
   ],
   "source": [
    "count_of_single_len_seq = 0\n",
    "\n",
    "track_id_list = []\n",
    "hist_seq_list = []\n",
    "future_seq_list = []\n",
    "\n",
    "for data_batch in tqdm(dataloader):\n",
    "    for data_sample in data_batch:\n",
    "        track_id, hist_seq, future_seq = data_sample \n",
    "\n",
    "        track_id_list.append(track_id)\n",
    "        hist_seq_list.append(hist_seq)\n",
    "        future_seq_list.append(future_seq)"
   ]
  },
  {
   "cell_type": "code",
   "execution_count": 26,
   "metadata": {},
   "outputs": [
    {
     "data": {
      "text/plain": [
       "[6702765, 6702765, 6702765]"
      ]
     },
     "execution_count": 26,
     "metadata": {},
     "output_type": "execute_result"
    }
   ],
   "source": [
    "[len(x) for x in [track_id_list, hist_seq_list, future_seq_list]]"
   ]
  },
  {
   "cell_type": "code",
   "execution_count": 28,
   "metadata": {},
   "outputs": [],
   "source": [
    "lane_seq_df = pd.DataFrame({'track_id': track_id_list, \n",
    "                                  'hist_seq': hist_seq_list,\n",
    "                                  'future_seq': future_seq_list})\n",
    "# lane_seq_df.to_hdf('../input/lane_seq_df.hdf5', key='data')"
   ]
  },
  {
   "cell_type": "code",
   "execution_count": 33,
   "metadata": {},
   "outputs": [],
   "source": [
    "lane_seq_df['hist_seq'] = lane_seq_df['hist_seq'].map(tuple)\n",
    "lane_seq_df['future_seq'] = lane_seq_df['future_seq'].map(tuple)"
   ]
  },
  {
   "cell_type": "code",
   "execution_count": 34,
   "metadata": {},
   "outputs": [
    {
     "data": {
      "text/plain": [
       "6696366"
      ]
     },
     "execution_count": 34,
     "metadata": {},
     "output_type": "execute_result"
    }
   ],
   "source": [
    "lane_seq_df.drop_duplicates(inplace=True)\n",
    "len(lane_seq_df)"
   ]
  },
  {
   "cell_type": "code",
   "execution_count": 35,
   "metadata": {},
   "outputs": [],
   "source": [
    "lane_seq_df.to_hdf('../input/lane_seq_df.hdf5', key='data')"
   ]
  },
  {
   "cell_type": "code",
   "execution_count": 36,
   "metadata": {},
   "outputs": [
    {
     "data": {
      "text/html": [
       "<div>\n",
       "<style scoped>\n",
       "    .dataframe tbody tr th:only-of-type {\n",
       "        vertical-align: middle;\n",
       "    }\n",
       "\n",
       "    .dataframe tbody tr th {\n",
       "        vertical-align: top;\n",
       "    }\n",
       "\n",
       "    .dataframe thead th {\n",
       "        text-align: right;\n",
       "    }\n",
       "</style>\n",
       "<table border=\"1\" class=\"dataframe\">\n",
       "  <thead>\n",
       "    <tr style=\"text-align: right;\">\n",
       "      <th></th>\n",
       "      <th>track_id</th>\n",
       "      <th>hist_seq</th>\n",
       "      <th>future_seq</th>\n",
       "    </tr>\n",
       "  </thead>\n",
       "  <tbody>\n",
       "    <tr>\n",
       "      <th>0</th>\n",
       "      <td>328</td>\n",
       "      <td>((bUGp, 0.2222222222222222, 2, 22.188255, 0.033309937, 0, nan, nan), (sRCY, 0.4444444444444444, 1, 22.307493, 0.0, 0, nan, nan))</td>\n",
       "      <td>(bUGp, sRCY, O5jj)</td>\n",
       "    </tr>\n",
       "    <tr>\n",
       "      <th>1</th>\n",
       "      <td>328</td>\n",
       "      <td>((bUGp, 0.2222222222222222, 2, 22.188255, 0.033309937, 0, nan, nan), (sRCY, 0.4444444444444444, 1, 22.307493, 0.0, 0, nan, nan), (O5jj, 0.7692307692307693, 2, 22.45031, 0.04981613, 0, nan, nan))</td>\n",
       "      <td>(bUGp, sRCY, O5jj, sRCY)</td>\n",
       "    </tr>\n",
       "    <tr>\n",
       "      <th>2</th>\n",
       "      <td>328</td>\n",
       "      <td>((bUGp, 0.2222222222222222, 2, 22.188255, 0.033309937, 0, nan, nan), (sRCY, 0.4444444444444444, 1, 22.307493, 0.0, 0, nan, nan), (O5jj, 0.7692307692307693, 2, 22.45031, 0.04981613, 0, nan, nan))</td>\n",
       "      <td>(bUGp, sRCY, O5jj, sRCY)</td>\n",
       "    </tr>\n",
       "    <tr>\n",
       "      <th>3</th>\n",
       "      <td>328</td>\n",
       "      <td>((bUGp, 0.2222222222222222, 2, 22.188255, 0.033309937, 0, nan, nan), (sRCY, 0.4444444444444444, 1, 22.307493, 0.0, 0, nan, nan), (O5jj, 0.7692307692307693, 2, 22.45031, 0.04981613, 0, nan, nan))</td>\n",
       "      <td>(bUGp, sRCY, O5jj, sRCY)</td>\n",
       "    </tr>\n",
       "    <tr>\n",
       "      <th>4</th>\n",
       "      <td>328</td>\n",
       "      <td>((bUGp, 0.2222222222222222, 2, 22.188255, 0.033309937, 0, nan, nan), (sRCY, 0.4444444444444444, 1, 22.307493, 0.0, 0, nan, nan), (O5jj, 0.7692307692307693, 2, 22.45031, 0.04981613, 0, nan, nan))</td>\n",
       "      <td>(bUGp, sRCY, O5jj, sRCY)</td>\n",
       "    </tr>\n",
       "  </tbody>\n",
       "</table>\n",
       "</div>"
      ],
      "text/plain": [
       "   track_id  \\\n",
       "0       328   \n",
       "1       328   \n",
       "2       328   \n",
       "3       328   \n",
       "4       328   \n",
       "\n",
       "                                                                                                                                                                                             hist_seq  \\\n",
       "0                                                                    ((bUGp, 0.2222222222222222, 2, 22.188255, 0.033309937, 0, nan, nan), (sRCY, 0.4444444444444444, 1, 22.307493, 0.0, 0, nan, nan))   \n",
       "1  ((bUGp, 0.2222222222222222, 2, 22.188255, 0.033309937, 0, nan, nan), (sRCY, 0.4444444444444444, 1, 22.307493, 0.0, 0, nan, nan), (O5jj, 0.7692307692307693, 2, 22.45031, 0.04981613, 0, nan, nan))   \n",
       "2  ((bUGp, 0.2222222222222222, 2, 22.188255, 0.033309937, 0, nan, nan), (sRCY, 0.4444444444444444, 1, 22.307493, 0.0, 0, nan, nan), (O5jj, 0.7692307692307693, 2, 22.45031, 0.04981613, 0, nan, nan))   \n",
       "3  ((bUGp, 0.2222222222222222, 2, 22.188255, 0.033309937, 0, nan, nan), (sRCY, 0.4444444444444444, 1, 22.307493, 0.0, 0, nan, nan), (O5jj, 0.7692307692307693, 2, 22.45031, 0.04981613, 0, nan, nan))   \n",
       "4  ((bUGp, 0.2222222222222222, 2, 22.188255, 0.033309937, 0, nan, nan), (sRCY, 0.4444444444444444, 1, 22.307493, 0.0, 0, nan, nan), (O5jj, 0.7692307692307693, 2, 22.45031, 0.04981613, 0, nan, nan))   \n",
       "\n",
       "                 future_seq  \n",
       "0        (bUGp, sRCY, O5jj)  \n",
       "1  (bUGp, sRCY, O5jj, sRCY)  \n",
       "2  (bUGp, sRCY, O5jj, sRCY)  \n",
       "3  (bUGp, sRCY, O5jj, sRCY)  \n",
       "4  (bUGp, sRCY, O5jj, sRCY)  "
      ]
     },
     "execution_count": 36,
     "metadata": {},
     "output_type": "execute_result"
    }
   ],
   "source": [
    "pd.set_option('display.max_colwidth', 500)\n",
    "lane_seq_df.head()"
   ]
  },
  {
   "cell_type": "code",
   "execution_count": 37,
   "metadata": {},
   "outputs": [
    {
     "data": {
      "text/plain": [
       "<seaborn.axisgrid.JointGrid at 0x7f1280374c50>"
      ]
     },
     "execution_count": 37,
     "metadata": {},
     "output_type": "execute_result"
    },
    {
     "data": {
      "image/png": "[encoded data removed]",
      "text/plain": [
       "<Figure size 432x432 with 3 Axes>"
      ]
     },
     "metadata": {
      "needs_background": "light"
     },
     "output_type": "display_data"
    }
   ],
   "source": [
    "lane_seq_df['hist_len']  = lane_seq_df['hist_seq'].map(len)\n",
    "lane_seq_df['future_len']  = lane_seq_df['future_seq'].map(len)\n",
    "sns.jointplot(data=lane_seq_df, x=\"hist_len\", y=\"future_len\", kind=\"hex\")"
   ]
  }
 ],
 "metadata": {
  "kernelspec": {
   "display_name": "Python 3",
   "language": "python",
   "name": "python3"
  },
  "language_info": {
   "codemirror_mode": {
    "name": "ipython",
    "version": 3
   },
   "file_extension": ".py",
   "mimetype": "text/x-python",
   "name": "python",
   "nbconvert_exporter": "python",
   "pygments_lexer": "ipython3",
   "version": "3.7.8"
  }
 },
 "nbformat": 4,
 "nbformat_minor": 4
}
